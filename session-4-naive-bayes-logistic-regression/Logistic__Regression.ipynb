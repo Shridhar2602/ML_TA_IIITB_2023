{
 "cells": [
  {
   "cell_type": "markdown",
   "metadata": {},
   "source": [
    "# Linear Classification\n",
    "\n",
    "- Linear classification uses a linear decision boundary to separate different classes in a feature space.\n",
    "- In linear classification, the decision boundary is a hyperplane that separates the feature space into regions corresponding to different classes.\n",
    "- The term \"linear\" refers to the fact that this decision boundary is a linear combination of the input features.\n",
    "\n",
    "# Linear Regression\n",
    "\n",
    "- Linear regression is a fundamental machine learning technique used for predicting continuous values.\n",
    "- It models the relationship between input features and a target variable using a straight line.\n",
    "- The goal is to find the line that minimizes the difference between predicted and actual values.\n",
    "- This line is determined by coefficients for each feature and an intercept.\n",
    "- Linear regression is valuable for tasks like price prediction, sales forecasting, and trend analysis.\n",
    "\n",
    "# Logistic Regression\n",
    "\n",
    "- Logistic regression is a type of classification method used to predict discrete class labels.\n",
    "- It models the probability of an input belonging to a particular class using the logistic function.\n",
    "- The sigmoid function is used in logistic regression to introduce non-linearity and map the linear combination of features to a probability value."
   ]
  },
  {
   "cell_type": "code",
   "execution_count": 360,
   "metadata": {},
   "outputs": [],
   "source": [
    "import sys\n",
    "import numpy as np\n",
    "import pandas as pd \n",
    "import math\n",
    "import matplotlib.pyplot as plt\n",
    "import seaborn as sns\n",
    "\n",
    "from sklearn.metrics import accuracy_score, confusion_matrix, roc_auc_score, roc_curve\n",
    "\n",
    "\n",
    "df = pd.read_csv(\"currency.csv\")"
   ]
  },
  {
   "cell_type": "code",
   "execution_count": 361,
   "metadata": {},
   "outputs": [
    {
     "data": {
      "text/html": [
       "<div>\n",
       "<style scoped>\n",
       "    .dataframe tbody tr th:only-of-type {\n",
       "        vertical-align: middle;\n",
       "    }\n",
       "\n",
       "    .dataframe tbody tr th {\n",
       "        vertical-align: top;\n",
       "    }\n",
       "\n",
       "    .dataframe thead th {\n",
       "        text-align: right;\n",
       "    }\n",
       "</style>\n",
       "<table border=\"1\" class=\"dataframe\">\n",
       "  <thead>\n",
       "    <tr style=\"text-align: right;\">\n",
       "      <th></th>\n",
       "      <th>variance</th>\n",
       "      <th>skewness</th>\n",
       "      <th>curtosis</th>\n",
       "      <th>entropy</th>\n",
       "      <th>class</th>\n",
       "    </tr>\n",
       "  </thead>\n",
       "  <tbody>\n",
       "    <tr>\n",
       "      <th>0</th>\n",
       "      <td>3.62160</td>\n",
       "      <td>8.6661</td>\n",
       "      <td>-2.8073</td>\n",
       "      <td>-0.44699</td>\n",
       "      <td>0</td>\n",
       "    </tr>\n",
       "    <tr>\n",
       "      <th>1</th>\n",
       "      <td>4.54590</td>\n",
       "      <td>8.1674</td>\n",
       "      <td>-2.4586</td>\n",
       "      <td>-1.46210</td>\n",
       "      <td>0</td>\n",
       "    </tr>\n",
       "    <tr>\n",
       "      <th>2</th>\n",
       "      <td>3.86600</td>\n",
       "      <td>-2.6383</td>\n",
       "      <td>1.9242</td>\n",
       "      <td>0.10645</td>\n",
       "      <td>0</td>\n",
       "    </tr>\n",
       "    <tr>\n",
       "      <th>3</th>\n",
       "      <td>3.45660</td>\n",
       "      <td>9.5228</td>\n",
       "      <td>-4.0112</td>\n",
       "      <td>-3.59440</td>\n",
       "      <td>0</td>\n",
       "    </tr>\n",
       "    <tr>\n",
       "      <th>4</th>\n",
       "      <td>0.32924</td>\n",
       "      <td>-4.4552</td>\n",
       "      <td>4.5718</td>\n",
       "      <td>-0.98880</td>\n",
       "      <td>0</td>\n",
       "    </tr>\n",
       "  </tbody>\n",
       "</table>\n",
       "</div>"
      ],
      "text/plain": [
       "   variance  skewness  curtosis  entropy  class\n",
       "0   3.62160    8.6661   -2.8073 -0.44699      0\n",
       "1   4.54590    8.1674   -2.4586 -1.46210      0\n",
       "2   3.86600   -2.6383    1.9242  0.10645      0\n",
       "3   3.45660    9.5228   -4.0112 -3.59440      0\n",
       "4   0.32924   -4.4552    4.5718 -0.98880      0"
      ]
     },
     "execution_count": 361,
     "metadata": {},
     "output_type": "execute_result"
    }
   ],
   "source": [
    "df.head()"
   ]
  },
  {
   "cell_type": "code",
   "execution_count": 362,
   "metadata": {},
   "outputs": [
    {
     "data": {
      "text/plain": [
       "(1372, 5)"
      ]
     },
     "execution_count": 362,
     "metadata": {},
     "output_type": "execute_result"
    }
   ],
   "source": [
    "df.shape"
   ]
  },
  {
   "cell_type": "code",
   "execution_count": 363,
   "metadata": {},
   "outputs": [
    {
     "name": "stdout",
     "output_type": "stream",
     "text": [
      "No of Fake Bank Notes = 762\n"
     ]
    }
   ],
   "source": [
    "print(\"No of Fake Bank Notes = \" + str(len(df[df['class'] == 0])))"
   ]
  },
  {
   "cell_type": "code",
   "execution_count": 364,
   "metadata": {},
   "outputs": [
    {
     "name": "stdout",
     "output_type": "stream",
     "text": [
      "No of Authentic bank notes = 610\n"
     ]
    }
   ],
   "source": [
    "print(\"No of Authentic bank notes = \" + str(len(df[df['class'] == 1])))"
   ]
  },
  {
   "cell_type": "code",
   "execution_count": 365,
   "metadata": {},
   "outputs": [
    {
     "name": "stdout",
     "output_type": "stream",
     "text": [
      "Our features :\n"
     ]
    },
    {
     "data": {
      "text/plain": [
       "['variance', 'skewness', 'curtosis', 'entropy']"
      ]
     },
     "execution_count": 365,
     "metadata": {},
     "output_type": "execute_result"
    }
   ],
   "source": [
    "features=list(df.columns[:-1])\n",
    "print(\"Our features :\"  )\n",
    "features"
   ]
  },
  {
   "cell_type": "code",
   "execution_count": 366,
   "metadata": {},
   "outputs": [],
   "source": [
    "X = df[features]\n",
    "y = df['class']"
   ]
  },
  {
   "cell_type": "code",
   "execution_count": 367,
   "metadata": {},
   "outputs": [
    {
     "name": "stdout",
     "output_type": "stream",
     "text": [
      "Class labels: [0 1]\n"
     ]
    }
   ],
   "source": [
    "print('Class labels:', np.unique(y))"
   ]
  },
  {
   "cell_type": "code",
   "execution_count": 368,
   "metadata": {},
   "outputs": [],
   "source": [
    "from sklearn.model_selection import train_test_split  #train-test split...\n",
    "\n",
    "\n",
    "X_train, X_test, y_train, y_test = train_test_split(\n",
    "         X, y, test_size=0.3, random_state=0)"
   ]
  },
  {
   "cell_type": "code",
   "execution_count": 369,
   "metadata": {},
   "outputs": [],
   "source": [
    "from sklearn.preprocessing import StandardScaler #Standardization for scaling...\n",
    " \n",
    "sc = StandardScaler()\n",
    "sc.fit(X_train)\n",
    "X_train_std = sc.transform(X_train)\n",
    "X_test_std = sc.transform(X_test)"
   ]
  },
  {
   "cell_type": "code",
   "execution_count": 370,
   "metadata": {},
   "outputs": [
    {
     "data": {
      "image/png": "[encoded data removed]",
      "text/plain": [
       "<Figure size 640x480 with 1 Axes>"
      ]
     },
     "metadata": {},
     "output_type": "display_data"
    }
   ],
   "source": [
    "def sigmoid(z):\n",
    "    return 1.0 / (1.0 + np.exp(-z))\n",
    "\n",
    "z = np.arange(-7, 7, 0.1)\n",
    "phi_z = sigmoid(z)\n",
    "\n",
    "plt.plot(z, phi_z)\n",
    "plt.axvline(0.0, color='k')\n",
    "plt.ylim(-0.1, 1.1)\n",
    "plt.xlabel('z')\n",
    "plt.ylabel('$\\phi (z)$')\n",
    "\n",
    "# y axis ticks and gridline\n",
    "plt.yticks([0.0, 0.5, 1.0])\n",
    "ax = plt.gca()\n",
    "ax.yaxis.grid(True)\n",
    "\n",
    "plt.tight_layout()\n",
    "# plt.savefig('./figures/sigmoid.png', dpi=300)\n",
    "plt.show()"
   ]
  },
  {
   "cell_type": "code",
   "execution_count": 371,
   "metadata": {},
   "outputs": [
    {
     "data": {
      "image/png": "[encoded data removed]",
      "text/plain": [
       "<Figure size 640x480 with 1 Axes>"
      ]
     },
     "metadata": {},
     "output_type": "display_data"
    }
   ],
   "source": [
    "def cost_1(z):\n",
    "    return - np.log(sigmoid(z))\n",
    "\n",
    "\n",
    "def cost_0(z):\n",
    "    return - np.log(1 - sigmoid(z))\n",
    "\n",
    "z = np.arange(-10, 10, 0.1)\n",
    "phi_z = sigmoid(z)\n",
    "\n",
    "c1 = [cost_1(x) for x in z]\n",
    "plt.plot(phi_z, c1, label='J(w) if y=1')\n",
    "\n",
    "c0 = [cost_0(x) for x in z]\n",
    "plt.plot(phi_z, c0, linestyle='--', label='J(w) if y=0')\n",
    "\n",
    "plt.ylim(0.0, 5.1)\n",
    "plt.xlim([0, 1])\n",
    "plt.xlabel('$\\phi$(z)')\n",
    "plt.ylabel('J(w)')\n",
    "plt.legend(loc='best')\n",
    "plt.tight_layout()\n",
    "# plt.savefig('./figures/log_cost.png', dpi=300)\n",
    "plt.show()"
   ]
  },
  {
   "cell_type": "code",
   "execution_count": 372,
   "metadata": {},
   "outputs": [
    {
     "data": {
      "text/html": [
       "<style>#sk-container-id-29 {color: black;background-color: white;}#sk-container-id-29 pre{padding: 0;}#sk-container-id-29 div.sk-toggleable {background-color: white;}#sk-container-id-29 label.sk-toggleable__label {cursor: pointer;display: block;width: 100%;margin-bottom: 0;padding: 0.3em;box-sizing: border-box;text-align: center;}#sk-container-id-29 label.sk-toggleable__label-arrow:before {content: \"▸\";float: left;margin-right: 0.25em;color: #696969;}#sk-container-id-29 label.sk-toggleable__label-arrow:hover:before {color: black;}#sk-container-id-29 div.sk-estimator:hover label.sk-toggleable__label-arrow:before {color: black;}#sk-container-id-29 div.sk-toggleable__content {max-height: 0;max-width: 0;overflow: hidden;text-align: left;background-color: #f0f8ff;}#sk-container-id-29 div.sk-toggleable__content pre {margin: 0.2em;color: black;border-radius: 0.25em;background-color: #f0f8ff;}#sk-container-id-29 input.sk-toggleable__control:checked~div.sk-toggleable__content {max-height: 200px;max-width: 100%;overflow: auto;}#sk-container-id-29 input.sk-toggleable__control:checked~label.sk-toggleable__label-arrow:before {content: \"▾\";}#sk-container-id-29 div.sk-estimator input.sk-toggleable__control:checked~label.sk-toggleable__label {background-color: #d4ebff;}#sk-container-id-29 div.sk-label input.sk-toggleable__control:checked~label.sk-toggleable__label {background-color: #d4ebff;}#sk-container-id-29 input.sk-hidden--visually {border: 0;clip: rect(1px 1px 1px 1px);clip: rect(1px, 1px, 1px, 1px);height: 1px;margin: -1px;overflow: hidden;padding: 0;position: absolute;width: 1px;}#sk-container-id-29 div.sk-estimator {font-family: monospace;background-color: #f0f8ff;border: 1px dotted black;border-radius: 0.25em;box-sizing: border-box;margin-bottom: 0.5em;}#sk-container-id-29 div.sk-estimator:hover {background-color: #d4ebff;}#sk-container-id-29 div.sk-parallel-item::after {content: \"\";width: 100%;border-bottom: 1px solid gray;flex-grow: 1;}#sk-container-id-29 div.sk-label:hover label.sk-toggleable__label {background-color: #d4ebff;}#sk-container-id-29 div.sk-serial::before {content: \"\";position: absolute;border-left: 1px solid gray;box-sizing: border-box;top: 0;bottom: 0;left: 50%;z-index: 0;}#sk-container-id-29 div.sk-serial {display: flex;flex-direction: column;align-items: center;background-color: white;padding-right: 0.2em;padding-left: 0.2em;position: relative;}#sk-container-id-29 div.sk-item {position: relative;z-index: 1;}#sk-container-id-29 div.sk-parallel {display: flex;align-items: stretch;justify-content: center;background-color: white;position: relative;}#sk-container-id-29 div.sk-item::before, #sk-container-id-29 div.sk-parallel-item::before {content: \"\";position: absolute;border-left: 1px solid gray;box-sizing: border-box;top: 0;bottom: 0;left: 50%;z-index: -1;}#sk-container-id-29 div.sk-parallel-item {display: flex;flex-direction: column;z-index: 1;position: relative;background-color: white;}#sk-container-id-29 div.sk-parallel-item:first-child::after {align-self: flex-end;width: 50%;}#sk-container-id-29 div.sk-parallel-item:last-child::after {align-self: flex-start;width: 50%;}#sk-container-id-29 div.sk-parallel-item:only-child::after {width: 0;}#sk-container-id-29 div.sk-dashed-wrapped {border: 1px dashed gray;margin: 0 0.4em 0.5em 0.4em;box-sizing: border-box;padding-bottom: 0.4em;background-color: white;}#sk-container-id-29 div.sk-label label {font-family: monospace;font-weight: bold;display: inline-block;line-height: 1.2em;}#sk-container-id-29 div.sk-label-container {text-align: center;}#sk-container-id-29 div.sk-container {/* jupyter's `normalize.less` sets `[hidden] { display: none; }` but bootstrap.min.css set `[hidden] { display: none !important; }` so we also need the `!important` here to be able to override the default hidden behavior on the sphinx rendered scikit-learn.org. See: https://github.com/scikit-learn/scikit-learn/issues/21755 */display: inline-block !important;position: relative;}#sk-container-id-29 div.sk-text-repr-fallback {display: none;}</style><div id=\"sk-container-id-29\" class=\"sk-top-container\"><div class=\"sk-text-repr-fallback\"><pre>LogisticRegression(C=1000.0, random_state=0)</pre><b>In a Jupyter environment, please rerun this cell to show the HTML representation or trust the notebook. <br />On GitHub, the HTML representation is unable to render, please try loading this page with nbviewer.org.</b></div><div class=\"sk-container\" hidden><div class=\"sk-item\"><div class=\"sk-estimator sk-toggleable\"><input class=\"sk-toggleable__control sk-hidden--visually\" id=\"sk-estimator-id-29\" type=\"checkbox\" checked><label for=\"sk-estimator-id-29\" class=\"sk-toggleable__label sk-toggleable__label-arrow\">LogisticRegression</label><div class=\"sk-toggleable__content\"><pre>LogisticRegression(C=1000.0, random_state=0)</pre></div></div></div></div></div>"
      ],
      "text/plain": [
       "LogisticRegression(C=1000.0, random_state=0)"
      ]
     },
     "execution_count": 372,
     "metadata": {},
     "output_type": "execute_result"
    }
   ],
   "source": [
    "from sklearn.linear_model import LogisticRegression\n",
    "\n",
    "lr = LogisticRegression(C=1000.0, random_state=0)\n",
    "\n",
    "lr.fit(X_train_std, y_train)"
   ]
  },
  {
   "cell_type": "code",
   "execution_count": 373,
   "metadata": {},
   "outputs": [
    {
     "data": {
      "text/plain": [
       "(412,)"
      ]
     },
     "execution_count": 373,
     "metadata": {},
     "output_type": "execute_result"
    }
   ],
   "source": [
    "y_test.shape"
   ]
  },
  {
   "cell_type": "code",
   "execution_count": 374,
   "metadata": {},
   "outputs": [
    {
     "name": "stdout",
     "output_type": "stream",
     "text": [
      "Misclassified samples: 8\n"
     ]
    }
   ],
   "source": [
    "y_pred = lr.predict(X_test_std)\n",
    "print('Misclassified samples: %d' % (y_test != y_pred).sum())"
   ]
  },
  {
   "cell_type": "code",
   "execution_count": 375,
   "metadata": {},
   "outputs": [],
   "source": [
    "from sklearn.metrics import confusion_matrix\n",
    "import matplotlib.pyplot as plt\n",
    "%matplotlib inline"
   ]
  },
  {
   "cell_type": "markdown",
   "metadata": {},
   "source": [
    "# Confusion Matrix\n",
    "\n",
    "The confusion matrix is a fundamental tool for evaluating the performance of classification models. It provides a clear and detailed breakdown of how well the model's predictions align with actual class labels.\n",
    "\n",
    "## Basics of Confusion Matrix\n",
    "\n",
    "- A confusion matrix is a table that presents the results of a classification problem.\n",
    "- It consists of four values:\n",
    "  - True Positive (TP): Correctly predicted positive instances.\n",
    "  - True Negative (TN): Correctly predicted negative instances.\n",
    "  - False Positive (FP): Incorrectly predicted positive instances (Type I error).\n",
    "  - False Negative (FN): Incorrectly predicted negative instances (Type II error).\n",
    "\n",
    "## Interpretation\n",
    "\n",
    "- The confusion matrix helps understand the types of errors a model makes.\n",
    "- Precision: TP / (TP + FP) - Measures the accuracy of positive predictions.\n",
    "- Recall (Sensitivity or True Positive Rate): TP / (TP + FN) - Measures the ability to identify all positive instances.\n",
    "- F1-score: 2 * (Precision * Recall) / (Precision + Recall) - A balanced measure of precision and recall.\n",
    "\n",
    "## Use Cases\n",
    "\n",
    "- The confusion matrix is used for various classification tasks:\n",
    "  - Medical diagnoses: Detecting diseases based on test results.\n",
    "  - Fraud detection: Identifying fraudulent transactions.\n",
    "  - Image classification: Recognizing objects or patterns.\n",
    "\n",
    "## Visualizing the Confusion Matrix\n",
    "\n",
    "- Heatmaps and visualizations can enhance understanding of the confusion matrix.\n",
    "- Libraries like `matplotlib` can help create informative visual representations.\n",
    "\n",
    "## Conclusion\n",
    "\n",
    "The confusion matrix is a vital tool to assess the performance of classification models. By analyzing TP, TN, FP, and FN, we can derive metrics that offer insights into the model's strengths and weaknesses.\n"
   ]
  },
  {
   "cell_type": "code",
   "execution_count": 376,
   "metadata": {},
   "outputs": [
    {
     "name": "stdout",
     "output_type": "stream",
     "text": [
      "[[224   8]\n",
      " [  0 180]]\n"
     ]
    },
    {
     "data": {
      "image/png": "[encoded data removed]",
      "text/plain": [
       "<Figure size 480x480 with 2 Axes>"
      ]
     },
     "metadata": {},
     "output_type": "display_data"
    }
   ],
   "source": [
    "confusion_matrix = confusion_matrix(y_test, y_pred)\n",
    "print(confusion_matrix)\n",
    "plt.matshow(confusion_matrix)\n",
    "plt.title('Confusion matrix')\n",
    "plt.colorbar()\n",
    "plt.ylabel('True label')\n",
    "plt.xlabel('Predicted label')\n",
    "plt.show()"
   ]
  },
  {
   "cell_type": "markdown",
   "metadata": {},
   "source": [
    "# Accuracy Score in Classification\n",
    "\n",
    "Accuracy score is a metric that measures the proportion of correct predictions made by a classification model among all predictions.\n",
    "\n",
    "- **Calculation**: Accuracy = (Number of Correct Predictions) / (Total Number of Predictions)\n",
    "- **Interpretation**: High accuracy indicates well-aligned predictions with actual class labels.\n",
    "- **Considerations**: Accuracy works best when classes are balanced, but can be misleading in imbalanced datasets.\n",
    "- **Use Cases**: Commonly used to quickly assess overall model performance in classification tasks.\n",
    "\n",
    "Accuracy score provides a straightforward evaluation of model predictions, but caution is needed when dealing with imbalanced data.\n"
   ]
  },
  {
   "cell_type": "code",
   "execution_count": 377,
   "metadata": {},
   "outputs": [
    {
     "name": "stdout",
     "output_type": "stream",
     "text": [
      "Accuracy: 0.98\n"
     ]
    }
   ],
   "source": [
    "from sklearn.metrics import accuracy_score\n",
    "print('Accuracy: %.2f' % accuracy_score(y_test, y_pred))"
   ]
  },
  {
   "cell_type": "code",
   "execution_count": 378,
   "metadata": {},
   "outputs": [
    {
     "data": {
      "text/plain": [
       "array([[3.56408585e-06, 9.99996436e-01],\n",
       "       [1.00000000e+00, 3.07097017e-14],\n",
       "       [4.84796803e-09, 9.99999995e-01],\n",
       "       [1.00000000e+00, 2.41157432e-15],\n",
       "       [1.00000000e+00, 1.07572565e-16],\n",
       "       [1.00000000e+00, 1.27737277e-12],\n",
       "       [1.00000000e+00, 5.11438231e-17],\n",
       "       [1.00000000e+00, 4.23799190e-13],\n",
       "       [1.85269843e-05, 9.99981473e-01],\n",
       "       [1.30779329e-05, 9.99986922e-01],\n",
       "       [1.00000000e+00, 1.84781368e-12],\n",
       "       [1.00000000e+00, 2.09851513e-20],\n",
       "       [2.39171255e-08, 9.99999976e-01],\n",
       "       [1.00000000e+00, 6.01583132e-21],\n",
       "       [1.00000000e+00, 1.27525048e-14],\n",
       "       [1.00000000e+00, 1.38664168e-15],\n",
       "       [1.08801856e-12, 1.00000000e+00],\n",
       "       [1.17421938e-06, 9.99998826e-01],\n",
       "       [1.00000000e+00, 2.22472210e-15],\n",
       "       [1.00000000e+00, 1.00116944e-14],\n",
       "       [3.57186684e-04, 9.99642813e-01],\n",
       "       [9.99999751e-01, 2.49166182e-07],\n",
       "       [1.00000000e+00, 3.29929624e-19],\n",
       "       [1.75926481e-05, 9.99982407e-01],\n",
       "       [9.42477273e-01, 5.75227274e-02],\n",
       "       [9.64984667e-06, 9.99990350e-01],\n",
       "       [1.00000000e+00, 6.35702592e-15],\n",
       "       [2.51346757e-08, 9.99999975e-01],\n",
       "       [9.99999695e-01, 3.04743326e-07],\n",
       "       [1.00000000e+00, 2.37892863e-11],\n",
       "       [5.15187822e-05, 9.99948481e-01],\n",
       "       [9.99037745e-01, 9.62255328e-04],\n",
       "       [3.98380859e-03, 9.96016191e-01],\n",
       "       [2.00059791e-09, 9.99999998e-01],\n",
       "       [4.07052769e-09, 9.99999996e-01],\n",
       "       [1.00000000e+00, 3.59770976e-13],\n",
       "       [1.00000000e+00, 7.18834409e-13],\n",
       "       [5.66208310e-07, 9.99999434e-01],\n",
       "       [9.99999999e-01, 6.97405968e-10],\n",
       "       [7.62136396e-08, 9.99999924e-01],\n",
       "       [1.36671764e-01, 8.63328236e-01],\n",
       "       [4.55862459e-10, 1.00000000e+00],\n",
       "       [1.00000000e+00, 2.77115656e-15],\n",
       "       [9.99999968e-01, 3.16284963e-08],\n",
       "       [5.93793112e-07, 9.99999406e-01],\n",
       "       [7.77103831e-04, 9.99222896e-01],\n",
       "       [1.00000000e+00, 1.97403841e-16],\n",
       "       [1.00000000e+00, 1.00758645e-12],\n",
       "       [2.79462031e-09, 9.99999997e-01],\n",
       "       [1.00000000e+00, 1.16329597e-11],\n",
       "       [1.00000000e+00, 1.75239970e-15],\n",
       "       [9.83657600e-14, 1.00000000e+00],\n",
       "       [1.00000000e+00, 2.04413558e-11],\n",
       "       [3.24890359e-09, 9.99999997e-01],\n",
       "       [8.56359758e-05, 9.99914364e-01],\n",
       "       [1.00000000e+00, 2.71890209e-16],\n",
       "       [4.07596233e-05, 9.99959240e-01],\n",
       "       [6.21469934e-07, 9.99999379e-01],\n",
       "       [1.00000000e+00, 1.41086597e-15],\n",
       "       [1.10604415e-10, 1.00000000e+00],\n",
       "       [2.29743990e-07, 9.99999770e-01],\n",
       "       [1.00000000e+00, 1.57039154e-15],\n",
       "       [1.00000000e+00, 3.19945939e-11],\n",
       "       [1.00000000e+00, 2.54266124e-19],\n",
       "       [1.00000000e+00, 1.03931255e-10],\n",
       "       [1.66190497e-06, 9.99998338e-01],\n",
       "       [6.00110125e-05, 9.99939989e-01],\n",
       "       [6.27807455e-07, 9.99999372e-01],\n",
       "       [7.24979326e-04, 9.99275021e-01],\n",
       "       [1.00000000e+00, 4.06191931e-14],\n",
       "       [4.59378509e-02, 9.54062149e-01],\n",
       "       [1.00000000e+00, 1.18042511e-17],\n",
       "       [1.58428826e-12, 1.00000000e+00],\n",
       "       [1.00000000e+00, 3.77316239e-10],\n",
       "       [4.99175725e-01, 5.00824275e-01],\n",
       "       [1.97417638e-11, 1.00000000e+00],\n",
       "       [1.00000000e+00, 1.86674201e-17],\n",
       "       [1.00000000e+00, 9.47097531e-17],\n",
       "       [1.00000000e+00, 2.27013592e-12],\n",
       "       [1.00000000e+00, 2.62733635e-17],\n",
       "       [2.20508661e-06, 9.99997795e-01],\n",
       "       [8.64033101e-09, 9.99999991e-01],\n",
       "       [1.00000000e+00, 2.52039212e-15],\n",
       "       [1.00000000e+00, 4.99254981e-16],\n",
       "       [1.88616053e-05, 9.99981138e-01],\n",
       "       [5.16628410e-07, 9.99999483e-01],\n",
       "       [1.00000000e+00, 3.87779191e-17],\n",
       "       [1.00000000e+00, 5.23912168e-14],\n",
       "       [1.00000000e+00, 3.10119503e-18],\n",
       "       [1.00000000e+00, 3.59438747e-13],\n",
       "       [1.00000000e+00, 3.68440985e-13],\n",
       "       [1.26947910e-05, 9.99987305e-01],\n",
       "       [1.29537696e-06, 9.99998705e-01],\n",
       "       [6.38238865e-06, 9.99993618e-01],\n",
       "       [4.17276171e-08, 9.99999958e-01],\n",
       "       [1.00000000e+00, 3.82526767e-11],\n",
       "       [1.00000000e+00, 1.80866349e-16],\n",
       "       [1.00000000e+00, 1.42718991e-12],\n",
       "       [5.70549120e-07, 9.99999429e-01],\n",
       "       [2.07722728e-12, 1.00000000e+00],\n",
       "       [1.00000000e+00, 2.34642787e-15],\n",
       "       [4.64778239e-04, 9.99535222e-01],\n",
       "       [1.00000000e+00, 3.68145795e-17],\n",
       "       [3.37319193e-01, 6.62680807e-01],\n",
       "       [1.00000000e+00, 1.25068219e-11],\n",
       "       [1.24377391e-04, 9.99875623e-01],\n",
       "       [1.00000000e+00, 5.39018255e-13],\n",
       "       [1.22184430e-04, 9.99877816e-01],\n",
       "       [1.97797334e-10, 1.00000000e+00],\n",
       "       [2.03492192e-08, 9.99999980e-01],\n",
       "       [1.00000000e+00, 2.61354991e-14],\n",
       "       [7.50621787e-12, 1.00000000e+00],\n",
       "       [9.99999998e-01, 2.33448542e-09],\n",
       "       [1.00000000e+00, 6.03040555e-12],\n",
       "       [1.70459021e-08, 9.99999983e-01],\n",
       "       [1.00000000e+00, 1.80565565e-13],\n",
       "       [1.00000000e+00, 7.17004164e-14],\n",
       "       [1.00000000e+00, 9.76385073e-12],\n",
       "       [2.39938290e-08, 9.99999976e-01],\n",
       "       [3.35043104e-11, 1.00000000e+00],\n",
       "       [1.00000000e+00, 3.08184900e-14],\n",
       "       [1.00000000e+00, 2.24779072e-21],\n",
       "       [3.26034697e-02, 9.67396530e-01],\n",
       "       [1.35343070e-10, 1.00000000e+00],\n",
       "       [5.01170697e-02, 9.49882930e-01],\n",
       "       [2.25556818e-09, 9.99999998e-01],\n",
       "       [1.96244629e-04, 9.99803755e-01],\n",
       "       [1.00000000e+00, 4.43002706e-15],\n",
       "       [1.24816270e-02, 9.87518373e-01],\n",
       "       [1.00000000e+00, 1.80060020e-10],\n",
       "       [1.00000000e+00, 2.07846915e-10],\n",
       "       [1.00000000e+00, 7.76820768e-13],\n",
       "       [1.00000000e+00, 5.77880511e-21],\n",
       "       [4.99175725e-01, 5.00824275e-01],\n",
       "       [1.00000000e+00, 3.21538903e-10],\n",
       "       [4.76353457e-07, 9.99999524e-01],\n",
       "       [1.00000000e+00, 2.38552930e-11],\n",
       "       [1.00000000e+00, 1.88798249e-19],\n",
       "       [1.00000000e+00, 3.63548983e-17],\n",
       "       [1.00000000e+00, 5.00088707e-11],\n",
       "       [7.86734054e-05, 9.99921327e-01],\n",
       "       [1.00000000e+00, 7.85856913e-19],\n",
       "       [6.25629365e-08, 9.99999937e-01],\n",
       "       [8.18212358e-08, 9.99999918e-01],\n",
       "       [1.00000000e+00, 1.48194490e-12],\n",
       "       [1.00000000e+00, 2.32104606e-15],\n",
       "       [6.25188030e-02, 9.37481197e-01],\n",
       "       [1.00000000e+00, 3.26885718e-12],\n",
       "       [1.00000000e+00, 1.99404221e-19],\n",
       "       [8.74382841e-08, 9.99999913e-01],\n",
       "       [9.99999999e-01, 1.02607283e-09],\n",
       "       [1.00000000e+00, 3.67992839e-12],\n",
       "       [1.00000000e+00, 2.50025681e-16],\n",
       "       [1.00000000e+00, 1.19422569e-13],\n",
       "       [3.42903683e-09, 9.99999997e-01],\n",
       "       [1.00000000e+00, 3.48743074e-10],\n",
       "       [2.32794627e-03, 9.97672054e-01],\n",
       "       [1.00000000e+00, 5.21370169e-15],\n",
       "       [1.16366884e-07, 9.99999884e-01],\n",
       "       [1.00000000e+00, 2.26761361e-12],\n",
       "       [1.00000000e+00, 2.85202448e-15],\n",
       "       [8.05815894e-08, 9.99999919e-01],\n",
       "       [1.00000000e+00, 4.65917191e-15],\n",
       "       [6.18206775e-08, 9.99999938e-01],\n",
       "       [1.00000000e+00, 5.95927871e-12],\n",
       "       [1.60643927e-03, 9.98393561e-01],\n",
       "       [6.23511759e-08, 9.99999938e-01],\n",
       "       [1.00000000e+00, 7.68716353e-15],\n",
       "       [2.59121630e-02, 9.74087837e-01],\n",
       "       [2.43988407e-04, 9.99756012e-01],\n",
       "       [1.00000000e+00, 3.66705689e-16],\n",
       "       [5.61222369e-07, 9.99999439e-01],\n",
       "       [1.04145716e-07, 9.99999896e-01],\n",
       "       [1.58248461e-04, 9.99841752e-01],\n",
       "       [1.50961466e-10, 1.00000000e+00],\n",
       "       [1.00000000e+00, 8.95054132e-16],\n",
       "       [1.00000000e+00, 6.75216635e-11],\n",
       "       [1.00000000e+00, 8.63252164e-17],\n",
       "       [2.09148254e-11, 1.00000000e+00],\n",
       "       [3.37235609e-05, 9.99966276e-01],\n",
       "       [1.00000000e+00, 3.50982574e-12],\n",
       "       [1.93798367e-08, 9.99999981e-01],\n",
       "       [1.00000000e+00, 4.01533311e-12],\n",
       "       [1.00000000e+00, 5.56367126e-14],\n",
       "       [1.00000000e+00, 9.82614447e-13],\n",
       "       [3.39839268e-12, 1.00000000e+00],\n",
       "       [1.00000000e+00, 1.09506929e-11],\n",
       "       [2.50071131e-07, 9.99999750e-01],\n",
       "       [5.54666891e-06, 9.99994453e-01],\n",
       "       [9.99973308e-01, 2.66922894e-05],\n",
       "       [4.99193009e-01, 5.00806991e-01],\n",
       "       [1.00000000e+00, 5.16948829e-14],\n",
       "       [5.51108333e-08, 9.99999945e-01],\n",
       "       [1.00000000e+00, 7.60993616e-14],\n",
       "       [6.00631669e-08, 9.99999940e-01],\n",
       "       [1.00000000e+00, 2.31445329e-16],\n",
       "       [1.00000000e+00, 3.34524720e-16],\n",
       "       [1.00000000e+00, 2.11721042e-15],\n",
       "       [1.91647530e-02, 9.80835247e-01],\n",
       "       [4.36502190e-04, 9.99563498e-01],\n",
       "       [1.00000000e+00, 5.22710772e-12],\n",
       "       [1.00000000e+00, 1.70953892e-10],\n",
       "       [1.00000000e+00, 3.84331733e-21],\n",
       "       [1.00000000e+00, 4.10060951e-18],\n",
       "       [1.00000000e+00, 7.48808016e-12],\n",
       "       [9.99999912e-01, 8.75826523e-08],\n",
       "       [1.00000000e+00, 2.19350983e-18],\n",
       "       [1.00000000e+00, 5.78101229e-12],\n",
       "       [2.63915773e-03, 9.97360842e-01],\n",
       "       [1.00000000e+00, 1.57623405e-15],\n",
       "       [1.00000000e+00, 9.31626166e-19],\n",
       "       [2.49287348e-05, 9.99975071e-01],\n",
       "       [1.00000000e+00, 7.23212793e-15],\n",
       "       [1.00000000e+00, 4.09513424e-15],\n",
       "       [1.00000000e+00, 3.43118912e-21],\n",
       "       [2.19724375e-05, 9.99978028e-01],\n",
       "       [8.55196369e-03, 9.91448036e-01],\n",
       "       [1.00000000e+00, 1.10751855e-12],\n",
       "       [9.99999939e-01, 6.11064109e-08],\n",
       "       [1.00000000e+00, 7.90666195e-14],\n",
       "       [9.99999999e-01, 8.07675832e-10],\n",
       "       [1.00000000e+00, 1.00565418e-13],\n",
       "       [1.00000000e+00, 1.17373382e-15],\n",
       "       [1.00000000e+00, 3.16819774e-15],\n",
       "       [1.00000000e+00, 1.08295813e-13],\n",
       "       [5.42270273e-09, 9.99999995e-01],\n",
       "       [1.20042950e-03, 9.98799570e-01],\n",
       "       [1.00000000e+00, 1.16638977e-10],\n",
       "       [1.00000000e+00, 2.46871105e-11],\n",
       "       [1.00000000e+00, 1.02899888e-13],\n",
       "       [1.00000000e+00, 1.44375196e-13],\n",
       "       [1.89440008e-05, 9.99981056e-01],\n",
       "       [3.91404296e-07, 9.99999609e-01],\n",
       "       [1.00000000e+00, 1.25156021e-14],\n",
       "       [2.27124763e-07, 9.99999773e-01],\n",
       "       [1.23736387e-07, 9.99999876e-01],\n",
       "       [1.00000000e+00, 3.32092921e-13],\n",
       "       [8.59256049e-01, 1.40743951e-01],\n",
       "       [8.58573412e-02, 9.14142659e-01],\n",
       "       [6.68664502e-09, 9.99999993e-01],\n",
       "       [1.00000000e+00, 2.42075555e-12],\n",
       "       [1.42329704e-10, 1.00000000e+00],\n",
       "       [1.19435549e-06, 9.99998806e-01],\n",
       "       [1.00000000e+00, 5.51688342e-16],\n",
       "       [2.79287447e-06, 9.99997207e-01],\n",
       "       [1.00000000e+00, 2.33673576e-14],\n",
       "       [1.00000000e+00, 3.06173353e-20],\n",
       "       [1.00000000e+00, 4.51971599e-15],\n",
       "       [1.00000000e+00, 1.33173138e-15],\n",
       "       [1.00000000e+00, 2.81161107e-14],\n",
       "       [9.97005079e-01, 2.99492094e-03],\n",
       "       [7.04653012e-04, 9.99295347e-01],\n",
       "       [9.99999778e-01, 2.21738595e-07],\n",
       "       [2.93109981e-11, 1.00000000e+00],\n",
       "       [4.10992339e-08, 9.99999959e-01],\n",
       "       [1.00000000e+00, 4.97281919e-11],\n",
       "       [1.00000000e+00, 1.91866875e-11],\n",
       "       [1.39155314e-05, 9.99986084e-01],\n",
       "       [1.50243804e-04, 9.99849756e-01],\n",
       "       [9.60300217e-02, 9.03969978e-01],\n",
       "       [1.00000000e+00, 2.28778881e-15],\n",
       "       [1.00000000e+00, 1.03457195e-16],\n",
       "       [9.99999984e-01, 1.64012763e-08],\n",
       "       [1.93505878e-10, 1.00000000e+00],\n",
       "       [1.00000000e+00, 1.65904022e-12],\n",
       "       [1.00000000e+00, 1.10606498e-15],\n",
       "       [2.23843059e-05, 9.99977616e-01],\n",
       "       [8.53486844e-04, 9.99146513e-01],\n",
       "       [1.00000000e+00, 1.76090580e-15],\n",
       "       [5.50568041e-08, 9.99999945e-01],\n",
       "       [5.05303358e-06, 9.99994947e-01],\n",
       "       [1.00000000e+00, 3.13018262e-11],\n",
       "       [4.91748864e-11, 1.00000000e+00],\n",
       "       [9.07450270e-07, 9.99999093e-01],\n",
       "       [1.60486095e-07, 9.99999840e-01],\n",
       "       [1.34854774e-05, 9.99986515e-01],\n",
       "       [7.25180085e-07, 9.99999275e-01],\n",
       "       [8.37336129e-07, 9.99999163e-01],\n",
       "       [9.96476583e-01, 3.52341674e-03],\n",
       "       [1.00000000e+00, 1.07477162e-16],\n",
       "       [1.39878036e-08, 9.99999986e-01],\n",
       "       [6.61659736e-05, 9.99933834e-01],\n",
       "       [3.41564554e-11, 1.00000000e+00],\n",
       "       [1.00000000e+00, 2.71539958e-17],\n",
       "       [2.43445392e-04, 9.99756555e-01],\n",
       "       [1.00000000e+00, 1.57099777e-15],\n",
       "       [4.52456677e-02, 9.54754332e-01],\n",
       "       [9.99999999e-01, 5.07072319e-10],\n",
       "       [1.00000000e+00, 4.23356649e-17],\n",
       "       [3.16238332e-08, 9.99999968e-01],\n",
       "       [4.73287665e-08, 9.99999953e-01],\n",
       "       [5.64214393e-02, 9.43578561e-01],\n",
       "       [1.00000000e+00, 3.62812499e-14],\n",
       "       [3.43850291e-05, 9.99965615e-01],\n",
       "       [3.37257378e-01, 6.62742622e-01],\n",
       "       [1.00000000e+00, 1.33093686e-12],\n",
       "       [9.99999250e-01, 7.50187240e-07],\n",
       "       [1.00000000e+00, 4.41389433e-10],\n",
       "       [9.91367594e-08, 9.99999901e-01],\n",
       "       [1.00000000e+00, 1.10863923e-15],\n",
       "       [1.00000000e+00, 9.98827225e-15],\n",
       "       [4.86941598e-11, 1.00000000e+00],\n",
       "       [1.00000000e+00, 1.90254698e-16],\n",
       "       [4.30687336e-05, 9.99956931e-01],\n",
       "       [4.67606869e-05, 9.99953239e-01],\n",
       "       [2.01060570e-05, 9.99979894e-01],\n",
       "       [3.37257378e-01, 6.62742622e-01],\n",
       "       [1.00000000e+00, 3.19224619e-16],\n",
       "       [1.00000000e+00, 7.43634063e-11],\n",
       "       [1.00000000e+00, 8.26707839e-11],\n",
       "       [1.00000000e+00, 2.02491255e-14],\n",
       "       [1.00000000e+00, 7.14115194e-17],\n",
       "       [5.89117046e-06, 9.99994109e-01],\n",
       "       [1.00000000e+00, 7.70728821e-20],\n",
       "       [1.00000000e+00, 2.89856952e-14],\n",
       "       [1.18616383e-02, 9.88138362e-01],\n",
       "       [5.25070259e-08, 9.99999947e-01],\n",
       "       [1.68673703e-08, 9.99999983e-01],\n",
       "       [1.00000000e+00, 1.42696535e-12],\n",
       "       [1.00000000e+00, 5.58019541e-11],\n",
       "       [1.36671764e-01, 8.63328236e-01],\n",
       "       [7.61599985e-01, 2.38400015e-01],\n",
       "       [7.81962972e-06, 9.99992180e-01],\n",
       "       [6.13779743e-05, 9.99938622e-01],\n",
       "       [1.00000000e+00, 7.82318919e-11],\n",
       "       [8.04831757e-11, 1.00000000e+00],\n",
       "       [1.00000000e+00, 3.15079119e-11],\n",
       "       [8.43042067e-06, 9.99991570e-01],\n",
       "       [1.28325962e-04, 9.99871674e-01],\n",
       "       [1.00000000e+00, 3.26591215e-14],\n",
       "       [1.00000000e+00, 2.18495945e-11],\n",
       "       [9.99999996e-01, 4.05746951e-09],\n",
       "       [1.09023901e-13, 1.00000000e+00],\n",
       "       [1.72843404e-07, 9.99999827e-01],\n",
       "       [1.00000000e+00, 2.18093517e-17],\n",
       "       [2.83366037e-07, 9.99999717e-01],\n",
       "       [1.00000000e+00, 2.33533256e-12],\n",
       "       [1.00000000e+00, 3.04319912e-15],\n",
       "       [8.92619312e-13, 1.00000000e+00],\n",
       "       [1.00000000e+00, 2.21305424e-15],\n",
       "       [1.00000000e+00, 3.80367185e-14],\n",
       "       [1.00000000e+00, 3.71262347e-18],\n",
       "       [1.00000000e+00, 1.27759766e-19],\n",
       "       [1.00000000e+00, 2.39498467e-13],\n",
       "       [1.00000000e+00, 3.95830652e-15],\n",
       "       [2.61128005e-07, 9.99999739e-01],\n",
       "       [9.99999998e-01, 1.84772090e-09],\n",
       "       [1.35786578e-03, 9.98642134e-01],\n",
       "       [1.00000000e+00, 2.81930605e-13],\n",
       "       [2.04726014e-10, 1.00000000e+00],\n",
       "       [2.17470917e-06, 9.99997825e-01],\n",
       "       [1.00000000e+00, 1.54342808e-13],\n",
       "       [3.41315523e-02, 9.65868448e-01],\n",
       "       [1.00000000e+00, 2.16811124e-15],\n",
       "       [1.86502369e-10, 1.00000000e+00],\n",
       "       [2.26629927e-05, 9.99977337e-01],\n",
       "       [3.80861342e-10, 1.00000000e+00],\n",
       "       [2.62666935e-08, 9.99999974e-01],\n",
       "       [2.09317299e-08, 9.99999979e-01],\n",
       "       [4.85830980e-06, 9.99995142e-01],\n",
       "       [1.00000000e+00, 8.82488864e-16],\n",
       "       [2.14844537e-07, 9.99999785e-01],\n",
       "       [1.00000000e+00, 4.16328725e-21],\n",
       "       [1.00000000e+00, 5.94434903e-14],\n",
       "       [1.08537381e-06, 9.99998915e-01],\n",
       "       [2.94342380e-07, 9.99999706e-01],\n",
       "       [1.56332893e-04, 9.99843667e-01],\n",
       "       [1.45879851e-06, 9.99998541e-01],\n",
       "       [1.00000000e+00, 1.12951028e-14],\n",
       "       [9.99999817e-01, 1.82949721e-07],\n",
       "       [3.95905531e-13, 1.00000000e+00],\n",
       "       [1.00000000e+00, 7.41105506e-14],\n",
       "       [1.00000000e+00, 2.03974742e-16],\n",
       "       [9.99999971e-01, 2.87027714e-08],\n",
       "       [1.88841298e-09, 9.99999998e-01],\n",
       "       [1.00000000e+00, 1.28375461e-16],\n",
       "       [2.17565304e-06, 9.99997824e-01],\n",
       "       [9.89459235e-01, 1.05407655e-02],\n",
       "       [1.00000000e+00, 9.49081263e-20],\n",
       "       [4.72102489e-07, 9.99999528e-01],\n",
       "       [7.72218881e-05, 9.99922778e-01],\n",
       "       [1.00000000e+00, 2.35808803e-10],\n",
       "       [2.76097342e-08, 9.99999972e-01],\n",
       "       [9.75312375e-01, 2.46876253e-02],\n",
       "       [1.00000000e+00, 1.21845725e-20],\n",
       "       [1.00000000e+00, 2.31971710e-18],\n",
       "       [1.37258516e-09, 9.99999999e-01],\n",
       "       [9.99973299e-01, 2.67014133e-05],\n",
       "       [7.27880087e-05, 9.99927212e-01],\n",
       "       [9.99999999e-01, 1.31149705e-09],\n",
       "       [1.00000000e+00, 2.08711608e-12],\n",
       "       [1.56495904e-04, 9.99843504e-01],\n",
       "       [1.00000000e+00, 2.88758936e-12],\n",
       "       [1.00000000e+00, 2.91555567e-17],\n",
       "       [1.00000000e+00, 9.35813671e-12],\n",
       "       [3.49271428e-08, 9.99999965e-01],\n",
       "       [1.16560162e-09, 9.99999999e-01],\n",
       "       [1.00000000e+00, 1.43611505e-10],\n",
       "       [1.00000000e+00, 1.82220342e-19],\n",
       "       [1.00000000e+00, 7.25528330e-13],\n",
       "       [1.00000000e+00, 1.07179841e-10],\n",
       "       [1.00000000e+00, 1.78875408e-15],\n",
       "       [1.52622359e-11, 1.00000000e+00],\n",
       "       [1.00000000e+00, 1.49736798e-17],\n",
       "       [1.56942837e-09, 9.99999998e-01],\n",
       "       [1.00000000e+00, 8.76227396e-12],\n",
       "       [1.00000000e+00, 9.50194367e-11],\n",
       "       [2.32621196e-03, 9.97673788e-01],\n",
       "       [1.00000000e+00, 1.66526746e-21],\n",
       "       [7.75623185e-06, 9.99992244e-01],\n",
       "       [6.81776767e-06, 9.99993182e-01],\n",
       "       [1.00000000e+00, 6.26144173e-22]])"
      ]
     },
     "execution_count": 378,
     "metadata": {},
     "output_type": "execute_result"
    }
   ],
   "source": [
    "# Reshape the input from 1D to 2D\n",
    "X_sample = X_test_std[0, :].reshape(1, -1)\n",
    "\n",
    "# Now you can use predict_proba with the reshaped data\n",
    "probs = lr.predict_proba(X_sample)\n",
    "\n",
    "lr.predict_proba(X_test_std)\n"
   ]
  },
  {
   "cell_type": "code",
   "execution_count": 379,
   "metadata": {},
   "outputs": [
    {
     "name": "stdout",
     "output_type": "stream",
     "text": [
      "Precision 0.9887129724208377 [0.96629213 1.         0.97727273 1.         1.        ]\n",
      "Recalls 0.9883720930232558 [1.         0.95348837 1.         1.         0.98837209]\n"
     ]
    }
   ],
   "source": [
    "from sklearn.model_selection import cross_val_score\n",
    "\n",
    "precisions = cross_val_score(lr, X_train_std, y_train, cv=5,scoring='precision')\n",
    "print('Precision', np.mean(precisions), precisions)\n",
    "\n",
    "recalls = cross_val_score(lr, X_train_std, y_train, cv=5,scoring='recall')\n",
    "print('Recalls', np.mean(recalls), recalls)"
   ]
  },
  {
   "cell_type": "code",
   "execution_count": 380,
   "metadata": {},
   "outputs": [
    {
     "name": "stdout",
     "output_type": "stream",
     "text": [
      "F1 0.9883410825915362 [0.98285714 0.97619048 0.98850575 1.         0.99415205]\n"
     ]
    }
   ],
   "source": [
    "f1s = cross_val_score(lr, X_train_std, y_train, cv=5, scoring='f1')\n",
    "print('F1', np.mean(f1s), f1s)"
   ]
  }
 ],
 "metadata": {
  "kernelspec": {
   "display_name": "Python 3.10.6 64-bit",
   "language": "python",
   "name": "python3"
  },
  "language_info": {
   "codemirror_mode": {
    "name": "ipython",
    "version": 3
   },
   "file_extension": ".py",
   "mimetype": "text/x-python",
   "name": "python",
   "nbconvert_exporter": "python",
   "pygments_lexer": "ipython3",
   "version": "3.10.6"
  },
  "orig_nbformat": 4,
  "vscode": {
   "interpreter": {
    "hash": "26de051ba29f2982a8de78e945f0abaf191376122a1563185a90213a26c5da77"
   }
  }
 },
 "nbformat": 4,
 "nbformat_minor": 2
}
