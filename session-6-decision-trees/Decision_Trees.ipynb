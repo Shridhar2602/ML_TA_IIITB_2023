{
  "cells": [
    {
      "cell_type": "markdown",
      "metadata": {
        "id": "XMRfYrxvMvhl"
      },
      "source": [
        "\n",
        "\n",
        "# ML Tutorial Session 6\n"
      ]
    },
    {
      "cell_type": "markdown",
      "metadata": {
        "id": "GYzlqyUYMyiu"
      },
      "source": [
        "# Introduction"
      ]
    },
    {
      "cell_type": "markdown",
      "metadata": {
        "id": "3QLDlXU2M5Ul"
      },
      "source": [
        "In this notebook, we'll study **decision trees**. Why?\n",
        "1. They form the basis for some of the most powerful methods in all of machine learning\n",
        "2. They produce highly interpretable models, which is useful in contexts where you need high explainability (law, finance, medicine, and much more)."
      ]
    },
    {
      "cell_type": "markdown",
      "metadata": {
        "id": "gCRxILGpM7in"
      },
      "source": [
        "## Overview"
      ]
    },
    {
      "cell_type": "markdown",
      "metadata": {
        "id": "2NNI8fU1M-62"
      },
      "source": [
        "-  What are Decision trees? , and how they can be trained (or \"grown\") ?\n",
        "\n",
        "-  Attribute Selection methods.\n",
        "\n",
        "- We'll also see that they can produce highly complex decision boundaries when used for classification, which makes them capable of fitting very complicated training data sets.\n",
        "\n",
        "- We'll also see that they often tend to overfit.\n",
        "\n",
        "<img src=\"https://drive.google.com/uc?export=view&id=15J26UGcp4jrYWSFAwOTDXiIvkuWHty5r\">"
      ]
    },
    {
      "cell_type": "markdown",
      "metadata": {
        "id": "tg2V6e7lNVg_"
      },
      "source": [
        "## Decision trees Terminology:"
      ]
    },
    {
      "cell_type": "markdown",
      "metadata": {
        "id": "sJLr_EUuNYzU"
      },
      "source": [
        " **Root Node**\n",
        "\n",
        "- It represents the entire population or sample. This further gets divided into two or more homogeneous sets.\n",
        "\n",
        "\n",
        " **Splitting**\n",
        "\n",
        "- It is a process of dividing a node into two or more sub-nodes.\n",
        "\n",
        "\n",
        "**Decision Node**\n",
        "\n",
        "- When a sub-node splits into further sub-nodes, then it is called a decision node.\n",
        "\n",
        "\n",
        "**Leaf/Terminal Node**\n",
        "\n",
        "- Nodes that do not split are called Leaf or Terminal nodes.\n",
        "\n",
        "\n",
        "**Pruning**\n",
        "\n",
        "- When we remove sub-nodes of a decision node, this process is called pruning. It is the opposite process of splitting.\n",
        "\n",
        "\n",
        "**Branch/Sub-Tree**\n",
        "\n",
        "- A sub-section of an entire tree is called a branch or sub-tree.\n",
        "\n",
        "\n",
        "**Parent and Child Node**\n",
        "\n",
        "- A node, which is divided into sub-nodes is called the parent node of sub-nodes where sub-nodes are the children of a parent node."
      ]
    },
    {
      "cell_type": "markdown",
      "metadata": {
        "id": "uVr9zBiVNbI_"
      },
      "source": [
        "# Setup"
      ]
    },
    {
      "cell_type": "code",
      "execution_count": 1,
      "metadata": {
        "id": "Zoi1jEbNOgPa"
      },
      "outputs": [],
      "source": [
        "# HIDE CODE\n",
        "\n",
        "# Python setup\n",
        "%matplotlib inline\n",
        "import numpy as np\n",
        "import matplotlib.pyplot as plt\n",
        "\n",
        "from sklearn.datasets import load_iris\n",
        "from sklearn.tree import plot_tree\n",
        "from sklearn.tree import DecisionTreeClassifier\n",
        "from sklearn.model_selection import train_test_split\n",
        "from sklearn import metrics\n",
        "from sklearn.metrics import confusion_matrix\n",
        "from sklearn.metrics import classification_report\n",
        "from sklearn.metrics import ConfusionMatrixDisplay\n",
        "from sklearn.metrics import mutual_info_score\n",
        "\n",
        "\n",
        "from ipywidgets import interactive\n",
        "from ipywidgets import interact, IntSlider"
      ]
    },
    {
      "cell_type": "code",
      "execution_count": 2,
      "metadata": {
        "id": "lfYAdRRZdBN4"
      },
      "outputs": [],
      "source": [
        "# To make the notebook reproducible\n",
        "seed = 42\n",
        "np.random.seed(seed)"
      ]
    },
    {
      "cell_type": "markdown",
      "metadata": {
        "id": "s2mwqgScOn2u"
      },
      "source": [
        "# Decision Trees"
      ]
    },
    {
      "cell_type": "markdown",
      "metadata": {
        "id": "2uzJQ7IlNx1J"
      },
      "source": [
        "We use the popular iris dataset. The data is already included in scikit-learn and consists of 50 samples from each of three species of Iris (Iris setosa, Iris virginica and Iris versicolor)"
      ]
    },
    {
      "cell_type": "code",
      "execution_count": 3,
      "metadata": {
        "id": "Cx-VH6m5NqlN"
      },
      "outputs": [],
      "source": [
        "# load data\n",
        "iris = load_iris()"
      ]
    },
    {
      "cell_type": "markdown",
      "metadata": {
        "id": "dF4JgQEnN6LB"
      },
      "source": [
        "Four features were measured from each sample: the length and the width of the sepals and petals, in centimeters.\n",
        "\n"
      ]
    },
    {
      "cell_type": "code",
      "execution_count": 4,
      "metadata": {
        "colab": {
          "base_uri": "https://localhost:8080/",
          "height": 509
        },
        "id": "BwCP7r2tN6_Y",
        "outputId": "6813a822-e306-44ad-d219-fc9cc9c81a27"
      },
      "outputs": [
        {
          "data": {
            "image/png": "[encoded data removed]",
            "text/plain": [
              "<Figure size 432x288 with 2 Axes>"
            ]
          },
          "metadata": {
            "needs_background": "light"
          },
          "output_type": "display_data"
        }
      ],
      "source": [
        "# HIDE CODE\n",
        "x_index = 0\n",
        "y_index = 1\n",
        "\n",
        "# this formatter will label the colorbar with the correct target names\n",
        "formatter = plt.FuncFormatter(lambda i, *args: iris.target_names[int(i)])\n",
        "plt.scatter(iris.data[:, x_index], iris.data[:, y_index],\n",
        "            c=iris.target, cmap=plt.cm.get_cmap('RdYlBu', 3))\n",
        "\n",
        "plt.colorbar(ticks=[0, 1, 2], format=formatter)\n",
        "plt.clim(-0.5, 2.5)\n",
        "plt.xlabel(iris.feature_names[x_index])\n",
        "plt.ylabel(iris.feature_names[y_index]);"
      ]
    },
    {
      "cell_type": "markdown",
      "metadata": {
        "id": "bQ_O4qjyPJvr"
      },
      "source": [
        "We notice that setosa instances tend to have lower sepal length and higher sepal width.\n",
        "\n",
        "To decide which class an instance falls in to, we could therefore make a set of rules saying things like\n",
        "\n",
        "- \"If your sepal length is < 6  and sepal width is above 2.8, predict as setosa.\"\n",
        "- \"If your sepal length is > 5\n",
        "\n",
        "    a. sepal width is < 3.5 ans sepal length < 7 , predict as versicolor\n",
        "    and so on...\"\n"
      ]
    },
    {
      "cell_type": "markdown",
      "metadata": {
        "id": "KHO4Kl5eXJnk"
      },
      "source": [
        "> Such a set of rules is precisely a **decision tree**.\n",
        "\n",
        "---\n",
        "\n"
      ]
    },
    {
      "cell_type": "markdown",
      "metadata": {
        "id": "zjZ0eDFlXMgN"
      },
      "source": [
        "Let's use scikit-learn to make the rules and the tree for us:"
      ]
    },
    {
      "cell_type": "code",
      "execution_count": 5,
      "metadata": {
        "id": "LbMgQTsEXW_B"
      },
      "outputs": [],
      "source": [
        "from sklearn.tree import DecisionTreeClassifier"
      ]
    },
    {
      "cell_type": "code",
      "execution_count": 6,
      "metadata": {
        "id": "hFKKGOXvXf5-"
      },
      "outputs": [],
      "source": [
        "X = iris.data\n",
        "y = iris.target\n"
      ]
    },
    {
      "cell_type": "code",
      "execution_count": 7,
      "metadata": {
        "id": "HQ5VXujLZKVR"
      },
      "outputs": [],
      "source": [
        "clf = DecisionTreeClassifier( criterion=\"entropy\", random_state=seed).fit(X, y)"
      ]
    },
    {
      "cell_type": "code",
      "execution_count": 8,
      "metadata": {
        "colab": {
          "base_uri": "https://localhost:8080/"
        },
        "id": "4tfey1IMXoDL",
        "outputId": "04aaf0bb-5333-40d0-e3bc-7a9e7a8e2641"
      },
      "outputs": [
        {
          "name": "stdout",
          "output_type": "stream",
          "text": [
            "Defaulting to user installation because normal site-packages is not writeable\n",
            "Requirement already satisfied: graphviz in /home/gandalf/.local/lib/python3.8/site-packages (0.20.1)\n",
            "\n",
            "\u001b[1m[\u001b[0m\u001b[34;49mnotice\u001b[0m\u001b[1;39;49m]\u001b[0m\u001b[39;49m A new release of pip is available: \u001b[0m\u001b[31;49m23.0.1\u001b[0m\u001b[39;49m -> \u001b[0m\u001b[32;49m23.2.1\u001b[0m\n",
            "\u001b[1m[\u001b[0m\u001b[34;49mnotice\u001b[0m\u001b[1;39;49m]\u001b[0m\u001b[39;49m To update, run: \u001b[0m\u001b[32;49mpip install --upgrade pip\u001b[0m\n"
          ]
        }
      ],
      "source": [
        "import sys\n",
        "!{sys.executable} -m pip install graphviz\n",
        "from graphviz import Source"
      ]
    },
    {
      "cell_type": "code",
      "execution_count": 9,
      "metadata": {
        "id": "QJA2hQqXXqns"
      },
      "outputs": [],
      "source": [
        "from IPython.display import display\n",
        "from IPython.display import SVG"
      ]
    },
    {
      "cell_type": "code",
      "execution_count": 10,
      "metadata": {
        "id": "vtH9BvEUXsjI"
      },
      "outputs": [],
      "source": [
        "from sklearn.tree import export_graphviz"
      ]
    },
    {
      "cell_type": "code",
      "execution_count": 11,
      "metadata": {
        "id": "61OBCgu5Xuno"
      },
      "outputs": [],
      "source": [
        "graph = Source(export_graphviz(clf, out_file=None, feature_names=iris.feature_names, class_names=iris.target_names,\n",
        "                              filled = True, rounded=True))"
      ]
    },
    {
      "cell_type": "code",
      "execution_count": 12,
      "metadata": {
        "colab": {
          "base_uri": "https://localhost:8080/",
          "height": 916
        },
        "id": "IihwsnJ6XwxH",
        "outputId": "5a8661f0-39dc-420f-8956-fa4bfad16f48"
      },
      "outputs": [
        {
          "data": {
            "image/svg+xml": [
              "<svg xmlns=\"http://www.w3.org/2000/svg\" xmlns:xlink=\"http://www.w3.org/1999/xlink\" width=\"1013pt\" height=\"671pt\" viewBox=\"0.00 0.00 1013.00 671.00\">\n",
              "<g id=\"graph0\" class=\"graph\" transform=\"scale(1 1) rotate(0) translate(4 667)\">\n",
              "<title>Tree</title>\n",
              "<polygon fill=\"white\" stroke=\"transparent\" points=\"-4,4 -4,-667 1009,-667 1009,4 -4,4\"/>\n",
              "<!-- 0 -->\n",
              "<g id=\"node1\" class=\"node\">\n",
              "<title>0</title>\n",
              "<path fill=\"#ffffff\" stroke=\"black\" d=\"M608,-663C608,-663 432,-663 432,-663 426,-663 420,-657 420,-651 420,-651 420,-592 420,-592 420,-586 426,-580 432,-580 432,-580 608,-580 608,-580 614,-580 620,-586 620,-592 620,-592 620,-651 620,-651 620,-657 614,-663 608,-663\"/>\n",
              "<text text-anchor=\"middle\" x=\"520\" y=\"-647.8\" font-family=\"Helvetica,sans-Serif\" font-size=\"14.00\">petal length (cm) &lt;= 2.45</text>\n",
              "<text text-anchor=\"middle\" x=\"520\" y=\"-632.8\" font-family=\"Helvetica,sans-Serif\" font-size=\"14.00\">entropy = 1.585</text>\n",
              "<text text-anchor=\"middle\" x=\"520\" y=\"-617.8\" font-family=\"Helvetica,sans-Serif\" font-size=\"14.00\">samples = 150</text>\n",
              "<text text-anchor=\"middle\" x=\"520\" y=\"-602.8\" font-family=\"Helvetica,sans-Serif\" font-size=\"14.00\">value = [50, 50, 50]</text>\n",
              "<text text-anchor=\"middle\" x=\"520\" y=\"-587.8\" font-family=\"Helvetica,sans-Serif\" font-size=\"14.00\">class = setosa</text>\n",
              "</g>\n",
              "<!-- 1 -->\n",
              "<g id=\"node2\" class=\"node\">\n",
              "<title>1</title>\n",
              "<path fill=\"#e58139\" stroke=\"black\" d=\"M486,-536.5C486,-536.5 370,-536.5 370,-536.5 364,-536.5 358,-530.5 358,-524.5 358,-524.5 358,-480.5 358,-480.5 358,-474.5 364,-468.5 370,-468.5 370,-468.5 486,-468.5 486,-468.5 492,-468.5 498,-474.5 498,-480.5 498,-480.5 498,-524.5 498,-524.5 498,-530.5 492,-536.5 486,-536.5\"/>\n",
              "<text text-anchor=\"middle\" x=\"428\" y=\"-521.3\" font-family=\"Helvetica,sans-Serif\" font-size=\"14.00\">entropy = 0.0</text>\n",
              "<text text-anchor=\"middle\" x=\"428\" y=\"-506.3\" font-family=\"Helvetica,sans-Serif\" font-size=\"14.00\">samples = 50</text>\n",
              "<text text-anchor=\"middle\" x=\"428\" y=\"-491.3\" font-family=\"Helvetica,sans-Serif\" font-size=\"14.00\">value = [50, 0, 0]</text>\n",
              "<text text-anchor=\"middle\" x=\"428\" y=\"-476.3\" font-family=\"Helvetica,sans-Serif\" font-size=\"14.00\">class = setosa</text>\n",
              "</g>\n",
              "<!-- 0&#45;&gt;1 -->\n",
              "<g id=\"edge1\" class=\"edge\">\n",
              "<title>0-&gt;1</title>\n",
              "<path fill=\"none\" stroke=\"black\" d=\"M488.08,-579.91C479.14,-568.54 469.42,-556.18 460.45,-544.77\"/>\n",
              "<polygon fill=\"black\" stroke=\"black\" points=\"463.01,-542.36 454.08,-536.67 457.51,-546.69 463.01,-542.36\"/>\n",
              "<text text-anchor=\"middle\" x=\"451.11\" y=\"-557.79\" font-family=\"Helvetica,sans-Serif\" font-size=\"14.00\">True</text>\n",
              "</g>\n",
              "<!-- 2 -->\n",
              "<g id=\"node3\" class=\"node\">\n",
              "<title>2</title>\n",
              "<path fill=\"#ffffff\" stroke=\"black\" d=\"M698,-544C698,-544 528,-544 528,-544 522,-544 516,-538 516,-532 516,-532 516,-473 516,-473 516,-467 522,-461 528,-461 528,-461 698,-461 698,-461 704,-461 710,-467 710,-473 710,-473 710,-532 710,-532 710,-538 704,-544 698,-544\"/>\n",
              "<text text-anchor=\"middle\" x=\"613\" y=\"-528.8\" font-family=\"Helvetica,sans-Serif\" font-size=\"14.00\">petal width (cm) &lt;= 1.75</text>\n",
              "<text text-anchor=\"middle\" x=\"613\" y=\"-513.8\" font-family=\"Helvetica,sans-Serif\" font-size=\"14.00\">entropy = 1.0</text>\n",
              "<text text-anchor=\"middle\" x=\"613\" y=\"-498.8\" font-family=\"Helvetica,sans-Serif\" font-size=\"14.00\">samples = 100</text>\n",
              "<text text-anchor=\"middle\" x=\"613\" y=\"-483.8\" font-family=\"Helvetica,sans-Serif\" font-size=\"14.00\">value = [0, 50, 50]</text>\n",
              "<text text-anchor=\"middle\" x=\"613\" y=\"-468.8\" font-family=\"Helvetica,sans-Serif\" font-size=\"14.00\">class = versicolor</text>\n",
              "</g>\n",
              "<!-- 0&#45;&gt;2 -->\n",
              "<g id=\"edge2\" class=\"edge\">\n",
              "<title>0-&gt;2</title>\n",
              "<path fill=\"none\" stroke=\"black\" d=\"M552.27,-579.91C559.41,-570.92 567.04,-561.32 574.41,-552.05\"/>\n",
              "<polygon fill=\"black\" stroke=\"black\" points=\"577.31,-554.03 580.79,-544.02 571.83,-549.67 577.31,-554.03\"/>\n",
              "<text text-anchor=\"middle\" x=\"583.63\" y=\"-565.16\" font-family=\"Helvetica,sans-Serif\" font-size=\"14.00\">False</text>\n",
              "</g>\n",
              "<!-- 3 -->\n",
              "<g id=\"node4\" class=\"node\">\n",
              "<title>3</title>\n",
              "<path fill=\"#4de88e\" stroke=\"black\" d=\"M569,-425C569,-425 393,-425 393,-425 387,-425 381,-419 381,-413 381,-413 381,-354 381,-354 381,-348 387,-342 393,-342 393,-342 569,-342 569,-342 575,-342 581,-348 581,-354 581,-354 581,-413 581,-413 581,-419 575,-425 569,-425\"/>\n",
              "<text text-anchor=\"middle\" x=\"481\" y=\"-409.8\" font-family=\"Helvetica,sans-Serif\" font-size=\"14.00\">petal length (cm) &lt;= 4.95</text>\n",
              "<text text-anchor=\"middle\" x=\"481\" y=\"-394.8\" font-family=\"Helvetica,sans-Serif\" font-size=\"14.00\">entropy = 0.445</text>\n",
              "<text text-anchor=\"middle\" x=\"481\" y=\"-379.8\" font-family=\"Helvetica,sans-Serif\" font-size=\"14.00\">samples = 54</text>\n",
              "<text text-anchor=\"middle\" x=\"481\" y=\"-364.8\" font-family=\"Helvetica,sans-Serif\" font-size=\"14.00\">value = [0, 49, 5]</text>\n",
              "<text text-anchor=\"middle\" x=\"481\" y=\"-349.8\" font-family=\"Helvetica,sans-Serif\" font-size=\"14.00\">class = versicolor</text>\n",
              "</g>\n",
              "<!-- 2&#45;&gt;3 -->\n",
              "<g id=\"edge3\" class=\"edge\">\n",
              "<title>2-&gt;3</title>\n",
              "<path fill=\"none\" stroke=\"black\" d=\"M567.2,-460.91C556.66,-451.56 545.35,-441.54 534.51,-431.93\"/>\n",
              "<polygon fill=\"black\" stroke=\"black\" points=\"536.52,-429.03 526.72,-425.02 531.88,-434.27 536.52,-429.03\"/>\n",
              "</g>\n",
              "<!-- 12 -->\n",
              "<g id=\"node13\" class=\"node\">\n",
              "<title>12</title>\n",
              "<path fill=\"#843de6\" stroke=\"black\" d=\"M833,-425C833,-425 657,-425 657,-425 651,-425 645,-419 645,-413 645,-413 645,-354 645,-354 645,-348 651,-342 657,-342 657,-342 833,-342 833,-342 839,-342 845,-348 845,-354 845,-354 845,-413 845,-413 845,-419 839,-425 833,-425\"/>\n",
              "<text text-anchor=\"middle\" x=\"745\" y=\"-409.8\" font-family=\"Helvetica,sans-Serif\" font-size=\"14.00\">petal length (cm) &lt;= 4.85</text>\n",
              "<text text-anchor=\"middle\" x=\"745\" y=\"-394.8\" font-family=\"Helvetica,sans-Serif\" font-size=\"14.00\">entropy = 0.151</text>\n",
              "<text text-anchor=\"middle\" x=\"745\" y=\"-379.8\" font-family=\"Helvetica,sans-Serif\" font-size=\"14.00\">samples = 46</text>\n",
              "<text text-anchor=\"middle\" x=\"745\" y=\"-364.8\" font-family=\"Helvetica,sans-Serif\" font-size=\"14.00\">value = [0, 1, 45]</text>\n",
              "<text text-anchor=\"middle\" x=\"745\" y=\"-349.8\" font-family=\"Helvetica,sans-Serif\" font-size=\"14.00\">class = virginica</text>\n",
              "</g>\n",
              "<!-- 2&#45;&gt;12 -->\n",
              "<g id=\"edge12\" class=\"edge\">\n",
              "<title>2-&gt;12</title>\n",
              "<path fill=\"none\" stroke=\"black\" d=\"M658.8,-460.91C669.34,-451.56 680.65,-441.54 691.49,-431.93\"/>\n",
              "<polygon fill=\"black\" stroke=\"black\" points=\"694.12,-434.27 699.28,-425.02 689.48,-429.03 694.12,-434.27\"/>\n",
              "</g>\n",
              "<!-- 4 -->\n",
              "<g id=\"node5\" class=\"node\">\n",
              "<title>4</title>\n",
              "<path fill=\"#3de684\" stroke=\"black\" d=\"M309,-306C309,-306 139,-306 139,-306 133,-306 127,-300 127,-294 127,-294 127,-235 127,-235 127,-229 133,-223 139,-223 139,-223 309,-223 309,-223 315,-223 321,-229 321,-235 321,-235 321,-294 321,-294 321,-300 315,-306 309,-306\"/>\n",
              "<text text-anchor=\"middle\" x=\"224\" y=\"-290.8\" font-family=\"Helvetica,sans-Serif\" font-size=\"14.00\">petal width (cm) &lt;= 1.65</text>\n",
              "<text text-anchor=\"middle\" x=\"224\" y=\"-275.8\" font-family=\"Helvetica,sans-Serif\" font-size=\"14.00\">entropy = 0.146</text>\n",
              "<text text-anchor=\"middle\" x=\"224\" y=\"-260.8\" font-family=\"Helvetica,sans-Serif\" font-size=\"14.00\">samples = 48</text>\n",
              "<text text-anchor=\"middle\" x=\"224\" y=\"-245.8\" font-family=\"Helvetica,sans-Serif\" font-size=\"14.00\">value = [0, 47, 1]</text>\n",
              "<text text-anchor=\"middle\" x=\"224\" y=\"-230.8\" font-family=\"Helvetica,sans-Serif\" font-size=\"14.00\">class = versicolor</text>\n",
              "</g>\n",
              "<!-- 3&#45;&gt;4 -->\n",
              "<g id=\"edge4\" class=\"edge\">\n",
              "<title>3-&gt;4</title>\n",
              "<path fill=\"none\" stroke=\"black\" d=\"M391.84,-341.91C369.41,-331.7 345.21,-320.68 322.37,-310.28\"/>\n",
              "<polygon fill=\"black\" stroke=\"black\" points=\"323.56,-306.98 313.01,-306.02 320.66,-313.35 323.56,-306.98\"/>\n",
              "</g>\n",
              "<!-- 7 -->\n",
              "<g id=\"node8\" class=\"node\">\n",
              "<title>7</title>\n",
              "<path fill=\"#c09cf2\" stroke=\"black\" d=\"M566,-306C566,-306 396,-306 396,-306 390,-306 384,-300 384,-294 384,-294 384,-235 384,-235 384,-229 390,-223 396,-223 396,-223 566,-223 566,-223 572,-223 578,-229 578,-235 578,-235 578,-294 578,-294 578,-300 572,-306 566,-306\"/>\n",
              "<text text-anchor=\"middle\" x=\"481\" y=\"-290.8\" font-family=\"Helvetica,sans-Serif\" font-size=\"14.00\">petal width (cm) &lt;= 1.55</text>\n",
              "<text text-anchor=\"middle\" x=\"481\" y=\"-275.8\" font-family=\"Helvetica,sans-Serif\" font-size=\"14.00\">entropy = 0.918</text>\n",
              "<text text-anchor=\"middle\" x=\"481\" y=\"-260.8\" font-family=\"Helvetica,sans-Serif\" font-size=\"14.00\">samples = 6</text>\n",
              "<text text-anchor=\"middle\" x=\"481\" y=\"-245.8\" font-family=\"Helvetica,sans-Serif\" font-size=\"14.00\">value = [0, 2, 4]</text>\n",
              "<text text-anchor=\"middle\" x=\"481\" y=\"-230.8\" font-family=\"Helvetica,sans-Serif\" font-size=\"14.00\">class = virginica</text>\n",
              "</g>\n",
              "<!-- 3&#45;&gt;7 -->\n",
              "<g id=\"edge7\" class=\"edge\">\n",
              "<title>3-&gt;7</title>\n",
              "<path fill=\"none\" stroke=\"black\" d=\"M481,-341.91C481,-333.65 481,-324.86 481,-316.3\"/>\n",
              "<polygon fill=\"black\" stroke=\"black\" points=\"484.5,-316.02 481,-306.02 477.5,-316.02 484.5,-316.02\"/>\n",
              "</g>\n",
              "<!-- 5 -->\n",
              "<g id=\"node6\" class=\"node\">\n",
              "<title>5</title>\n",
              "<path fill=\"#39e581\" stroke=\"black\" d=\"M128,-179.5C128,-179.5 12,-179.5 12,-179.5 6,-179.5 0,-173.5 0,-167.5 0,-167.5 0,-123.5 0,-123.5 0,-117.5 6,-111.5 12,-111.5 12,-111.5 128,-111.5 128,-111.5 134,-111.5 140,-117.5 140,-123.5 140,-123.5 140,-167.5 140,-167.5 140,-173.5 134,-179.5 128,-179.5\"/>\n",
              "<text text-anchor=\"middle\" x=\"70\" y=\"-164.3\" font-family=\"Helvetica,sans-Serif\" font-size=\"14.00\">entropy = 0.0</text>\n",
              "<text text-anchor=\"middle\" x=\"70\" y=\"-149.3\" font-family=\"Helvetica,sans-Serif\" font-size=\"14.00\">samples = 47</text>\n",
              "<text text-anchor=\"middle\" x=\"70\" y=\"-134.3\" font-family=\"Helvetica,sans-Serif\" font-size=\"14.00\">value = [0, 47, 0]</text>\n",
              "<text text-anchor=\"middle\" x=\"70\" y=\"-119.3\" font-family=\"Helvetica,sans-Serif\" font-size=\"14.00\">class = versicolor</text>\n",
              "</g>\n",
              "<!-- 4&#45;&gt;5 -->\n",
              "<g id=\"edge5\" class=\"edge\">\n",
              "<title>4-&gt;5</title>\n",
              "<path fill=\"none\" stroke=\"black\" d=\"M170.57,-222.91C154.74,-210.88 137.44,-197.73 121.72,-185.79\"/>\n",
              "<polygon fill=\"black\" stroke=\"black\" points=\"123.74,-182.93 113.66,-179.67 119.5,-188.5 123.74,-182.93\"/>\n",
              "</g>\n",
              "<!-- 6 -->\n",
              "<g id=\"node7\" class=\"node\">\n",
              "<title>6</title>\n",
              "<path fill=\"#8139e5\" stroke=\"black\" d=\"M277.5,-179.5C277.5,-179.5 170.5,-179.5 170.5,-179.5 164.5,-179.5 158.5,-173.5 158.5,-167.5 158.5,-167.5 158.5,-123.5 158.5,-123.5 158.5,-117.5 164.5,-111.5 170.5,-111.5 170.5,-111.5 277.5,-111.5 277.5,-111.5 283.5,-111.5 289.5,-117.5 289.5,-123.5 289.5,-123.5 289.5,-167.5 289.5,-167.5 289.5,-173.5 283.5,-179.5 277.5,-179.5\"/>\n",
              "<text text-anchor=\"middle\" x=\"224\" y=\"-164.3\" font-family=\"Helvetica,sans-Serif\" font-size=\"14.00\">entropy = 0.0</text>\n",
              "<text text-anchor=\"middle\" x=\"224\" y=\"-149.3\" font-family=\"Helvetica,sans-Serif\" font-size=\"14.00\">samples = 1</text>\n",
              "<text text-anchor=\"middle\" x=\"224\" y=\"-134.3\" font-family=\"Helvetica,sans-Serif\" font-size=\"14.00\">value = [0, 0, 1]</text>\n",
              "<text text-anchor=\"middle\" x=\"224\" y=\"-119.3\" font-family=\"Helvetica,sans-Serif\" font-size=\"14.00\">class = virginica</text>\n",
              "</g>\n",
              "<!-- 4&#45;&gt;6 -->\n",
              "<g id=\"edge6\" class=\"edge\">\n",
              "<title>4-&gt;6</title>\n",
              "<path fill=\"none\" stroke=\"black\" d=\"M224,-222.91C224,-212.2 224,-200.62 224,-189.78\"/>\n",
              "<polygon fill=\"black\" stroke=\"black\" points=\"227.5,-189.67 224,-179.67 220.5,-189.67 227.5,-189.67\"/>\n",
              "</g>\n",
              "<!-- 8 -->\n",
              "<g id=\"node9\" class=\"node\">\n",
              "<title>8</title>\n",
              "<path fill=\"#8139e5\" stroke=\"black\" d=\"M426.5,-179.5C426.5,-179.5 319.5,-179.5 319.5,-179.5 313.5,-179.5 307.5,-173.5 307.5,-167.5 307.5,-167.5 307.5,-123.5 307.5,-123.5 307.5,-117.5 313.5,-111.5 319.5,-111.5 319.5,-111.5 426.5,-111.5 426.5,-111.5 432.5,-111.5 438.5,-117.5 438.5,-123.5 438.5,-123.5 438.5,-167.5 438.5,-167.5 438.5,-173.5 432.5,-179.5 426.5,-179.5\"/>\n",
              "<text text-anchor=\"middle\" x=\"373\" y=\"-164.3\" font-family=\"Helvetica,sans-Serif\" font-size=\"14.00\">entropy = 0.0</text>\n",
              "<text text-anchor=\"middle\" x=\"373\" y=\"-149.3\" font-family=\"Helvetica,sans-Serif\" font-size=\"14.00\">samples = 3</text>\n",
              "<text text-anchor=\"middle\" x=\"373\" y=\"-134.3\" font-family=\"Helvetica,sans-Serif\" font-size=\"14.00\">value = [0, 0, 3]</text>\n",
              "<text text-anchor=\"middle\" x=\"373\" y=\"-119.3\" font-family=\"Helvetica,sans-Serif\" font-size=\"14.00\">class = virginica</text>\n",
              "</g>\n",
              "<!-- 7&#45;&gt;8 -->\n",
              "<g id=\"edge8\" class=\"edge\">\n",
              "<title>7-&gt;8</title>\n",
              "<path fill=\"none\" stroke=\"black\" d=\"M443.53,-222.91C432.83,-211.32 421.18,-198.7 410.49,-187.11\"/>\n",
              "<polygon fill=\"black\" stroke=\"black\" points=\"412.97,-184.64 403.62,-179.67 407.83,-189.39 412.97,-184.64\"/>\n",
              "</g>\n",
              "<!-- 9 -->\n",
              "<g id=\"node10\" class=\"node\">\n",
              "<title>9</title>\n",
              "<path fill=\"#9cf2c0\" stroke=\"black\" d=\"M645,-187C645,-187 469,-187 469,-187 463,-187 457,-181 457,-175 457,-175 457,-116 457,-116 457,-110 463,-104 469,-104 469,-104 645,-104 645,-104 651,-104 657,-110 657,-116 657,-116 657,-175 657,-175 657,-181 651,-187 645,-187\"/>\n",
              "<text text-anchor=\"middle\" x=\"557\" y=\"-171.8\" font-family=\"Helvetica,sans-Serif\" font-size=\"14.00\">petal length (cm) &lt;= 5.45</text>\n",
              "<text text-anchor=\"middle\" x=\"557\" y=\"-156.8\" font-family=\"Helvetica,sans-Serif\" font-size=\"14.00\">entropy = 0.918</text>\n",
              "<text text-anchor=\"middle\" x=\"557\" y=\"-141.8\" font-family=\"Helvetica,sans-Serif\" font-size=\"14.00\">samples = 3</text>\n",
              "<text text-anchor=\"middle\" x=\"557\" y=\"-126.8\" font-family=\"Helvetica,sans-Serif\" font-size=\"14.00\">value = [0, 2, 1]</text>\n",
              "<text text-anchor=\"middle\" x=\"557\" y=\"-111.8\" font-family=\"Helvetica,sans-Serif\" font-size=\"14.00\">class = versicolor</text>\n",
              "</g>\n",
              "<!-- 7&#45;&gt;9 -->\n",
              "<g id=\"edge9\" class=\"edge\">\n",
              "<title>7-&gt;9</title>\n",
              "<path fill=\"none\" stroke=\"black\" d=\"M507.37,-222.91C513.09,-214.1 519.19,-204.7 525.1,-195.61\"/>\n",
              "<polygon fill=\"black\" stroke=\"black\" points=\"528.17,-197.31 530.68,-187.02 522.3,-193.5 528.17,-197.31\"/>\n",
              "</g>\n",
              "<!-- 10 -->\n",
              "<g id=\"node11\" class=\"node\">\n",
              "<title>10</title>\n",
              "<path fill=\"#39e581\" stroke=\"black\" d=\"M538,-68C538,-68 422,-68 422,-68 416,-68 410,-62 410,-56 410,-56 410,-12 410,-12 410,-6 416,0 422,0 422,0 538,0 538,0 544,0 550,-6 550,-12 550,-12 550,-56 550,-56 550,-62 544,-68 538,-68\"/>\n",
              "<text text-anchor=\"middle\" x=\"480\" y=\"-52.8\" font-family=\"Helvetica,sans-Serif\" font-size=\"14.00\">entropy = 0.0</text>\n",
              "<text text-anchor=\"middle\" x=\"480\" y=\"-37.8\" font-family=\"Helvetica,sans-Serif\" font-size=\"14.00\">samples = 2</text>\n",
              "<text text-anchor=\"middle\" x=\"480\" y=\"-22.8\" font-family=\"Helvetica,sans-Serif\" font-size=\"14.00\">value = [0, 2, 0]</text>\n",
              "<text text-anchor=\"middle\" x=\"480\" y=\"-7.8\" font-family=\"Helvetica,sans-Serif\" font-size=\"14.00\">class = versicolor</text>\n",
              "</g>\n",
              "<!-- 9&#45;&gt;10 -->\n",
              "<g id=\"edge10\" class=\"edge\">\n",
              "<title>9-&gt;10</title>\n",
              "<path fill=\"none\" stroke=\"black\" d=\"M528.33,-103.73C522.11,-94.88 515.52,-85.51 509.27,-76.63\"/>\n",
              "<polygon fill=\"black\" stroke=\"black\" points=\"512.03,-74.47 503.42,-68.3 506.31,-78.49 512.03,-74.47\"/>\n",
              "</g>\n",
              "<!-- 11 -->\n",
              "<g id=\"node12\" class=\"node\">\n",
              "<title>11</title>\n",
              "<path fill=\"#8139e5\" stroke=\"black\" d=\"M687.5,-68C687.5,-68 580.5,-68 580.5,-68 574.5,-68 568.5,-62 568.5,-56 568.5,-56 568.5,-12 568.5,-12 568.5,-6 574.5,0 580.5,0 580.5,0 687.5,0 687.5,0 693.5,0 699.5,-6 699.5,-12 699.5,-12 699.5,-56 699.5,-56 699.5,-62 693.5,-68 687.5,-68\"/>\n",
              "<text text-anchor=\"middle\" x=\"634\" y=\"-52.8\" font-family=\"Helvetica,sans-Serif\" font-size=\"14.00\">entropy = 0.0</text>\n",
              "<text text-anchor=\"middle\" x=\"634\" y=\"-37.8\" font-family=\"Helvetica,sans-Serif\" font-size=\"14.00\">samples = 1</text>\n",
              "<text text-anchor=\"middle\" x=\"634\" y=\"-22.8\" font-family=\"Helvetica,sans-Serif\" font-size=\"14.00\">value = [0, 0, 1]</text>\n",
              "<text text-anchor=\"middle\" x=\"634\" y=\"-7.8\" font-family=\"Helvetica,sans-Serif\" font-size=\"14.00\">class = virginica</text>\n",
              "</g>\n",
              "<!-- 9&#45;&gt;11 -->\n",
              "<g id=\"edge11\" class=\"edge\">\n",
              "<title>9-&gt;11</title>\n",
              "<path fill=\"none\" stroke=\"black\" d=\"M585.67,-103.73C591.89,-94.88 598.48,-85.51 604.73,-76.63\"/>\n",
              "<polygon fill=\"black\" stroke=\"black\" points=\"607.69,-78.49 610.58,-68.3 601.97,-74.47 607.69,-78.49\"/>\n",
              "</g>\n",
              "<!-- 13 -->\n",
              "<g id=\"node14\" class=\"node\">\n",
              "<title>13</title>\n",
              "<path fill=\"#c09cf2\" stroke=\"black\" d=\"M834.5,-306C834.5,-306 655.5,-306 655.5,-306 649.5,-306 643.5,-300 643.5,-294 643.5,-294 643.5,-235 643.5,-235 643.5,-229 649.5,-223 655.5,-223 655.5,-223 834.5,-223 834.5,-223 840.5,-223 846.5,-229 846.5,-235 846.5,-235 846.5,-294 846.5,-294 846.5,-300 840.5,-306 834.5,-306\"/>\n",
              "<text text-anchor=\"middle\" x=\"745\" y=\"-290.8\" font-family=\"Helvetica,sans-Serif\" font-size=\"14.00\">sepal length (cm) &lt;= 5.95</text>\n",
              "<text text-anchor=\"middle\" x=\"745\" y=\"-275.8\" font-family=\"Helvetica,sans-Serif\" font-size=\"14.00\">entropy = 0.918</text>\n",
              "<text text-anchor=\"middle\" x=\"745\" y=\"-260.8\" font-family=\"Helvetica,sans-Serif\" font-size=\"14.00\">samples = 3</text>\n",
              "<text text-anchor=\"middle\" x=\"745\" y=\"-245.8\" font-family=\"Helvetica,sans-Serif\" font-size=\"14.00\">value = [0, 1, 2]</text>\n",
              "<text text-anchor=\"middle\" x=\"745\" y=\"-230.8\" font-family=\"Helvetica,sans-Serif\" font-size=\"14.00\">class = virginica</text>\n",
              "</g>\n",
              "<!-- 12&#45;&gt;13 -->\n",
              "<g id=\"edge13\" class=\"edge\">\n",
              "<title>12-&gt;13</title>\n",
              "<path fill=\"none\" stroke=\"black\" d=\"M745,-341.91C745,-333.65 745,-324.86 745,-316.3\"/>\n",
              "<polygon fill=\"black\" stroke=\"black\" points=\"748.5,-316.02 745,-306.02 741.5,-316.02 748.5,-316.02\"/>\n",
              "</g>\n",
              "<!-- 16 -->\n",
              "<g id=\"node17\" class=\"node\">\n",
              "<title>16</title>\n",
              "<path fill=\"#8139e5\" stroke=\"black\" d=\"M993,-298.5C993,-298.5 877,-298.5 877,-298.5 871,-298.5 865,-292.5 865,-286.5 865,-286.5 865,-242.5 865,-242.5 865,-236.5 871,-230.5 877,-230.5 877,-230.5 993,-230.5 993,-230.5 999,-230.5 1005,-236.5 1005,-242.5 1005,-242.5 1005,-286.5 1005,-286.5 1005,-292.5 999,-298.5 993,-298.5\"/>\n",
              "<text text-anchor=\"middle\" x=\"935\" y=\"-283.3\" font-family=\"Helvetica,sans-Serif\" font-size=\"14.00\">entropy = 0.0</text>\n",
              "<text text-anchor=\"middle\" x=\"935\" y=\"-268.3\" font-family=\"Helvetica,sans-Serif\" font-size=\"14.00\">samples = 43</text>\n",
              "<text text-anchor=\"middle\" x=\"935\" y=\"-253.3\" font-family=\"Helvetica,sans-Serif\" font-size=\"14.00\">value = [0, 0, 43]</text>\n",
              "<text text-anchor=\"middle\" x=\"935\" y=\"-238.3\" font-family=\"Helvetica,sans-Serif\" font-size=\"14.00\">class = virginica</text>\n",
              "</g>\n",
              "<!-- 12&#45;&gt;16 -->\n",
              "<g id=\"edge16\" class=\"edge\">\n",
              "<title>12-&gt;16</title>\n",
              "<path fill=\"none\" stroke=\"black\" d=\"M810.92,-341.91C830.9,-329.6 852.78,-316.13 872.53,-303.97\"/>\n",
              "<polygon fill=\"black\" stroke=\"black\" points=\"874.46,-306.89 881.14,-298.67 870.79,-300.93 874.46,-306.89\"/>\n",
              "</g>\n",
              "<!-- 14 -->\n",
              "<g id=\"node15\" class=\"node\">\n",
              "<title>14</title>\n",
              "<path fill=\"#39e581\" stroke=\"black\" d=\"M803,-179.5C803,-179.5 687,-179.5 687,-179.5 681,-179.5 675,-173.5 675,-167.5 675,-167.5 675,-123.5 675,-123.5 675,-117.5 681,-111.5 687,-111.5 687,-111.5 803,-111.5 803,-111.5 809,-111.5 815,-117.5 815,-123.5 815,-123.5 815,-167.5 815,-167.5 815,-173.5 809,-179.5 803,-179.5\"/>\n",
              "<text text-anchor=\"middle\" x=\"745\" y=\"-164.3\" font-family=\"Helvetica,sans-Serif\" font-size=\"14.00\">entropy = 0.0</text>\n",
              "<text text-anchor=\"middle\" x=\"745\" y=\"-149.3\" font-family=\"Helvetica,sans-Serif\" font-size=\"14.00\">samples = 1</text>\n",
              "<text text-anchor=\"middle\" x=\"745\" y=\"-134.3\" font-family=\"Helvetica,sans-Serif\" font-size=\"14.00\">value = [0, 1, 0]</text>\n",
              "<text text-anchor=\"middle\" x=\"745\" y=\"-119.3\" font-family=\"Helvetica,sans-Serif\" font-size=\"14.00\">class = versicolor</text>\n",
              "</g>\n",
              "<!-- 13&#45;&gt;14 -->\n",
              "<g id=\"edge14\" class=\"edge\">\n",
              "<title>13-&gt;14</title>\n",
              "<path fill=\"none\" stroke=\"black\" d=\"M745,-222.91C745,-212.2 745,-200.62 745,-189.78\"/>\n",
              "<polygon fill=\"black\" stroke=\"black\" points=\"748.5,-189.67 745,-179.67 741.5,-189.67 748.5,-189.67\"/>\n",
              "</g>\n",
              "<!-- 15 -->\n",
              "<g id=\"node16\" class=\"node\">\n",
              "<title>15</title>\n",
              "<path fill=\"#8139e5\" stroke=\"black\" d=\"M952.5,-179.5C952.5,-179.5 845.5,-179.5 845.5,-179.5 839.5,-179.5 833.5,-173.5 833.5,-167.5 833.5,-167.5 833.5,-123.5 833.5,-123.5 833.5,-117.5 839.5,-111.5 845.5,-111.5 845.5,-111.5 952.5,-111.5 952.5,-111.5 958.5,-111.5 964.5,-117.5 964.5,-123.5 964.5,-123.5 964.5,-167.5 964.5,-167.5 964.5,-173.5 958.5,-179.5 952.5,-179.5\"/>\n",
              "<text text-anchor=\"middle\" x=\"899\" y=\"-164.3\" font-family=\"Helvetica,sans-Serif\" font-size=\"14.00\">entropy = 0.0</text>\n",
              "<text text-anchor=\"middle\" x=\"899\" y=\"-149.3\" font-family=\"Helvetica,sans-Serif\" font-size=\"14.00\">samples = 2</text>\n",
              "<text text-anchor=\"middle\" x=\"899\" y=\"-134.3\" font-family=\"Helvetica,sans-Serif\" font-size=\"14.00\">value = [0, 0, 2]</text>\n",
              "<text text-anchor=\"middle\" x=\"899\" y=\"-119.3\" font-family=\"Helvetica,sans-Serif\" font-size=\"14.00\">class = virginica</text>\n",
              "</g>\n",
              "<!-- 13&#45;&gt;15 -->\n",
              "<g id=\"edge15\" class=\"edge\">\n",
              "<title>13-&gt;15</title>\n",
              "<path fill=\"none\" stroke=\"black\" d=\"M798.43,-222.91C814.26,-210.88 831.56,-197.73 847.28,-185.79\"/>\n",
              "<polygon fill=\"black\" stroke=\"black\" points=\"849.5,-188.5 855.34,-179.67 845.26,-182.93 849.5,-188.5\"/>\n",
              "</g>\n",
              "</g>\n",
              "</svg>"
            ],
            "text/plain": [
              "<IPython.core.display.SVG object>"
            ]
          },
          "metadata": {},
          "output_type": "display_data"
        }
      ],
      "source": [
        "# The following requires graphviz on your computer\n",
        "display(SVG(graph.pipe(format='svg')))"
      ]
    },
    {
      "cell_type": "markdown",
      "metadata": {
        "id": "5pRfYJ5H_O4U"
      },
      "source": [
        "Now that we have seen how decision tree is look like, let us learn how to build the decision trees."
      ]
    },
    {
      "cell_type": "markdown",
      "metadata": {
        "id": "Fwyynyzo-wVs"
      },
      "source": [
        "**Decision Tree algorithm intuition**\n",
        "\n"
      ]
    },
    {
      "cell_type": "markdown",
      "metadata": {
        "id": "GtWE98wR_N7s"
      },
      "source": [
        "\n",
        "\n",
        "The Decision Tree algorithm intuition is as follows:-\n",
        "\n",
        "\n",
        "1.\tFor each attribute in the dataset, the Decision-Tree algorithm forms a node. The most important attribute is placed at the root node.\n",
        "\n",
        "2.\tFor evaluating the task in hand, we start at the root node and we work our way down the tree by following the corresponding node that meets our condition or decision.\n",
        "\n",
        "3.\tThis process continues until a leaf node is reached. It contains the prediction or the outcome of the Decision Tree.\n",
        "\n",
        "There are several algorithms like CART, ID3, C4.5 etc.\n"
      ]
    },
    {
      "cell_type": "markdown",
      "metadata": {
        "id": "RkPX0tl7AFPk"
      },
      "source": [
        "# Attribute Selection Measures"
      ]
    },
    {
      "cell_type": "markdown",
      "metadata": {
        "id": "RTG0KFoTBGYP"
      },
      "source": [
        "The primary challenge in the Decision Tree implementation is to identify the attributes which we consider as the root node and each level. This process is known as the **attributes selection**. There are different attributes selection measure to identify the attribute which can be considered as the root node at each level.\n",
        "\n",
        "There are 2 popular attribute selection measures. They are as follows:-\n",
        "\n",
        "- **Information gain**\n",
        "- **Gini index**\n",
        "\n",
        "While using **Information gain** as a criterion, we assume attributes to be categorical and for **Gini index** attributes are assumed to be continuous. These attribute selection measures are described below.\n"
      ]
    },
    {
      "cell_type": "markdown",
      "metadata": {
        "id": "5N9Rll6yDVsp"
      },
      "source": [
        "**Information gain**\n",
        "\n",
        "By using information gain as a criterion, we try to estimate the information contained by each attribute. To understand the concept of Information Gain, we need to know another concept called **Entropy**.\n",
        "\n",
        "## Entropy\n",
        "\n",
        "Entropy measures the impurity in the given dataset. In Physics and Mathematics, entropy is referred to as the randomness or uncertainty of a random variable X. In information theory, it refers to the impurity in a group of examples. **Information gain** is the decrease in entropy. Information gain computes the difference between entropy before split and average entropy after split of the dataset based on given attribute values.\n",
        "\n",
        "Entropy is represented by the following formula:-\n",
        "\n",
        "<img src=\"http://www.learnbymarketing.com/wp-content/uploads/2016/02/entropy-formula.png\">\n",
        "\n",
        "Here, **c** is the number of classes and **pi** is the probability associated with the ith class.\n",
        "\n",
        "<img src=\"https://drive.google.com/uc?export=view&id=1d5uP4sbldnZr0haM0zZ6ar-G5R_sctGG\">\n",
        "\n",
        "The ID3 (Iterative Dichotomiser) Decision Tree algorithm uses entropy to calculate information gain. So, by calculating decrease in **entropy measure** of each attribute we can calculate their information gain. The attribute with the highest information gain is chosen as the splitting attribute at the node.\n"
      ]
    },
    {
      "cell_type": "markdown",
      "metadata": {
        "id": "aQqmc-qpD9uk"
      },
      "source": [
        "## Gini index\n",
        "\n",
        "\n",
        "\n",
        "Another attribute selection measure that **CART (Categorical and Regression Trees)** uses is the **Gini index**. It uses the Gini method to create split points.\n",
        "\n",
        "\n",
        "Gini index can be represented with the following diagram:-\n",
        "\n",
        "\n",
        "<img src=\"https://encrypted-tbn0.gstatic.com/images?q=tbn:ANd9GcRzYHkcmZKKp2sJN1HpHvw-NgqbD9EnapnbXozXRgajrSGvEnYy&s\">\n",
        "\n",
        "\n",
        "Here, again **c** is the number of classes and **pi** is the probability associated with the ith class.\n",
        "\n",
        "Gini index says, if we randomly select two items from a population, they must be of the same class and probability for this is 1 if the population is pure.\n",
        "\n",
        "It works with the categorical target variable “Success” or “Failure”. It performs only binary splits. The higher the value of Gini, higher the homogeneity. CART (Classification and Regression Tree) uses the Gini method to create binary splits.\n",
        "\n",
        "Steps to Calculate Gini for a split\n",
        "\n",
        "1.\tCalculate Gini for sub-nodes, using formula sum of the square of probability for success and failure ($p^2+q^2$).\n",
        "\n",
        "2.\tCalculate Gini for split using weighted Gini score of each node of that split.\n",
        "\n",
        "\n",
        "In case of a discrete-valued attribute, the subset that gives the minimum gini index for that chosen is selected as a splitting attribute. In the case of continuous-valued attributes, the strategy is to select each pair of adjacent values as a possible split-point and point with smaller gini index chosen as the splitting point. The attribute with minimum Gini index is chosen as the splitting attribute."
      ]
    },
    {
      "cell_type": "markdown",
      "metadata": {
        "id": "l8UZl43bD6F9"
      },
      "source": [
        "# Splitting the node"
      ]
    },
    {
      "cell_type": "markdown",
      "metadata": {
        "id": "3bzoo8QHE0oY"
      },
      "source": [
        "Lets see the case of Information gain at root level to decide which attribute to select from sepal length, sepal width, petal length, petal width and what is the value the attribute must compared to make decision?\n",
        "\n",
        "Process:\n",
        "1. At each node, for every attribute(columns), Iterates over unique feature values to find the best split\n",
        "2. Calculates a potential split value as the average of adjacent unique feature values.\n",
        "3. Creates boolean masks for the left and right subsets based on the potential split value.\n",
        "4. Filters the data into left and right subsets(children).\n",
        "5. Calculates the entropies of the left and right subsets based on the target column.\n",
        "6. Calculates the weight (proportion) of each subset relative to the entire dataset.\n",
        "7. Computes the weighted average entropy for the split.\n",
        "8. Calculates information gain as the difference between the total entropy and the split entropy.\n",
        "9. Updates the best split value and maximum information gain if a better split is found.\n",
        "\n",
        "**Notation**:\n",
        "We will be labelling the nodes level-wise, starting with 0.\n",
        "So root node will be Node 0, it's left child is node 1, right child is node 2 and so on.."
      ]
    },
    {
      "cell_type": "code",
      "execution_count": 13,
      "metadata": {
        "id": "O_VxuI3OA7gW"
      },
      "outputs": [],
      "source": [
        "import numpy as np\n",
        "from scipy.stats import entropy\n",
        "from sklearn.datasets import load_iris\n",
        "\n",
        "def calculate_information_gain(X, y, feature_index, target_column):\n",
        "    \"\"\"\n",
        "    Calculate information gain for a specific feature in a dataset.\n",
        "\n",
        "    Parameters:\n",
        "        - data: A numpy array containing the data with features and a target column.\n",
        "        - feature_index: The index of the feature for which to calculate information gain.\n",
        "        - target_column: The index of the target column (class labels).\n",
        "\n",
        "    Returns:\n",
        "        - Information gain for the specified feature.\n",
        "    \"\"\"\n",
        "    # Extract the feature and target columns\n",
        "    feature_values = X[:, feature_index]\n",
        "    target_values = y\n",
        "\n",
        "    # Calculate the entropy of the entire dataset\n",
        "    total_entropy = entropy(np.bincount(target_values)/np.sum(target_values), base=2)\n",
        "    print(\"Entropy is:\", total_entropy)\n",
        "    # Initialize variables to store the best split value and maximum information gain\n",
        "    best_split_value = None\n",
        "    max_information_gain = 0.0\n",
        "\n",
        "    unique_feature_values = np.unique(feature_values)\n",
        "\n",
        "    for i in range(len(unique_feature_values)-1):\n",
        "        # Calculate the potential split value as the average of adjacent unique values\n",
        "        split_value = (unique_feature_values[i] + unique_feature_values[i + 1]) / 2\n",
        "        # Split the data based on the current split value\n",
        "        left_mask = feature_values <= split_value\n",
        "        right_mask = feature_values > split_value\n",
        "        left_subset = X[left_mask]\n",
        "        right_subset = y[right_mask]\n",
        "\n",
        "        subset_target_left = target_values[left_mask]\n",
        "        subset_target_right = target_values[right_mask]\n",
        "\n",
        "        # Calculate the entropies of the left and right subsets based on the target column\n",
        "        left_entropy = entropy(np.bincount(subset_target_left)/ len(subset_target_left), base=2)\n",
        "        right_entropy = entropy(np.bincount(subset_target_right)/ len(subset_target_right), base=2)\n",
        "\n",
        "        # Calculate the weight (proportion) of each subset\n",
        "        left_weight = len(left_subset) / len(target_values)\n",
        "        right_weight = len(right_subset) / len(target_values)\n",
        "\n",
        "        # Calculate the weighted average entropy for the split\n",
        "        split_entropy = left_weight * left_entropy + right_weight * right_entropy\n",
        "\n",
        "        # Calculate information gain for the split\n",
        "        information_gain = total_entropy - split_entropy\n",
        "\n",
        "        # Update the best split value and maximum information gain if needed\n",
        "        if information_gain > max_information_gain:\n",
        "            max_information_gain = information_gain\n",
        "            best_split_value = split_value\n",
        "\n",
        "    return max_information_gain, best_split_value\n"
      ]
    },
    {
      "cell_type": "markdown",
      "metadata": {
        "id": "CAPlUodFwys5"
      },
      "source": [
        "**For Node 0 (Root Node)**\n",
        "\n",
        "for root node, let use see what is information gain with respect to all attributes and what is best split value of that atribute."
      ]
    },
    {
      "cell_type": "code",
      "execution_count": 14,
      "metadata": {
        "colab": {
          "base_uri": "https://localhost:8080/"
        },
        "id": "4V5zqgtfWT-A",
        "outputId": "5a811584-1b7b-4275-e7cb-551abbd3c203"
      },
      "outputs": [
        {
          "name": "stdout",
          "output_type": "stream",
          "text": [
            "Entropy is: 1.584962500721156\n",
            "Information Gain for Feature sepal length (cm) : 0.5572326878069265\n",
            "Best Split Value: 5.55\n",
            "Entropy is: 1.584962500721156\n",
            "Information Gain for Feature sepal width (cm) : 0.28312598916883136\n",
            "Best Split Value: 3.3499999999999996\n",
            "Entropy is: 1.584962500721156\n",
            "Information Gain for Feature petal length (cm) : 0.9182958340544894\n",
            "Best Split Value: 2.45\n",
            "Entropy is: 1.584962500721156\n",
            "Information Gain for Feature petal width (cm) : 0.9182958340544894\n",
            "Best Split Value: 0.8\n"
          ]
        }
      ],
      "source": [
        "for i in range(4):\n",
        "\n",
        "  # Specify the index of the feature you want to calculate information gain for\n",
        "  feature_index = i  # Replace with the desired feature index\n",
        "\n",
        "  # Specify the target column as iris.target\n",
        "  target_column = iris.target\n",
        "\n",
        "  # Calculate information gain for the specified feature and get the best split value\n",
        "  info_gain, best_split_value = calculate_information_gain(iris.data, iris.target , feature_index, target_column)\n",
        "  print(\"Information Gain for Feature\", iris.feature_names[feature_index], \":\", info_gain)\n",
        "  print(\"Best Split Value:\", best_split_value)"
      ]
    },
    {
      "cell_type": "markdown",
      "metadata": {
        "id": "xYU3-f0AFEs6"
      },
      "source": [
        "As we can see by selection of petal length as attribute for split we get the highest information gain. so we proceed with petal length to split the node and the value of best split occurs at 2.45.\n",
        "So the split happens like for data where petal length is <= 2.45 will go for the left child and whose petal length is > 2.45 goes to right child.\n",
        "\n",
        "If we observe the left child, it is a pure leaf node as it contains data entirely belonging to one single class and thus have entropy as 0"
      ]
    },
    {
      "cell_type": "markdown",
      "metadata": {
        "id": "gp3YtWDYxUx4"
      },
      "source": [
        "**For Node 2**"
      ]
    },
    {
      "cell_type": "code",
      "execution_count": 15,
      "metadata": {
        "colab": {
          "base_uri": "https://localhost:8080/"
        },
        "id": "9ThtnOGS7X17",
        "outputId": "f6b0dfa9-0567-4888-c790-4a987136b363"
      },
      "outputs": [
        {
          "name": "stdout",
          "output_type": "stream",
          "text": [
            "Entropy is: 1.0\n",
            "Information Gain for Feature sepal length (cm) : 0.16049997364457846\n",
            "Best Split Value: 6.15\n",
            "Entropy is: 1.0\n",
            "Information Gain for Feature sepal width (cm) : 0.05823679945423099\n",
            "Best Split Value: 2.45\n",
            "Entropy is: 1.0\n",
            "Information Gain for Feature petal length (cm) : 0.6573737500732157\n",
            "Best Split Value: 4.75\n",
            "Entropy is: 1.0\n",
            "Information Gain for Feature petal width (cm) : 0.6901603707546748\n",
            "Best Split Value: 1.75\n"
          ]
        }
      ],
      "source": [
        "mask = X[:, 2] > 2.45\n",
        "\n",
        "for i in range(4):\n",
        "\n",
        "  # Specify the index of the feature you want to calculate information gain for\n",
        "  feature_index = i  # Replace with the desired feature index\n",
        "\n",
        "  # Specify the target column as iris.target\n",
        "  target_column = iris.target\n",
        "\n",
        "  # Calculate information gain for the specified feature and get the best split value\n",
        "  info_gain, best_split_value = calculate_information_gain(iris.data[mask], iris.target[mask], feature_index, target_column)\n",
        "  print(\"Information Gain for Feature\", iris.feature_names[feature_index], \":\", info_gain)\n",
        "  print(\"Best Split Value:\", best_split_value)\n",
        "\n"
      ]
    },
    {
      "cell_type": "markdown",
      "metadata": {
        "id": "gsyAJumLxftk"
      },
      "source": [
        "Applying again the same case to node 2, the information gain is highest when petal width attribute is selected and the best spllit value for that attribute is 1.75, so that node is split into 2 children where one has petal width <= 1.75 and other > 1.75\n",
        "\n",
        "and the process is repeated untill we get pure-leaf nodes(with entropy 0)."
      ]
    },
    {
      "cell_type": "markdown",
      "metadata": {
        "id": "pWU8j7YwawDM"
      },
      "source": [
        "Similarly you can extend this to any internal node( non-leaf node)."
      ]
    },
    {
      "cell_type": "markdown",
      "metadata": {
        "id": "rW1MBQUMGI8s"
      },
      "source": [
        "# Decision Boundaries"
      ]
    },
    {
      "cell_type": "markdown",
      "metadata": {
        "id": "mqv1onjGbAFC"
      },
      "source": [
        "We have seen how to construct the decision tree, now we will try to visualize how does the decision boundary exists for decision trees.\n",
        "\n",
        "To make observation easy first, let us try with 2 features and see how decision boundaries look after classifier is being trained.(We will do it pair-wise)."
      ]
    },
    {
      "cell_type": "code",
      "execution_count": 16,
      "metadata": {
        "colab": {
          "base_uri": "https://localhost:8080/",
          "height": 692
        },
        "id": "uKiRxVf8OZrH",
        "outputId": "e777a5f3-8b37-4ed5-d4c6-abea9b6c9e88"
      },
      "outputs": [
        {
          "name": "stderr",
          "output_type": "stream",
          "text": [
            "/tmp/ipykernel_17974/1804797290.py:34: UserWarning: No data for colormapping provided via 'c'. Parameters 'cmap' will be ignored\n",
            "  plt.scatter(\n",
            "/tmp/ipykernel_17974/1804797290.py:34: UserWarning: No data for colormapping provided via 'c'. Parameters 'cmap' will be ignored\n",
            "  plt.scatter(\n",
            "/tmp/ipykernel_17974/1804797290.py:34: UserWarning: No data for colormapping provided via 'c'. Parameters 'cmap' will be ignored\n",
            "  plt.scatter(\n"
          ]
        },
        {
          "name": "stderr",
          "output_type": "stream",
          "text": [
            "/tmp/ipykernel_17974/1804797290.py:34: UserWarning: No data for colormapping provided via 'c'. Parameters 'cmap' will be ignored\n",
            "  plt.scatter(\n",
            "/tmp/ipykernel_17974/1804797290.py:34: UserWarning: No data for colormapping provided via 'c'. Parameters 'cmap' will be ignored\n",
            "  plt.scatter(\n",
            "/tmp/ipykernel_17974/1804797290.py:34: UserWarning: No data for colormapping provided via 'c'. Parameters 'cmap' will be ignored\n",
            "  plt.scatter(\n"
          ]
        },
        {
          "data": {
            "image/png": "[encoded data removed]",
            "text/plain": [
              "<Figure size 432x288 with 6 Axes>"
            ]
          },
          "metadata": {
            "needs_background": "light"
          },
          "output_type": "display_data"
        }
      ],
      "source": [
        "\n",
        "# Parameters\n",
        "n_classes = 3\n",
        "plot_colors = \"ryb\"\n",
        "plot_step = 0.02\n",
        "\n",
        "for pairidx, pair in enumerate([[0, 1], [0, 2], [0, 3], [1, 2], [1, 3], [2, 3]]):\n",
        "    # We only take the two corresponding features\n",
        "    X = iris.data[:, pair]\n",
        "    y = iris.target\n",
        "\n",
        "    # Train\n",
        "    clf = DecisionTreeClassifier().fit(X, y)\n",
        "\n",
        "    # Plot the decision boundary\n",
        "    plt.subplot(2, 3, pairidx + 1)\n",
        "\n",
        "    x_min, x_max = X[:, 0].min() - 1, X[:, 0].max() + 1\n",
        "    y_min, y_max = X[:, 1].min() - 1, X[:, 1].max() + 1\n",
        "    xx, yy = np.meshgrid(\n",
        "        np.arange(x_min, x_max, plot_step), np.arange(y_min, y_max, plot_step)\n",
        "    )\n",
        "    plt.tight_layout(h_pad=0.5, w_pad=0.5, pad=2.5)\n",
        "\n",
        "    Z = clf.predict(np.c_[xx.ravel(), yy.ravel()])\n",
        "    Z = Z.reshape(xx.shape)\n",
        "    cs = plt.contourf(xx, yy, Z, cmap=plt.cm.RdYlBu)\n",
        "\n",
        "    plt.xlabel(iris.feature_names[pair[0]])\n",
        "    plt.ylabel(iris.feature_names[pair[1]])\n",
        "\n",
        "    # Plot the training points\n",
        "    for i, color in zip(range(n_classes), plot_colors):\n",
        "        idx = np.where(y == i)\n",
        "        plt.scatter(\n",
        "            X[idx, 0],\n",
        "            X[idx, 1],\n",
        "            c=color,\n",
        "            label=iris.target_names[i],\n",
        "            cmap=plt.cm.RdYlBu,\n",
        "            edgecolor=\"black\",\n",
        "            s=15,\n",
        "        )\n",
        "\n",
        "plt.suptitle(\"Decision surface of decision trees trained on pairs of features\")\n",
        "plt.legend(loc=\"lower right\", borderpad=0, handletextpad=0)\n",
        "_ = plt.axis(\"tight\");"
      ]
    },
    {
      "cell_type": "markdown",
      "metadata": {
        "id": "B21AoIGOfvnt"
      },
      "source": [
        "Next, we display the structure of a single decision tree trained on all the features together"
      ]
    },
    {
      "cell_type": "code",
      "execution_count": 17,
      "metadata": {
        "colab": {
          "base_uri": "https://localhost:8080/",
          "height": 433
        },
        "id": "md8eIYNMfwpm",
        "outputId": "94136ad2-4926-4f4f-bc76-1a48cf5084cc"
      },
      "outputs": [
        {
          "data": {
            "image/png": "[encoded data removed]",
            "text/plain": [
              "<Figure size 432x288 with 1 Axes>"
            ]
          },
          "metadata": {
            "needs_background": "light"
          },
          "output_type": "display_data"
        }
      ],
      "source": [
        "X = iris.data\n",
        "y = iris.target\n",
        "plt.scatter(X[:, 0], X[:, 1], c=y, s=50, cmap=plt.cm.Paired);"
      ]
    },
    {
      "cell_type": "code",
      "execution_count": 18,
      "metadata": {
        "id": "eS8li-ccf-nf"
      },
      "outputs": [],
      "source": [
        "\n",
        "def visualize_tree(estimator, X, y, boundaries=True, xlim=None, ylim=None):\n",
        "\n",
        "    estimator.fit(X, y)\n",
        "\n",
        "    if xlim is None:\n",
        "        xlim = (X[:, 0].min() - 0.1, X[:, 0].max() + 0.1)\n",
        "    if ylim is None:\n",
        "        ylim = (X[:, 1].min() - 0.1, X[:, 1].max() + 0.1)\n",
        "\n",
        "    x_min, x_max = xlim\n",
        "    y_min, y_max = ylim\n",
        "    xx, yy = np.meshgrid(np.linspace(x_min, x_max, 100), np.linspace(y_min, y_max, 100))\n",
        "    Z = estimator.predict(np.c_[xx.ravel(), yy.ravel()])\n",
        "    # Put the result into a color plot\n",
        "    Z = Z.reshape(xx.shape)\n",
        "    plt.figure()\n",
        "    plt.pcolormesh(xx, yy, Z, alpha=0.2, cmap=plt.cm.Paired)\n",
        "    plt.clim(y.min(), y.max())\n",
        "    # Plot also the training points\n",
        "    plt.scatter(X[:, 0], X[:, 1], c=y, s=50, cmap=plt.cm.Paired)\n",
        "    plt.axis('off')\n",
        "    plt.xlim(x_min, x_max)\n",
        "    plt.ylim(y_min, y_max)\n",
        "    plt.clim(y.min(), y.max())\n",
        "\n",
        "    # Plot the decision boundaries\n",
        "    def plot_boundaries(i, xlim, ylim):\n",
        "        if i < 0:\n",
        "            return\n",
        "\n",
        "        tree = estimator.tree_\n",
        "\n",
        "        if tree.feature[i] == 0:\n",
        "            plt.plot([tree.threshold[i], tree.threshold[i]], ylim, '-r')\n",
        "            plot_boundaries(tree.children_left[i], [xlim[0], tree.threshold[i]], ylim)\n",
        "            plot_boundaries(tree.children_right[i], [tree.threshold[i], xlim[1]], ylim)\n",
        "\n",
        "        elif tree.feature[i] == 1:\n",
        "            plt.plot(xlim, [tree.threshold[i], tree.threshold[i]], '-r')\n",
        "            plot_boundaries(tree.children_left[i], xlim, [ylim[0], tree.threshold[i]])\n",
        "            plot_boundaries(tree.children_right[i], xlim, [tree.threshold[i], ylim[1]])\n",
        "\n",
        "    if boundaries:\n",
        "        plot_boundaries(0, plt.xlim(), plt.ylim())"
      ]
    },
    {
      "cell_type": "markdown",
      "metadata": {
        "id": "wQxTB72XgJDa"
      },
      "source": [
        "We use a custom function which generates a (static) plot of a decision tree classifier with specified parameters."
      ]
    },
    {
      "cell_type": "code",
      "execution_count": 19,
      "metadata": {
        "colab": {
          "base_uri": "https://localhost:8080/",
          "height": 438,
          "referenced_widgets": [
            "a0353506a838494cb95be840c588390f",
            "f4da4a2847ef427e8074fdbf31b49618",
            "52f6eeed83d64e3b902a6a453413f1b5",
            "aab00c6bb4044b7fb8dad6b44a6ee2c6",
            "47e8bd56b7ec4ba384c10363cebba96a",
            "f1bf2027441c43169966c50c06215fa2",
            "95db475417dc4ec5920b629e9957dba3"
          ]
        },
        "id": "GW-wTQxRgHl8",
        "outputId": "d066f4c2-875c-49d8-ce9b-45d2a1a13339"
      },
      "outputs": [
        {
          "data": {
            "application/vnd.jupyter.widget-view+json": {
              "model_id": "81265f6a40214f2b9996271c96d2483b",
              "version_major": 2,
              "version_minor": 0
            },
            "text/plain": [
              "interactive(children=(IntSlider(value=1, description='depth', max=15, min=1), Output()), _dom_classes=('widget…"
            ]
          },
          "execution_count": 19,
          "metadata": {},
          "output_type": "execute_result"
        }
      ],
      "source": [
        "# use 2 features\n",
        "X = iris.data[:,:2]\n",
        "y = iris.target\n",
        "\n",
        "def interactive_tree(depth=1):\n",
        "    clf = DecisionTreeClassifier(max_depth=depth, random_state=0)\n",
        "    visualize_tree(clf, X, y)\n",
        "    plt.show()\n",
        "\n",
        "interactive(interactive_tree, depth=(1, 15))"
      ]
    },
    {
      "cell_type": "markdown",
      "metadata": {
        "id": "oO-wP75Bb99R"
      },
      "source": [
        "**Note:** The decision boundaries of decision trees are always parallel to an axis. Why is that? It's because each node in a decision tree consists of a test using only **one feature at a time**."
      ]
    },
    {
      "cell_type": "markdown",
      "metadata": {
        "id": "CZmJxTUBiOcZ"
      },
      "source": [
        "# Overfitting"
      ]
    },
    {
      "cell_type": "markdown",
      "metadata": {
        "id": "sqKZYIvliT6S"
      },
      "source": [
        "One issue with decision trees is that it is very easy to create trees which overfit the data. As an example, we will use a random sample of 50% of the iris data to train the model and display the results:"
      ]
    },
    {
      "cell_type": "code",
      "execution_count": 20,
      "metadata": {
        "colab": {
          "base_uri": "https://localhost:8080/",
          "height": 406
        },
        "id": "BmLpJog9iQSP",
        "outputId": "cd3c021e-0574-4249-8b49-ab4d8dcfc5f6"
      },
      "outputs": [
        {
          "data": {
            "image/png": "[encoded data removed]",
            "text/plain": [
              "<Figure size 432x288 with 1 Axes>"
            ]
          },
          "metadata": {
            "needs_background": "light"
          },
          "output_type": "display_data"
        }
      ],
      "source": [
        "X_train, X_test, y_train, y_test = train_test_split(\n",
        "    X, y, test_size=0.5, random_state=42)\n",
        "\n",
        "clf_1 = DecisionTreeClassifier()\n",
        "\n",
        "visualize_tree(clf_1, X_train, y_train, boundaries=False)"
      ]
    },
    {
      "cell_type": "markdown",
      "metadata": {
        "id": "6rWM1Cxsia1Q"
      },
      "source": [
        "Next, we use a different sample (we simply need to change the random state) to fit another tree:\n",
        "\n"
      ]
    },
    {
      "cell_type": "code",
      "execution_count": 21,
      "metadata": {
        "colab": {
          "base_uri": "https://localhost:8080/",
          "height": 406
        },
        "id": "c1x69Srliej4",
        "outputId": "0ccb5743-3f67-45bf-c615-8a02dc1a4d00"
      },
      "outputs": [
        {
          "data": {
            "image/png": "[encoded data removed]",
            "text/plain": [
              "<Figure size 432x288 with 1 Axes>"
            ]
          },
          "metadata": {
            "needs_background": "light"
          },
          "output_type": "display_data"
        }
      ],
      "source": [
        "X_train, X_test, y_train, y_test = train_test_split(\n",
        "    X, y, test_size=0.5, random_state=123)\n",
        "\n",
        "clf_2 = DecisionTreeClassifier()\n",
        "\n",
        "visualize_tree(clf_2, X_train, y_train, boundaries=False)"
      ]
    },
    {
      "cell_type": "markdown",
      "metadata": {
        "id": "T2l9N2Yyivus"
      },
      "source": [
        "Two approaches which can be used to avoid overfitting are as follows:-\n",
        "\n",
        "- Pre-Pruning\n",
        "\n",
        "- Post-Pruning\n",
        "\n",
        "\n",
        "## **Pre-Pruning**\n",
        "\n",
        "In pre-pruning, we stop the tree construction a bit early. We prefer not to split a node if its goodness measure is below a threshold value. But it is difficult to choose an appropriate stopping point.\n",
        "\n",
        "\n",
        "## **Post-Pruning**\n",
        "\n",
        "In post-pruning, we go deeper and deeper in the tree to build a complete tree. If the tree shows the overfitting problem then pruning is done as a post-pruning step. We use the cross-validation data to check the effect of our pruning. Using cross-validation data, we test whether expanding a node will result in improve or not. If it shows an improvement, then we can continue by expanding that node. But if it shows a reduction in accuracy then it should not be expanded. So, the node should be converted to a leaf node."
      ]
    },
    {
      "cell_type": "markdown",
      "metadata": {
        "id": "Wjqsdax0ik6t"
      },
      "source": [
        "Note that the details of the classifications are very different, which is an indication of overfitting:\n",
        "\n",
        "when you predict the value for a new point, the result is more reflective of the noise in the model rather than the signal."
      ]
    }
  ],
  "metadata": {
    "colab": {
      "provenance": []
    },
    "kernelspec": {
      "display_name": "Python 3",
      "name": "python3"
    },
    "language_info": {
      "codemirror_mode": {
        "name": "ipython",
        "version": 3
      },
      "file_extension": ".py",
      "mimetype": "text/x-python",
      "name": "python",
      "nbconvert_exporter": "python",
      "pygments_lexer": "ipython3",
      "version": "3.8.10"
    },
    "widgets": {
      "application/vnd.jupyter.widget-state+json": {
        "47e8bd56b7ec4ba384c10363cebba96a": {
          "model_module": "@jupyter-widgets/base",
          "model_module_version": "1.2.0",
          "model_name": "LayoutModel",
          "state": {
            "_model_module": "@jupyter-widgets/base",
            "_model_module_version": "1.2.0",
            "_model_name": "LayoutModel",
            "_view_count": null,
            "_view_module": "@jupyter-widgets/base",
            "_view_module_version": "1.2.0",
            "_view_name": "LayoutView",
            "align_content": null,
            "align_items": null,
            "align_self": null,
            "border": null,
            "bottom": null,
            "display": null,
            "flex": null,
            "flex_flow": null,
            "grid_area": null,
            "grid_auto_columns": null,
            "grid_auto_flow": null,
            "grid_auto_rows": null,
            "grid_column": null,
            "grid_gap": null,
            "grid_row": null,
            "grid_template_areas": null,
            "grid_template_columns": null,
            "grid_template_rows": null,
            "height": null,
            "justify_content": null,
            "justify_items": null,
            "left": null,
            "margin": null,
            "max_height": null,
            "max_width": null,
            "min_height": null,
            "min_width": null,
            "object_fit": null,
            "object_position": null,
            "order": null,
            "overflow": null,
            "overflow_x": null,
            "overflow_y": null,
            "padding": null,
            "right": null,
            "top": null,
            "visibility": null,
            "width": null
          }
        },
        "52f6eeed83d64e3b902a6a453413f1b5": {
          "model_module": "@jupyter-widgets/output",
          "model_module_version": "1.0.0",
          "model_name": "OutputModel",
          "state": {
            "_dom_classes": [],
            "_model_module": "@jupyter-widgets/output",
            "_model_module_version": "1.0.0",
            "_model_name": "OutputModel",
            "_view_count": null,
            "_view_module": "@jupyter-widgets/output",
            "_view_module_version": "1.0.0",
            "_view_name": "OutputView",
            "layout": "IPY_MODEL_95db475417dc4ec5920b629e9957dba3",
            "msg_id": "",
            "outputs": [
              {
                "data": {
                  "image/png": "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\n",
                  "text/plain": "<Figure size 640x480 with 1 Axes>"
                },
                "metadata": {},
                "output_type": "display_data"
              }
            ]
          }
        },
        "95db475417dc4ec5920b629e9957dba3": {
          "model_module": "@jupyter-widgets/base",
          "model_module_version": "1.2.0",
          "model_name": "LayoutModel",
          "state": {
            "_model_module": "@jupyter-widgets/base",
            "_model_module_version": "1.2.0",
            "_model_name": "LayoutModel",
            "_view_count": null,
            "_view_module": "@jupyter-widgets/base",
            "_view_module_version": "1.2.0",
            "_view_name": "LayoutView",
            "align_content": null,
            "align_items": null,
            "align_self": null,
            "border": null,
            "bottom": null,
            "display": null,
            "flex": null,
            "flex_flow": null,
            "grid_area": null,
            "grid_auto_columns": null,
            "grid_auto_flow": null,
            "grid_auto_rows": null,
            "grid_column": null,
            "grid_gap": null,
            "grid_row": null,
            "grid_template_areas": null,
            "grid_template_columns": null,
            "grid_template_rows": null,
            "height": null,
            "justify_content": null,
            "justify_items": null,
            "left": null,
            "margin": null,
            "max_height": null,
            "max_width": null,
            "min_height": null,
            "min_width": null,
            "object_fit": null,
            "object_position": null,
            "order": null,
            "overflow": null,
            "overflow_x": null,
            "overflow_y": null,
            "padding": null,
            "right": null,
            "top": null,
            "visibility": null,
            "width": null
          }
        },
        "a0353506a838494cb95be840c588390f": {
          "model_module": "@jupyter-widgets/controls",
          "model_module_version": "1.5.0",
          "model_name": "VBoxModel",
          "state": {
            "_dom_classes": [
              "widget-interact"
            ],
            "_model_module": "@jupyter-widgets/controls",
            "_model_module_version": "1.5.0",
            "_model_name": "VBoxModel",
            "_view_count": null,
            "_view_module": "@jupyter-widgets/controls",
            "_view_module_version": "1.5.0",
            "_view_name": "VBoxView",
            "box_style": "",
            "children": [
              "IPY_MODEL_f4da4a2847ef427e8074fdbf31b49618",
              "IPY_MODEL_52f6eeed83d64e3b902a6a453413f1b5"
            ],
            "layout": "IPY_MODEL_aab00c6bb4044b7fb8dad6b44a6ee2c6"
          }
        },
        "aab00c6bb4044b7fb8dad6b44a6ee2c6": {
          "model_module": "@jupyter-widgets/base",
          "model_module_version": "1.2.0",
          "model_name": "LayoutModel",
          "state": {
            "_model_module": "@jupyter-widgets/base",
            "_model_module_version": "1.2.0",
            "_model_name": "LayoutModel",
            "_view_count": null,
            "_view_module": "@jupyter-widgets/base",
            "_view_module_version": "1.2.0",
            "_view_name": "LayoutView",
            "align_content": null,
            "align_items": null,
            "align_self": null,
            "border": null,
            "bottom": null,
            "display": null,
            "flex": null,
            "flex_flow": null,
            "grid_area": null,
            "grid_auto_columns": null,
            "grid_auto_flow": null,
            "grid_auto_rows": null,
            "grid_column": null,
            "grid_gap": null,
            "grid_row": null,
            "grid_template_areas": null,
            "grid_template_columns": null,
            "grid_template_rows": null,
            "height": null,
            "justify_content": null,
            "justify_items": null,
            "left": null,
            "margin": null,
            "max_height": null,
            "max_width": null,
            "min_height": null,
            "min_width": null,
            "object_fit": null,
            "object_position": null,
            "order": null,
            "overflow": null,
            "overflow_x": null,
            "overflow_y": null,
            "padding": null,
            "right": null,
            "top": null,
            "visibility": null,
            "width": null
          }
        },
        "f1bf2027441c43169966c50c06215fa2": {
          "model_module": "@jupyter-widgets/controls",
          "model_module_version": "1.5.0",
          "model_name": "SliderStyleModel",
          "state": {
            "_model_module": "@jupyter-widgets/controls",
            "_model_module_version": "1.5.0",
            "_model_name": "SliderStyleModel",
            "_view_count": null,
            "_view_module": "@jupyter-widgets/base",
            "_view_module_version": "1.2.0",
            "_view_name": "StyleView",
            "description_width": "",
            "handle_color": null
          }
        },
        "f4da4a2847ef427e8074fdbf31b49618": {
          "model_module": "@jupyter-widgets/controls",
          "model_module_version": "1.5.0",
          "model_name": "IntSliderModel",
          "state": {
            "_dom_classes": [],
            "_model_module": "@jupyter-widgets/controls",
            "_model_module_version": "1.5.0",
            "_model_name": "IntSliderModel",
            "_view_count": null,
            "_view_module": "@jupyter-widgets/controls",
            "_view_module_version": "1.5.0",
            "_view_name": "IntSliderView",
            "continuous_update": true,
            "description": "depth",
            "description_tooltip": null,
            "disabled": false,
            "layout": "IPY_MODEL_47e8bd56b7ec4ba384c10363cebba96a",
            "max": 7,
            "min": 1,
            "orientation": "horizontal",
            "readout": true,
            "readout_format": "d",
            "step": 1,
            "style": "IPY_MODEL_f1bf2027441c43169966c50c06215fa2",
            "value": 3
          }
        }
      }
    }
  },
  "nbformat": 4,
  "nbformat_minor": 0
}
