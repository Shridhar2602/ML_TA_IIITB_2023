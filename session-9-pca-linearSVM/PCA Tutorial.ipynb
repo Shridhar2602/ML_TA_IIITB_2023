{
 "cells": [
  {
   "cell_type": "markdown",
   "metadata": {
    "id": "MYr9T7KFrXHw"
   },
   "source": [
    "### Curse of dimensionality\n",
    "\n",
    "#### In machine learning, a feature of an object can be an attribute or a characteristic that defines it. Each feature represents a dimension and group of dimensions creates a data point. This represents a feature vector that defines the data point to be used by a machine learning algorithm(s).\n",
    "\n",
    "#### In theory, an increase in the dimensions indicates addition of more information to data thereby improving the quality of data,but practically more dimensions increase noise and redundancy during its analysis. You can form an intuition for the same with the following fact- if we pick 2 points randomly in a unit square, the distance between these 2 points on average be 0.52 . Similarly, average distance between 2 points will be 0.66 if 2 points are chosen randomly in a unit 3D cube. On the similar lines, this average distance becomes 408.25 if we are dealing with 1,000,000-dimensional hypercube. It's a little difficult to believe these numbers given the fact that we are picking these numbers from the same unit hypercube !! But, we shouldn't ignore the fact that there's just plenty of space in higher dimensions. \n",
    "\n",
    "#### As a result, high dimensional datasets are at a high risk of being sparse. This also means that any new instance is likely to be very far from any training instance, making predictions much less reliable than in lower dimensions."
   ]
  },
  {
   "cell_type": "code",
   "execution_count": 1,
   "metadata": {
    "id": "hoUvAW3hVu8S"
   },
   "outputs": [],
   "source": [
    "# %matplotlib notebook\n",
    "import matplotlib.pyplot as plt\n",
    "from sklearn import manifold, datasets\n",
    "import pandas as pd\n",
    "import numpy as np"
   ]
  },
  {
   "cell_type": "markdown",
   "metadata": {},
   "source": [
    "### PCA uses projection to reduce dimensionality of data with the goal of choosing the hyperplane that preserves variance the most.\n",
    "\n",
    "### Let's begin with calculation of eigen values/vectors for a matrix."
   ]
  },
  {
   "cell_type": "code",
   "execution_count": 2,
   "metadata": {
    "id": "tarTTXWwVzTs"
   },
   "outputs": [],
   "source": [
    "# Given an input matrix A\n",
    "A = np.array([[3, 4], [6, 5], [3, 6]])"
   ]
  },
  {
   "cell_type": "code",
   "execution_count": 3,
   "metadata": {
    "colab": {
     "base_uri": "https://localhost:8080/"
    },
    "id": "FZP0FH0_V6ub",
    "outputId": "f50edc7f-09d7-4416-abaf-9b2bcae21568"
   },
   "outputs": [
    {
     "data": {
      "text/plain": [
       "array([4., 5.])"
      ]
     },
     "execution_count": 3,
     "metadata": {},
     "output_type": "execute_result"
    }
   ],
   "source": [
    "# Compute the mean of the columns of input matrix A\n",
    "M = np.mean(A.T, axis=1)\n",
    "M"
   ]
  },
  {
   "cell_type": "code",
   "execution_count": 4,
   "metadata": {
    "colab": {
     "base_uri": "https://localhost:8080/"
    },
    "id": "fEKEOeVsV_2E",
    "outputId": "dff43f01-68df-4404-830f-5e7983fc9956"
   },
   "outputs": [
    {
     "data": {
      "text/plain": [
       "array([[-1., -1.],\n",
       "       [ 2.,  0.],\n",
       "       [-1.,  1.]])"
      ]
     },
     "execution_count": 4,
     "metadata": {},
     "output_type": "execute_result"
    }
   ],
   "source": [
    "# Center the matrix by subtracting the mean values of each column from each column entry\n",
    "C = A - M\n",
    "C"
   ]
  },
  {
   "cell_type": "code",
   "execution_count": 5,
   "metadata": {
    "colab": {
     "base_uri": "https://localhost:8080/"
    },
    "id": "F8JBii2kWEkG",
    "outputId": "9630945c-d1e0-458b-80b1-1a1ffa914c4d"
   },
   "outputs": [
    {
     "data": {
      "text/plain": [
       "array([[3., 0.],\n",
       "       [0., 1.]])"
      ]
     },
     "execution_count": 5,
     "metadata": {},
     "output_type": "execute_result"
    }
   ],
   "source": [
    "# Compute the covariance V of the centered matrix C\n",
    "V = np.cov(C.T)\n",
    "V"
   ]
  },
  {
   "cell_type": "code",
   "execution_count": 6,
   "metadata": {
    "colab": {
     "base_uri": "https://localhost:8080/"
    },
    "id": "fljv5xnvWNve",
    "outputId": "17730c7e-27e7-4557-ac7e-46f43ebbe29c"
   },
   "outputs": [
    {
     "name": "stdout",
     "output_type": "stream",
     "text": [
      "Eigen Values:  [3. 1.]\n",
      "Eigen Vectors:  [[1. 0.]\n",
      " [0. 1.]]\n"
     ]
    }
   ],
   "source": [
    "# Perform eigen decompostion of the covariance matrix V\n",
    "eigen_values, eigen_vectors = np.linalg.eig(V)\n",
    "print(\"Eigen Values: \", eigen_values)\n",
    "print(\"Eigen Vectors: \", eigen_vectors)"
   ]
  },
  {
   "cell_type": "code",
   "execution_count": 7,
   "metadata": {
    "colab": {
     "base_uri": "https://localhost:8080/"
    },
    "id": "bQtQZPXAYUab",
    "outputId": "87768013-c219-4119-f0f9-21b3f0dcb6de"
   },
   "outputs": [
    {
     "data": {
      "text/plain": [
       "array([[3., 4.],\n",
       "       [6., 5.],\n",
       "       [3., 6.]])"
      ]
     },
     "execution_count": 7,
     "metadata": {},
     "output_type": "execute_result"
    }
   ],
   "source": [
    "# Projected matrix P\n",
    "P = eigen_vectors.T.dot(A.T)\n",
    "P.T"
   ]
  },
  {
   "cell_type": "code",
   "execution_count": 8,
   "metadata": {
    "colab": {
     "base_uri": "https://localhost:8080/"
    },
    "id": "sVRkXQiBhyyD",
    "outputId": "98758a58-b626-4bb4-827c-38ce9c93a760"
   },
   "outputs": [
    {
     "data": {
      "text/plain": [
       "array([3., 6., 3.])"
      ]
     },
     "execution_count": 8,
     "metadata": {},
     "output_type": "execute_result"
    }
   ],
   "source": [
    "# Project the matrix A onto the first principal component\n",
    "P_with_first_eigen_vector = eigen_vectors[0].T.dot(A.T)\n",
    "P_with_first_eigen_vector.T"
   ]
  },
  {
   "cell_type": "markdown",
   "metadata": {
    "id": "1ErWExK6rhkg"
   },
   "source": [
    "### Data Standardization"
   ]
  },
  {
   "cell_type": "code",
   "execution_count": 9,
   "metadata": {
    "colab": {
     "base_uri": "https://localhost:8080/"
    },
    "id": "bAzP7uX1h9JO",
    "outputId": "45153f33-be5c-484e-82e5-34fa20a2e28a"
   },
   "outputs": [
    {
     "data": {
      "text/plain": [
       "<matplotlib.collections.PathCollection at 0x7f1e559d6460>"
      ]
     },
     "execution_count": 9,
     "metadata": {},
     "output_type": "execute_result"
    },
    {
     "data": {
      "image/png": "[encoded data removed]",
      "text/plain": [
       "<Figure size 432x288 with 1 Axes>"
      ]
     },
     "metadata": {
      "needs_background": "light"
     },
     "output_type": "display_data"
    }
   ],
   "source": [
    "from sklearn.preprocessing import StandardScaler\n",
    "\n",
    "X = np.array([[3, 4], [6, 5], [3, 6]])\n",
    "X_scaled = StandardScaler().fit_transform(X)\n",
    "X_scaled\n",
    "\n",
    "plt.scatter(X_scaled[:, 0], X_scaled[:, 1])"
   ]
  },
  {
   "cell_type": "code",
   "execution_count": 10,
   "metadata": {
    "colab": {
     "base_uri": "https://localhost:8080/"
    },
    "id": "WQ13hnLmsMjv",
    "outputId": "73c3913a-1e47-4820-8c7c-da52f0ff2c10"
   },
   "outputs": [
    {
     "data": {
      "text/plain": [
       "array([[ 1.50000000e+00, -3.87569763e-18],\n",
       "       [-3.87569763e-18,  1.50000000e+00]])"
      ]
     },
     "execution_count": 10,
     "metadata": {},
     "output_type": "execute_result"
    }
   ],
   "source": [
    "features = X_scaled.T\n",
    "cov_matrix = np.cov(features)\n",
    "cov_matrix"
   ]
  },
  {
   "cell_type": "code",
   "execution_count": 11,
   "metadata": {
    "colab": {
     "base_uri": "https://localhost:8080/"
    },
    "id": "pWF1FHKwsVsu",
    "outputId": "b435d082-ffe5-4156-ceed-bc0ad6a1ab6c"
   },
   "outputs": [
    {
     "name": "stdout",
     "output_type": "stream",
     "text": [
      "Eigen Values:  [1.5 1.5]\n",
      "Eigen Vectors:  [[ 0.70710678 -0.70710678]\n",
      " [ 0.70710678  0.70710678]]\n"
     ]
    }
   ],
   "source": [
    "eigen_values, eigen_vectors = np.linalg.eig(cov_matrix)\n",
    "print(\"Eigen Values: \", eigen_values)\n",
    "print(\"Eigen Vectors: \", eigen_vectors)"
   ]
  },
  {
   "cell_type": "markdown",
   "metadata": {
    "id": "2ZwWhWp7s7zO"
   },
   "source": [
    "### Visualization"
   ]
  },
  {
   "cell_type": "code",
   "execution_count": 12,
   "metadata": {
    "id": "cq0TN3nN78MW"
   },
   "outputs": [],
   "source": [
    "#import corresponding libraries\n",
    "import matplotlib.pyplot as plt\n",
    "import seaborn as sns"
   ]
  },
  {
   "cell_type": "code",
   "execution_count": 13,
   "metadata": {
    "colab": {
     "base_uri": "https://localhost:8080/",
     "height": 142
    },
    "id": "ePiJ5fghsdj6",
    "outputId": "1c98cb8a-4e50-43f3-ded6-6eeb9f8b2d76"
   },
   "outputs": [
    {
     "data": {
      "text/html": [
       "<div>\n",
       "<style scoped>\n",
       "    .dataframe tbody tr th:only-of-type {\n",
       "        vertical-align: middle;\n",
       "    }\n",
       "\n",
       "    .dataframe tbody tr th {\n",
       "        vertical-align: top;\n",
       "    }\n",
       "\n",
       "    .dataframe thead th {\n",
       "        text-align: right;\n",
       "    }\n",
       "</style>\n",
       "<table border=\"1\" class=\"dataframe\">\n",
       "  <thead>\n",
       "    <tr style=\"text-align: right;\">\n",
       "      <th></th>\n",
       "      <th>PC1</th>\n",
       "      <th>PC2</th>\n",
       "    </tr>\n",
       "  </thead>\n",
       "  <tbody>\n",
       "    <tr>\n",
       "      <th>0</th>\n",
       "      <td>-1.366025</td>\n",
       "      <td>-0.366025</td>\n",
       "    </tr>\n",
       "    <tr>\n",
       "      <th>1</th>\n",
       "      <td>1.000000</td>\n",
       "      <td>-1.000000</td>\n",
       "    </tr>\n",
       "    <tr>\n",
       "      <th>2</th>\n",
       "      <td>0.366025</td>\n",
       "      <td>1.366025</td>\n",
       "    </tr>\n",
       "  </tbody>\n",
       "</table>\n",
       "</div>"
      ],
      "text/plain": [
       "        PC1       PC2\n",
       "0 -1.366025 -0.366025\n",
       "1  1.000000 -1.000000\n",
       "2  0.366025  1.366025"
      ]
     },
     "execution_count": 13,
     "metadata": {},
     "output_type": "execute_result"
    }
   ],
   "source": [
    "projected_1 = X_scaled.dot(eigen_vectors.T[0])\n",
    "projected_2 = X_scaled.dot(eigen_vectors.T[1])\n",
    "res = pd.DataFrame(projected_1, columns=['PC1'])\n",
    "res['PC2'] = projected_2\n",
    "res.head()"
   ]
  },
  {
   "cell_type": "code",
   "execution_count": 14,
   "metadata": {
    "colab": {
     "base_uri": "https://localhost:8080/",
     "height": 188
    },
    "id": "FxvI61FNtOYl",
    "outputId": "7e906a00-ea08-44d8-a7cf-e0b87fe58eb1"
   },
   "outputs": [
    {
     "data": {
      "text/plain": [
       "<AxesSubplot: xlabel='PC1', ylabel='PC2'>"
      ]
     },
     "execution_count": 14,
     "metadata": {},
     "output_type": "execute_result"
    },
    {
     "data": {
      "image/png": "[encoded data removed]",
      "text/plain": [
       "<Figure size 288x144 with 1 Axes>"
      ]
     },
     "metadata": {
      "needs_background": "light"
     },
     "output_type": "display_data"
    }
   ],
   "source": [
    "plt.figure(figsize=(4, 2))\n",
    "sns.scatterplot(data = res , x = 'PC1', y = 'PC2', palette= 'icefire')"
   ]
  },
  {
   "cell_type": "markdown",
   "metadata": {
    "id": "L7k0gSjjuJ6e"
   },
   "source": [
    "### PCA for Iris Dataset\n",
    "#### Let us perform the same steps as above for a slightly complex dataset \n",
    "#### Reference: https://towardsdatascience.com/principal-component-analysis-pca-from-scratch-in-python-7f3e2a540c51 "
   ]
  },
  {
   "cell_type": "code",
   "execution_count": 15,
   "metadata": {
    "colab": {
     "base_uri": "https://localhost:8080/",
     "height": 203
    },
    "id": "VpyINUuwt4Qv",
    "outputId": "3255da51-d16a-4cc0-9a20-fac2e1dd9007"
   },
   "outputs": [
    {
     "data": {
      "text/html": [
       "<div>\n",
       "<style scoped>\n",
       "    .dataframe tbody tr th:only-of-type {\n",
       "        vertical-align: middle;\n",
       "    }\n",
       "\n",
       "    .dataframe tbody tr th {\n",
       "        vertical-align: top;\n",
       "    }\n",
       "\n",
       "    .dataframe thead th {\n",
       "        text-align: right;\n",
       "    }\n",
       "</style>\n",
       "<table border=\"1\" class=\"dataframe\">\n",
       "  <thead>\n",
       "    <tr style=\"text-align: right;\">\n",
       "      <th></th>\n",
       "      <th>sepal_length</th>\n",
       "      <th>sepal_width</th>\n",
       "      <th>petal_length</th>\n",
       "      <th>petal_width</th>\n",
       "      <th>species</th>\n",
       "    </tr>\n",
       "  </thead>\n",
       "  <tbody>\n",
       "    <tr>\n",
       "      <th>0</th>\n",
       "      <td>5.1</td>\n",
       "      <td>3.5</td>\n",
       "      <td>1.4</td>\n",
       "      <td>0.2</td>\n",
       "      <td>setosa</td>\n",
       "    </tr>\n",
       "    <tr>\n",
       "      <th>1</th>\n",
       "      <td>4.9</td>\n",
       "      <td>3.0</td>\n",
       "      <td>1.4</td>\n",
       "      <td>0.2</td>\n",
       "      <td>setosa</td>\n",
       "    </tr>\n",
       "    <tr>\n",
       "      <th>2</th>\n",
       "      <td>4.7</td>\n",
       "      <td>3.2</td>\n",
       "      <td>1.3</td>\n",
       "      <td>0.2</td>\n",
       "      <td>setosa</td>\n",
       "    </tr>\n",
       "    <tr>\n",
       "      <th>3</th>\n",
       "      <td>4.6</td>\n",
       "      <td>3.1</td>\n",
       "      <td>1.5</td>\n",
       "      <td>0.2</td>\n",
       "      <td>setosa</td>\n",
       "    </tr>\n",
       "    <tr>\n",
       "      <th>4</th>\n",
       "      <td>5.0</td>\n",
       "      <td>3.6</td>\n",
       "      <td>1.4</td>\n",
       "      <td>0.2</td>\n",
       "      <td>setosa</td>\n",
       "    </tr>\n",
       "  </tbody>\n",
       "</table>\n",
       "</div>"
      ],
      "text/plain": [
       "   sepal_length  sepal_width  petal_length  petal_width species\n",
       "0           5.1          3.5           1.4          0.2  setosa\n",
       "1           4.9          3.0           1.4          0.2  setosa\n",
       "2           4.7          3.2           1.3          0.2  setosa\n",
       "3           4.6          3.1           1.5          0.2  setosa\n",
       "4           5.0          3.6           1.4          0.2  setosa"
      ]
     },
     "execution_count": 15,
     "metadata": {},
     "output_type": "execute_result"
    }
   ],
   "source": [
    "iris_df = pd.read_csv('https://raw.githubusercontent.com/uiuc-cse/data-fa14/gh-pages/data/iris.csv')\n",
    "iris_df.head()"
   ]
  },
  {
   "cell_type": "code",
   "execution_count": 16,
   "metadata": {
    "colab": {
     "base_uri": "https://localhost:8080/"
    },
    "id": "-44wiZpzwmIN",
    "outputId": "836fc420-26fb-4392-85e1-3ce778bf5224"
   },
   "outputs": [
    {
     "name": "stdout",
     "output_type": "stream",
     "text": [
      "[[5.1 3.5 1.4 0.2]\n",
      " [4.9 3.  1.4 0.2]\n",
      " [4.7 3.2 1.3 0.2]\n",
      " [4.6 3.1 1.5 0.2]\n",
      " [5.  3.6 1.4 0.2]]\n",
      "0    setosa\n",
      "1    setosa\n",
      "2    setosa\n",
      "3    setosa\n",
      "4    setosa\n",
      "Name: species, dtype: object\n"
     ]
    }
   ],
   "source": [
    "iris_data_df = iris_df[['sepal_length', 'sepal_width', 'petal_length', 'petal_width']]\n",
    "X = iris_data_df.to_numpy()\n",
    "y = iris_df['species']\n",
    "print(X[:5])\n",
    "print(y[:5])"
   ]
  },
  {
   "cell_type": "code",
   "execution_count": 17,
   "metadata": {
    "colab": {
     "base_uri": "https://localhost:8080/"
    },
    "id": "5eelDnnDuj9o",
    "outputId": "aeff2273-2c80-4f93-f9ba-88abe22e0c96"
   },
   "outputs": [
    {
     "name": "stdout",
     "output_type": "stream",
     "text": [
      "1.0000000000000002 \n",
      " [0.7277045209380135, 0.2303052326768065, 0.03683831957627379, 0.005151926808906321]\n"
     ]
    }
   ],
   "source": [
    "# All the following steps are same as before\n",
    "from sklearn.preprocessing import StandardScaler\n",
    "\n",
    "X_scaled = StandardScaler().fit_transform(X)\n",
    "features = X_scaled.T\n",
    "cov_matrix = np.cov(features)\n",
    "values, vectors = np.linalg.eig(cov_matrix)\n",
    "explained_variances = []\n",
    "for i in range(len(values)):\n",
    "    explained_variances.append(values[i] / np.sum(values))\n",
    " \n",
    "print(np.sum(explained_variances), '\\n', explained_variances)"
   ]
  },
  {
   "cell_type": "code",
   "execution_count": 18,
   "metadata": {
    "colab": {
     "base_uri": "https://localhost:8080/",
     "height": 203
    },
    "id": "QK0x2HINvLUl",
    "outputId": "d525ce1d-9ed3-4d87-9c1f-d2e5b2e27977"
   },
   "outputs": [
    {
     "data": {
      "text/html": [
       "<div>\n",
       "<style scoped>\n",
       "    .dataframe tbody tr th:only-of-type {\n",
       "        vertical-align: middle;\n",
       "    }\n",
       "\n",
       "    .dataframe tbody tr th {\n",
       "        vertical-align: top;\n",
       "    }\n",
       "\n",
       "    .dataframe thead th {\n",
       "        text-align: right;\n",
       "    }\n",
       "</style>\n",
       "<table border=\"1\" class=\"dataframe\">\n",
       "  <thead>\n",
       "    <tr style=\"text-align: right;\">\n",
       "      <th></th>\n",
       "      <th>PC1</th>\n",
       "      <th>PC2</th>\n",
       "      <th>Y</th>\n",
       "    </tr>\n",
       "  </thead>\n",
       "  <tbody>\n",
       "    <tr>\n",
       "      <th>0</th>\n",
       "      <td>-2.264542</td>\n",
       "      <td>-0.505704</td>\n",
       "      <td>setosa</td>\n",
       "    </tr>\n",
       "    <tr>\n",
       "      <th>1</th>\n",
       "      <td>-2.086426</td>\n",
       "      <td>0.655405</td>\n",
       "      <td>setosa</td>\n",
       "    </tr>\n",
       "    <tr>\n",
       "      <th>2</th>\n",
       "      <td>-2.367950</td>\n",
       "      <td>0.318477</td>\n",
       "      <td>setosa</td>\n",
       "    </tr>\n",
       "    <tr>\n",
       "      <th>3</th>\n",
       "      <td>-2.304197</td>\n",
       "      <td>0.575368</td>\n",
       "      <td>setosa</td>\n",
       "    </tr>\n",
       "    <tr>\n",
       "      <th>4</th>\n",
       "      <td>-2.388777</td>\n",
       "      <td>-0.674767</td>\n",
       "      <td>setosa</td>\n",
       "    </tr>\n",
       "  </tbody>\n",
       "</table>\n",
       "</div>"
      ],
      "text/plain": [
       "        PC1       PC2       Y\n",
       "0 -2.264542 -0.505704  setosa\n",
       "1 -2.086426  0.655405  setosa\n",
       "2 -2.367950  0.318477  setosa\n",
       "3 -2.304197  0.575368  setosa\n",
       "4 -2.388777 -0.674767  setosa"
      ]
     },
     "execution_count": 18,
     "metadata": {},
     "output_type": "execute_result"
    }
   ],
   "source": [
    "projected_1 = X_scaled.dot(vectors.T[0])\n",
    "projected_2 = X_scaled.dot(vectors.T[1])\n",
    "res = pd.DataFrame(projected_1, columns=['PC1'])\n",
    "res['PC2'] = projected_2\n",
    "res['Y'] = y\n",
    "res.head()"
   ]
  },
  {
   "cell_type": "code",
   "execution_count": 19,
   "metadata": {
    "colab": {
     "base_uri": "https://localhost:8080/",
     "height": 623
    },
    "id": "cJ7nkBv4vSCp",
    "outputId": "3ce4ce30-f5f8-4eef-e0ae-83b92fb1218b"
   },
   "outputs": [
    {
     "data": {
      "text/plain": [
       "<AxesSubplot: xlabel='PC1', ylabel='PC2'>"
      ]
     },
     "execution_count": 19,
     "metadata": {},
     "output_type": "execute_result"
    },
    {
     "data": {
      "image/png": "[encoded data removed]",
      "text/plain": [
       "<Figure size 576x432 with 1 Axes>"
      ]
     },
     "metadata": {
      "needs_background": "light"
     },
     "output_type": "display_data"
    }
   ],
   "source": [
    "plt.figure(figsize=(8,6))\n",
    "sns.scatterplot(data = res , x = 'PC1',y = 'PC2' , hue = 'Y' , s = 200 , palette= 'icefire')"
   ]
  },
  {
   "cell_type": "markdown",
   "metadata": {
    "id": "4WRKrBdlWLyC"
   },
   "source": [
    "#We now know how to compute PCA, but why PCA? \n",
    "The idea behind PCA is simply to find a low-dimension set of axes that **summarize** data. \n",
    "## Why should data be summarized?\n",
    "Consider this example: We have a dataset composed by a set of properties from cars. These properties describe each car by its size, color, circularity, compactness, radius, number of seats, number of doors, size of trunk and so on. However, many of these features will measure related properties and so will be redundant. Therefore, we should remove these redundancy and describe each car with less properties. This is exactly what PCA aims to do."
   ]
  },
  {
   "cell_type": "markdown",
   "metadata": {
    "id": "Zr3nvbfWW4kq"
   },
   "source": [
    "For example, think about the number of wheel as a feature of cars and buses, almost every example from both classes have four wheels, hence we can tell that this feature has a low variance (from four up to six wheels or more in some of rare buses), so this feature will make bus and cars look the same, but they are actually pretty different from each other. Now, consider the height as a feature, cars and buses have different values for it, the variance has a great range from the lowest car up to the highest bus. Clearly, the height of these vehicle is a good property to separate them. PCA looks at the variance of each feature because it reasonably assumes that features that present high variance are more likely to have a good split between classes."
   ]
  },
  {
   "cell_type": "markdown",
   "metadata": {
    "id": "Ez48zRxOW-3c"
   },
   "source": [
    "Let us go ahead and achieve what we just discussed!"
   ]
  },
  {
   "cell_type": "markdown",
   "metadata": {
    "id": "BzyKPmK7Xjv1"
   },
   "source": [
    "**NOTE:** *Often, people end up making a mistake in thinking that PCA selects some features out of the dataset and discards others. The algorithm actually constructs new set of properties based on combination of the old ones.*"
   ]
  },
  {
   "cell_type": "markdown",
   "metadata": {
    "id": "_S7DRGBeZjwm"
   },
   "source": [
    "### Principal Component Analysis using sklearn\n",
    "### Reference: https://machinelearningmastery.com/principal-components-analysis-for-dimensionality-reduction-in-python/ "
   ]
  },
  {
   "cell_type": "markdown",
   "metadata": {
    "id": "TT3M1k-EZrkB"
   },
   "source": [
    "Let us first use the *make_classification()* function to create a synthetic binary classification problem with 1,000 examples and 20 input features, 15 inputs of which are meaningful.\n",
    "\n"
   ]
  },
  {
   "cell_type": "code",
   "execution_count": 20,
   "metadata": {
    "id": "9qzxHXXubFwi"
   },
   "outputs": [],
   "source": [
    "#import necessary functions\n",
    "from sklearn.datasets import make_classification\n",
    "from sklearn.model_selection import train_test_split\n",
    "from sklearn.preprocessing import StandardScaler\n",
    "from sklearn.decomposition import PCA\n",
    "from sklearn.linear_model import LogisticRegression"
   ]
  },
  {
   "cell_type": "code",
   "execution_count": 21,
   "metadata": {
    "colab": {
     "base_uri": "https://localhost:8080/"
    },
    "id": "SsFKji7OZ0x2",
    "outputId": "cd25c046-92b0-4c78-ad73-b10678183653"
   },
   "outputs": [
    {
     "name": "stdout",
     "output_type": "stream",
     "text": [
      "(1000, 20) (1000,)\n"
     ]
    }
   ],
   "source": [
    "# test classification dataset\n",
    "# define dataset\n",
    "X, y = make_classification(n_samples=1000, n_features=20, n_informative=15, n_redundant=5, random_state=7)\n",
    "# summarize the dataset\n",
    "print(X.shape, y.shape)"
   ]
  },
  {
   "cell_type": "code",
   "execution_count": 22,
   "metadata": {
    "id": "0wPI3qgWdbKW"
   },
   "outputs": [],
   "source": [
    "# split the data into train and test\n",
    "X_train, X_test, y_train, y_test = train_test_split(X, y, test_size=0.30, random_state=13)"
   ]
  },
  {
   "cell_type": "code",
   "execution_count": 23,
   "metadata": {
    "id": "g0sLJObBaAth"
   },
   "outputs": [],
   "source": [
    "# Standardizing the features\n",
    "scaler = StandardScaler()\n",
    "X_scaled = scaler.fit_transform(X_train)"
   ]
  },
  {
   "cell_type": "markdown",
   "metadata": {},
   "source": [
    "### Choosing right number of dimensions - Instead of arbitrarily choosing the number of dimensions to reduce down to, it's better to choose the number of dimensions that add up to sufficiently large portion of variance (eg- ~95%)\n",
    "\n",
    "### explained_variance_ratio : this ratio indicates the proportion of the dataset's variance that lies along each principal component."
   ]
  },
  {
   "cell_type": "code",
   "execution_count": 24,
   "metadata": {
    "id": "xz7FHEgFbYz6"
   },
   "outputs": [
    {
     "name": "stdout",
     "output_type": "stream",
     "text": [
      "[0.16304994 0.14974673 0.10901591 0.09869166 0.08600576 0.0660893\n",
      " 0.0572263  0.05456994 0.04447539 0.04083015]\n",
      "0.8697010680569195\n"
     ]
    }
   ],
   "source": [
    "# performing PCA\n",
    "pca = PCA(n_components=10)\n",
    "principalComponents = pca.fit_transform(X_scaled)\n",
    "print(pca.explained_variance_ratio_)\n",
    "print(np.sum(pca.explained_variance_ratio_))"
   ]
  },
  {
   "cell_type": "markdown",
   "metadata": {},
   "source": [
    "### Let's try to plot explained variance as a function of number of principal components"
   ]
  },
  {
   "cell_type": "code",
   "execution_count": 25,
   "metadata": {},
   "outputs": [
    {
     "data": {
      "image/png": "[encoded data removed]",
      "text/plain": [
       "<Figure size 576x432 with 1 Axes>"
      ]
     },
     "metadata": {
      "needs_background": "light"
     },
     "output_type": "display_data"
    }
   ],
   "source": [
    "candidate_components=np.arange(1,20,1)\n",
    "variances=[]\n",
    "for candidate in candidate_components:\n",
    "    pca = PCA(n_components=candidate)\n",
    "    principalComponents = pca.fit_transform(X_scaled)\n",
    "    variances.append(np.sum(pca.explained_variance_ratio_))\n",
    "    \n",
    "plt.figure(figsize = (8, 6))\n",
    "plt.plot(candidate_components,variances)\n",
    "plt.xlabel('Number of components')\n",
    "plt.ylabel('Variance')\n",
    "plt.title('There will usually be an elbow in the curve, where the explained variance stops growing fast',fontsize=7);"
   ]
  },
  {
   "cell_type": "markdown",
   "metadata": {},
   "source": [
    "### In the above case, elbow seems to be present somewhere near 12."
   ]
  },
  {
   "cell_type": "code",
   "execution_count": 26,
   "metadata": {},
   "outputs": [
    {
     "name": "stdout",
     "output_type": "stream",
     "text": [
      "[0.16304994 0.14974673 0.10901591 0.09869166 0.08600576 0.0660893\n",
      " 0.0572263  0.05456994 0.04447539 0.04083015 0.03836937 0.02972756\n",
      " 0.02802386 0.01865996 0.01551817]\n",
      "0.9999999999999992\n"
     ]
    }
   ],
   "source": [
    "pca = PCA(n_components=15)\n",
    "principalComponents = pca.fit_transform(X_scaled)\n",
    "print(pca.explained_variance_ratio_)\n",
    "print(np.sum(pca.explained_variance_ratio_))"
   ]
  },
  {
   "cell_type": "code",
   "execution_count": 27,
   "metadata": {
    "colab": {
     "base_uri": "https://localhost:8080/"
    },
    "id": "ELptmL4eblR4",
    "outputId": "0f370e76-5421-4cb3-b762-292eba86a5d9"
   },
   "outputs": [
    {
     "data": {
      "text/html": [
       "<style>#sk-container-id-1 {color: black;background-color: white;}#sk-container-id-1 pre{padding: 0;}#sk-container-id-1 div.sk-toggleable {background-color: white;}#sk-container-id-1 label.sk-toggleable__label {cursor: pointer;display: block;width: 100%;margin-bottom: 0;padding: 0.3em;box-sizing: border-box;text-align: center;}#sk-container-id-1 label.sk-toggleable__label-arrow:before {content: \"▸\";float: left;margin-right: 0.25em;color: #696969;}#sk-container-id-1 label.sk-toggleable__label-arrow:hover:before {color: black;}#sk-container-id-1 div.sk-estimator:hover label.sk-toggleable__label-arrow:before {color: black;}#sk-container-id-1 div.sk-toggleable__content {max-height: 0;max-width: 0;overflow: hidden;text-align: left;background-color: #f0f8ff;}#sk-container-id-1 div.sk-toggleable__content pre {margin: 0.2em;color: black;border-radius: 0.25em;background-color: #f0f8ff;}#sk-container-id-1 input.sk-toggleable__control:checked~div.sk-toggleable__content {max-height: 200px;max-width: 100%;overflow: auto;}#sk-container-id-1 input.sk-toggleable__control:checked~label.sk-toggleable__label-arrow:before {content: \"▾\";}#sk-container-id-1 div.sk-estimator input.sk-toggleable__control:checked~label.sk-toggleable__label {background-color: #d4ebff;}#sk-container-id-1 div.sk-label input.sk-toggleable__control:checked~label.sk-toggleable__label {background-color: #d4ebff;}#sk-container-id-1 input.sk-hidden--visually {border: 0;clip: rect(1px 1px 1px 1px);clip: rect(1px, 1px, 1px, 1px);height: 1px;margin: -1px;overflow: hidden;padding: 0;position: absolute;width: 1px;}#sk-container-id-1 div.sk-estimator {font-family: monospace;background-color: #f0f8ff;border: 1px dotted black;border-radius: 0.25em;box-sizing: border-box;margin-bottom: 0.5em;}#sk-container-id-1 div.sk-estimator:hover {background-color: #d4ebff;}#sk-container-id-1 div.sk-parallel-item::after {content: \"\";width: 100%;border-bottom: 1px solid gray;flex-grow: 1;}#sk-container-id-1 div.sk-label:hover label.sk-toggleable__label {background-color: #d4ebff;}#sk-container-id-1 div.sk-serial::before {content: \"\";position: absolute;border-left: 1px solid gray;box-sizing: border-box;top: 0;bottom: 0;left: 50%;z-index: 0;}#sk-container-id-1 div.sk-serial {display: flex;flex-direction: column;align-items: center;background-color: white;padding-right: 0.2em;padding-left: 0.2em;position: relative;}#sk-container-id-1 div.sk-item {position: relative;z-index: 1;}#sk-container-id-1 div.sk-parallel {display: flex;align-items: stretch;justify-content: center;background-color: white;position: relative;}#sk-container-id-1 div.sk-item::before, #sk-container-id-1 div.sk-parallel-item::before {content: \"\";position: absolute;border-left: 1px solid gray;box-sizing: border-box;top: 0;bottom: 0;left: 50%;z-index: -1;}#sk-container-id-1 div.sk-parallel-item {display: flex;flex-direction: column;z-index: 1;position: relative;background-color: white;}#sk-container-id-1 div.sk-parallel-item:first-child::after {align-self: flex-end;width: 50%;}#sk-container-id-1 div.sk-parallel-item:last-child::after {align-self: flex-start;width: 50%;}#sk-container-id-1 div.sk-parallel-item:only-child::after {width: 0;}#sk-container-id-1 div.sk-dashed-wrapped {border: 1px dashed gray;margin: 0 0.4em 0.5em 0.4em;box-sizing: border-box;padding-bottom: 0.4em;background-color: white;}#sk-container-id-1 div.sk-label label {font-family: monospace;font-weight: bold;display: inline-block;line-height: 1.2em;}#sk-container-id-1 div.sk-label-container {text-align: center;}#sk-container-id-1 div.sk-container {/* jupyter's `normalize.less` sets `[hidden] { display: none; }` but bootstrap.min.css set `[hidden] { display: none !important; }` so we also need the `!important` here to be able to override the default hidden behavior on the sphinx rendered scikit-learn.org. See: https://github.com/scikit-learn/scikit-learn/issues/21755 */display: inline-block !important;position: relative;}#sk-container-id-1 div.sk-text-repr-fallback {display: none;}</style><div id=\"sk-container-id-1\" class=\"sk-top-container\"><div class=\"sk-text-repr-fallback\"><pre>LogisticRegression()</pre><b>In a Jupyter environment, please rerun this cell to show the HTML representation or trust the notebook. <br />On GitHub, the HTML representation is unable to render, please try loading this page with nbviewer.org.</b></div><div class=\"sk-container\" hidden><div class=\"sk-item\"><div class=\"sk-estimator sk-toggleable\"><input class=\"sk-toggleable__control sk-hidden--visually\" id=\"sk-estimator-id-1\" type=\"checkbox\" checked><label for=\"sk-estimator-id-1\" class=\"sk-toggleable__label sk-toggleable__label-arrow\">LogisticRegression</label><div class=\"sk-toggleable__content\"><pre>LogisticRegression()</pre></div></div></div></div></div>"
      ],
      "text/plain": [
       "LogisticRegression()"
      ]
     },
     "execution_count": 27,
     "metadata": {},
     "output_type": "execute_result"
    }
   ],
   "source": [
    "lr = LogisticRegression()\n",
    "lr.fit(principalComponents, y_train)"
   ]
  },
  {
   "cell_type": "code",
   "execution_count": 28,
   "metadata": {
    "id": "xwsCqXfurnWQ"
   },
   "outputs": [],
   "source": [
    "# perform the same transforms on test data\n",
    "X_scaled_test = scaler.transform(X_test)\n",
    "test_principalComponents = pca.transform(X_scaled_test)"
   ]
  },
  {
   "cell_type": "markdown",
   "metadata": {
    "id": "eewzLKRJsQLt"
   },
   "source": [
    "### Question: What will happen if you do not perform the above? What is the difference between .fit_transform() and .transform() ?"
   ]
  },
  {
   "cell_type": "code",
   "execution_count": 29,
   "metadata": {
    "colab": {
     "base_uri": "https://localhost:8080/"
    },
    "id": "PzHSzBopshdW",
    "outputId": "fbcb4cad-d412-4764-b689-a4c8a83bdc3b"
   },
   "outputs": [
    {
     "name": "stdout",
     "output_type": "stream",
     "text": [
      "Accuracy:  0.8666666666666667\n"
     ]
    }
   ],
   "source": [
    "from sklearn.metrics import accuracy_score\n",
    "yhat_test = lr.predict(test_principalComponents)\n",
    "print(\"Accuracy: \", accuracy_score(y_test, yhat_test))"
   ]
  }
 ],
 "metadata": {
  "colab": {
   "collapsed_sections": [],
   "name": "PCA.ipynb",
   "provenance": []
  },
  "kernelspec": {
   "display_name": "Python 3 (ipykernel)",
   "language": "python",
   "name": "python3"
  },
  "language_info": {
   "codemirror_mode": {
    "name": "ipython",
    "version": 3
   },
   "file_extension": ".py",
   "mimetype": "text/x-python",
   "name": "python",
   "nbconvert_exporter": "python",
   "pygments_lexer": "ipython3",
   "version": "3.8.10"
  }
 },
 "nbformat": 4,
 "nbformat_minor": 4
}
