{
  "cells": [
    {
      "cell_type": "markdown",
      "metadata": {
        "id": "vrGuQGIiYkFf"
      },
      "source": [
        "# What is Linear Regression?\n"
      ]
    },
    {
      "cell_type": "markdown",
      "metadata": {
        "id": "Wagh9Qbi4npI"
      },
      "source": [
        "\n",
        "\n",
        "\n",
        "\n",
        "It is a relationship between 2 variables x and y where x = input or independent variables y = output or dependent value This relationship is in the form of a straight line that best tries to fit each variable.\n",
        "\n",
        "Mathematically it can be defined as y = mx + c where x and y are as defined above, m = slope or coefficient of regression c = constant\n",
        "\n",
        "General view of a straight line : y = mx + c\n",
        "\n",
        "\n",
        "Linear regression is the simplest and most widely used statistical technique for predictive modeling. It basically gives us an equation, where we have our features as independent variables, on which our target variable is dependent upon.\n",
        "\n",
        "So what does the equation look like? Linear regression equation looks like this:\n",
        "\n",
        "\n",
        "![picture](https://drive.google.com/uc?export=view&id=17WEzU5rwsAskDGDeqlcJtDS-4XJUdJUr)\n",
        "\n",
        "Here, we have Y as our dependent variable/ output variable,\n",
        "X’s are the independent variables and all thetas are the coefficients.\n",
        "\n",
        "Coefficients are basically the weights assigned to the features, based on their importance. LEARNING THEM AND HOW TO LEARN THEM is Core of Machine learning.\n",
        "\n",
        "So, firstly let us try to understand linear regression with only one feature, i.e., only one independent variable. Therefore our equation becomes,\n",
        "\n",
        "![](https://drive.google.com/uc?export=view&id=1OEP-ExueAHiU-A5cf8d6ql-Ob7qaPblY)"
      ]
    },
    {
      "cell_type": "markdown",
      "metadata": {
        "id": "nt7myxXiDFYG"
      },
      "source": [
        "# How to find the Line of Best Fit\n"
      ]
    },
    {
      "cell_type": "markdown",
      "metadata": {
        "id": "GO9Zt69wB4vw"
      },
      "source": [
        "As we can easily understand for different values of theta values, we will have different lines possible[Model Space], How to select the Best fit Line?"
      ]
    },
    {
      "cell_type": "markdown",
      "metadata": {
        "id": "rYZo52ZgCvyy"
      },
      "source": [
        "The main purpose of the best fit line is that our predicted values should be closer to our actual or the observed values, because there is no point in predicting values which are far away from the real values. In other words, we tend to minimize the difference between the values predicted by us and the observed values, and which is actually termed as error. Graphical representation of error is as shown below. These errors are also called as residuals. The residuals are indicated by the vertical lines showing the difference between the predicted and actual value.\n",
        "\n",
        "![](https://drive.google.com/uc?export=view&id=1HL4bhB_RbYMV2GtDnk5x-GDb0JMScc7h)"
      ]
    },
    {
      "cell_type": "markdown",
      "metadata": {
        "id": "HifpIZ06Y77q"
      },
      "source": [
        "# To Reduce Error, you need to first figure out how to define error?\n"
      ]
    },
    {
      "cell_type": "markdown",
      "metadata": {
        "id": "7EyYY7BxD4NQ"
      },
      "source": [
        "\n",
        "\n",
        "Okay, now we know that our main objective is to find out the error and minimize it. But before that, let’s think of how to deal with the first part, that is, to calculate the error. We already know that error is the difference between the value predicted by us and the observed value. Let’s just consider three ways through which we can calculate error:\n",
        "\n",
        "![](https://drive.google.com/uc?export=view&id=1np999RscKZSCmVPQyscPS73HuHZBwQ2B)\n",
        "\n",
        "\n",
        "\n"
      ]
    },
    {
      "cell_type": "markdown",
      "metadata": {
        "id": "MC9xCAb0GUAV"
      },
      "source": [
        "# The Cost function\n",
        "\n",
        "So, we need to minimize these costs. Therefore we introduce a cost function, which is basically used to define and measure the error of the model.\n",
        "\n",
        "![](https://drive.google.com/uc?export=view&id=1Rpm6bnvSAiK6q0qiUxJ9skyNRxK1Z5gy)\n",
        "\n",
        "If you look at this equation carefully, it is just similar to ***sum of squared errors***, with just a factor of 1/2m is multiplied in order to ease mathematics.\n",
        "(***WE CAN UNDERSTAND THIS ONCE WE COMPLETE GENERALISED LINEAR MODELS***)\n",
        "\n",
        "***OUR BEST FIT LINE PARAMETERS WOULD BE THE PARAMETERS FOR WHICH THE COST FUNCTION WOULD GIVES MINIMUM VALUE, SO WE NEED TO MINIMISE THIS FUNCTION.***\n",
        "\n",
        "**QUESTIONS**:\n",
        "\n",
        "***HOW DO YOU DECIDED THIS COST FUNCTION TO BE EFFECTIVE ? OR WHAT IS THE BENEFIT WE GET BY CHOOSING THIS AS COST FUNCTION OVER OTHERS? ***\n",
        "\n",
        "***DOES FOR ALL KINDS OF DATA THIS COST FUNCTION EXISTS AND HAVE MINIMUM VALUE?***\n",
        "\n",
        "***IS THE MINIMUM VALUE UNIQUE ? ***\n",
        "\n"
      ]
    },
    {
      "cell_type": "markdown",
      "metadata": {
        "id": "uExGvkLMJRSC"
      },
      "source": [
        "# HOW TO MINIMIZE THE COST?\n",
        "\n",
        "\n",
        "There are several methods to minimize a function and obtain parameters at which minimum values occur(local minimum should atleast be guarenteed)\n",
        "1. Closed Form\n",
        "2. Gradient Descent\n",
        "3. NR Method\n",
        "\n",
        "We will discuss the first 2 methods.\n",
        "\n",
        "Before that first let's load and make dataset ready to proceed further."
      ]
    },
    {
      "cell_type": "markdown",
      "metadata": {
        "id": "RP2vBLeLNHcH"
      },
      "source": [
        "# Loading dataset and accessing it"
      ]
    },
    {
      "cell_type": "code",
      "execution_count": null,
      "metadata": {
        "id": "1nLFSmn1X0uw"
      },
      "outputs": [],
      "source": [
        "import csv\n",
        "def load_data(filename):\n",
        "    dataset = []\n",
        "    csvfile = open(filename, newline = '')\n",
        "    reader = csv.reader(csvfile)\n",
        "    for i in reader:\n",
        "        dataset.append(i)\n",
        "    return dataset"
      ]
    },
    {
      "cell_type": "code",
      "execution_count": 67,
      "metadata": {
        "colab": {
          "base_uri": "https://localhost:8080/"
        },
        "id": "VLtNhQ7bX5EX",
        "outputId": "7a53ec02-5c0e-46a5-fe25-cb719eb4187a"
      },
      "outputs": [
        {
          "name": "stdout",
          "output_type": "stream",
          "text": [
            "Drive already mounted at /content/drive; to attempt to forcibly remount, call drive.mount(\"/content/drive\", force_remount=True).\n"
          ]
        }
      ],
      "source": [
        "from google.colab import drive\n",
        "\n",
        "drive.mount('/content/drive')"
      ]
    },
    {
      "cell_type": "code",
      "execution_count": 68,
      "metadata": {
        "colab": {
          "base_uri": "https://localhost:8080/",
          "height": 352
        },
        "id": "iKO2YFDeX0uy",
        "outputId": "c65f5dc3-9b14-4858-98c8-03bfede4051c"
      },
      "outputs": [
        {
          "data": {
            "text/html": [
              "\n",
              "\n",
              "  <div id=\"df-bdd875ca-1276-45f7-a288-0991764602e6\">\n",
              "    <div class=\"colab-df-container\">\n",
              "      <div>\n",
              "<style scoped>\n",
              "    .dataframe tbody tr th:only-of-type {\n",
              "        vertical-align: middle;\n",
              "    }\n",
              "\n",
              "    .dataframe tbody tr th {\n",
              "        vertical-align: top;\n",
              "    }\n",
              "\n",
              "    .dataframe thead th {\n",
              "        text-align: right;\n",
              "    }\n",
              "</style>\n",
              "<table border=\"1\" class=\"dataframe\">\n",
              "  <thead>\n",
              "    <tr style=\"text-align: right;\">\n",
              "      <th></th>\n",
              "      <th>Unnamed: 0</th>\n",
              "      <th>Country</th>\n",
              "      <th>Year</th>\n",
              "      <th>Status</th>\n",
              "      <th>Life expectancy</th>\n",
              "      <th>Adult Mortality</th>\n",
              "      <th>infant deaths</th>\n",
              "      <th>Alcohol</th>\n",
              "      <th>percentage expenditure</th>\n",
              "      <th>Hepatitis B</th>\n",
              "      <th>...</th>\n",
              "      <th>under-five deaths</th>\n",
              "      <th>Polio</th>\n",
              "      <th>Total expenditure</th>\n",
              "      <th>Diphtheria</th>\n",
              "      <th>HIV/AIDS</th>\n",
              "      <th>GDP</th>\n",
              "      <th>thinness 1-19 years</th>\n",
              "      <th>thinness 5-9 years</th>\n",
              "      <th>Income composition of resources</th>\n",
              "      <th>Schooling</th>\n",
              "    </tr>\n",
              "  </thead>\n",
              "  <tbody>\n",
              "    <tr>\n",
              "      <th>0</th>\n",
              "      <td>0</td>\n",
              "      <td>Afghanistan</td>\n",
              "      <td>2015</td>\n",
              "      <td>0</td>\n",
              "      <td>65.0</td>\n",
              "      <td>263.0</td>\n",
              "      <td>62</td>\n",
              "      <td>0.01</td>\n",
              "      <td>71.279624</td>\n",
              "      <td>65.0</td>\n",
              "      <td>...</td>\n",
              "      <td>83</td>\n",
              "      <td>6.0</td>\n",
              "      <td>8.16</td>\n",
              "      <td>65.0</td>\n",
              "      <td>0.1</td>\n",
              "      <td>584.259210</td>\n",
              "      <td>15.6</td>\n",
              "      <td>15.75</td>\n",
              "      <td>0.479</td>\n",
              "      <td>10.1</td>\n",
              "    </tr>\n",
              "    <tr>\n",
              "      <th>1</th>\n",
              "      <td>1</td>\n",
              "      <td>Afghanistan</td>\n",
              "      <td>2014</td>\n",
              "      <td>0</td>\n",
              "      <td>59.9</td>\n",
              "      <td>271.0</td>\n",
              "      <td>64</td>\n",
              "      <td>0.01</td>\n",
              "      <td>73.523582</td>\n",
              "      <td>62.0</td>\n",
              "      <td>...</td>\n",
              "      <td>86</td>\n",
              "      <td>58.0</td>\n",
              "      <td>8.18</td>\n",
              "      <td>62.0</td>\n",
              "      <td>0.1</td>\n",
              "      <td>612.696514</td>\n",
              "      <td>15.6</td>\n",
              "      <td>15.75</td>\n",
              "      <td>0.476</td>\n",
              "      <td>10.0</td>\n",
              "    </tr>\n",
              "    <tr>\n",
              "      <th>2</th>\n",
              "      <td>2</td>\n",
              "      <td>Afghanistan</td>\n",
              "      <td>2013</td>\n",
              "      <td>0</td>\n",
              "      <td>59.9</td>\n",
              "      <td>268.0</td>\n",
              "      <td>66</td>\n",
              "      <td>0.01</td>\n",
              "      <td>73.219243</td>\n",
              "      <td>64.0</td>\n",
              "      <td>...</td>\n",
              "      <td>89</td>\n",
              "      <td>62.0</td>\n",
              "      <td>8.13</td>\n",
              "      <td>64.0</td>\n",
              "      <td>0.1</td>\n",
              "      <td>631.744976</td>\n",
              "      <td>15.6</td>\n",
              "      <td>15.75</td>\n",
              "      <td>0.470</td>\n",
              "      <td>9.9</td>\n",
              "    </tr>\n",
              "    <tr>\n",
              "      <th>3</th>\n",
              "      <td>3</td>\n",
              "      <td>Afghanistan</td>\n",
              "      <td>2012</td>\n",
              "      <td>0</td>\n",
              "      <td>59.5</td>\n",
              "      <td>272.0</td>\n",
              "      <td>69</td>\n",
              "      <td>0.01</td>\n",
              "      <td>78.184215</td>\n",
              "      <td>67.0</td>\n",
              "      <td>...</td>\n",
              "      <td>93</td>\n",
              "      <td>67.0</td>\n",
              "      <td>8.52</td>\n",
              "      <td>67.0</td>\n",
              "      <td>0.1</td>\n",
              "      <td>669.959000</td>\n",
              "      <td>15.6</td>\n",
              "      <td>15.75</td>\n",
              "      <td>0.463</td>\n",
              "      <td>9.8</td>\n",
              "    </tr>\n",
              "    <tr>\n",
              "      <th>4</th>\n",
              "      <td>4</td>\n",
              "      <td>Afghanistan</td>\n",
              "      <td>2011</td>\n",
              "      <td>0</td>\n",
              "      <td>59.2</td>\n",
              "      <td>275.0</td>\n",
              "      <td>71</td>\n",
              "      <td>0.01</td>\n",
              "      <td>7.097109</td>\n",
              "      <td>68.0</td>\n",
              "      <td>...</td>\n",
              "      <td>97</td>\n",
              "      <td>68.0</td>\n",
              "      <td>7.87</td>\n",
              "      <td>68.0</td>\n",
              "      <td>0.1</td>\n",
              "      <td>63.537231</td>\n",
              "      <td>15.6</td>\n",
              "      <td>15.75</td>\n",
              "      <td>0.454</td>\n",
              "      <td>9.5</td>\n",
              "    </tr>\n",
              "  </tbody>\n",
              "</table>\n",
              "<p>5 rows × 22 columns</p>\n",
              "</div>\n",
              "      <button class=\"colab-df-convert\" onclick=\"convertToInteractive('df-bdd875ca-1276-45f7-a288-0991764602e6')\"\n",
              "              title=\"Convert this dataframe to an interactive table.\"\n",
              "              style=\"display:none;\">\n",
              "\n",
              "  <svg xmlns=\"http://www.w3.org/2000/svg\" height=\"24px\"viewBox=\"0 0 24 24\"\n",
              "       width=\"24px\">\n",
              "    <path d=\"M0 0h24v24H0V0z\" fill=\"none\"/>\n",
              "    <path d=\"M18.56 5.44l.94 2.06.94-2.06 2.06-.94-2.06-.94-.94-2.06-.94 2.06-2.06.94zm-11 1L8.5 8.5l.94-2.06 2.06-.94-2.06-.94L8.5 2.5l-.94 2.06-2.06.94zm10 10l.94 2.06.94-2.06 2.06-.94-2.06-.94-.94-2.06-.94 2.06-2.06.94z\"/><path d=\"M17.41 7.96l-1.37-1.37c-.4-.4-.92-.59-1.43-.59-.52 0-1.04.2-1.43.59L10.3 9.45l-7.72 7.72c-.78.78-.78 2.05 0 2.83L4 21.41c.39.39.9.59 1.41.59.51 0 1.02-.2 1.41-.59l7.78-7.78 2.81-2.81c.8-.78.8-2.07 0-2.86zM5.41 20L4 18.59l7.72-7.72 1.47 1.35L5.41 20z\"/>\n",
              "  </svg>\n",
              "      </button>\n",
              "\n",
              "\n",
              "\n",
              "    <div id=\"df-9b215e54-036d-45a2-b8f0-8a56b371c0aa\">\n",
              "      <button class=\"colab-df-quickchart\" onclick=\"quickchart('df-9b215e54-036d-45a2-b8f0-8a56b371c0aa')\"\n",
              "              title=\"Suggest charts.\"\n",
              "              style=\"display:none;\">\n",
              "\n",
              "<svg xmlns=\"http://www.w3.org/2000/svg\" height=\"24px\"viewBox=\"0 0 24 24\"\n",
              "     width=\"24px\">\n",
              "    <g>\n",
              "        <path d=\"M19 3H5c-1.1 0-2 .9-2 2v14c0 1.1.9 2 2 2h14c1.1 0 2-.9 2-2V5c0-1.1-.9-2-2-2zM9 17H7v-7h2v7zm4 0h-2V7h2v10zm4 0h-2v-4h2v4z\"/>\n",
              "    </g>\n",
              "</svg>\n",
              "      </button>\n",
              "    </div>\n",
              "\n",
              "<style>\n",
              "  .colab-df-quickchart {\n",
              "    background-color: #E8F0FE;\n",
              "    border: none;\n",
              "    border-radius: 50%;\n",
              "    cursor: pointer;\n",
              "    display: none;\n",
              "    fill: #1967D2;\n",
              "    height: 32px;\n",
              "    padding: 0 0 0 0;\n",
              "    width: 32px;\n",
              "  }\n",
              "\n",
              "  .colab-df-quickchart:hover {\n",
              "    background-color: #E2EBFA;\n",
              "    box-shadow: 0px 1px 2px rgba(60, 64, 67, 0.3), 0px 1px 3px 1px rgba(60, 64, 67, 0.15);\n",
              "    fill: #174EA6;\n",
              "  }\n",
              "\n",
              "  [theme=dark] .colab-df-quickchart {\n",
              "    background-color: #3B4455;\n",
              "    fill: #D2E3FC;\n",
              "  }\n",
              "\n",
              "  [theme=dark] .colab-df-quickchart:hover {\n",
              "    background-color: #434B5C;\n",
              "    box-shadow: 0px 1px 3px 1px rgba(0, 0, 0, 0.15);\n",
              "    filter: drop-shadow(0px 1px 2px rgba(0, 0, 0, 0.3));\n",
              "    fill: #FFFFFF;\n",
              "  }\n",
              "</style>\n",
              "\n",
              "    <script>\n",
              "      async function quickchart(key) {\n",
              "        const containerElement = document.querySelector('#' + key);\n",
              "        const charts = await google.colab.kernel.invokeFunction(\n",
              "            'suggestCharts', [key], {});\n",
              "      }\n",
              "    </script>\n",
              "\n",
              "      <script>\n",
              "\n",
              "function displayQuickchartButton(domScope) {\n",
              "  let quickchartButtonEl =\n",
              "    domScope.querySelector('#df-9b215e54-036d-45a2-b8f0-8a56b371c0aa button.colab-df-quickchart');\n",
              "  quickchartButtonEl.style.display =\n",
              "    google.colab.kernel.accessAllowed ? 'block' : 'none';\n",
              "}\n",
              "\n",
              "        displayQuickchartButton(document);\n",
              "      </script>\n",
              "      <style>\n",
              "    .colab-df-container {\n",
              "      display:flex;\n",
              "      flex-wrap:wrap;\n",
              "      gap: 12px;\n",
              "    }\n",
              "\n",
              "    .colab-df-convert {\n",
              "      background-color: #E8F0FE;\n",
              "      border: none;\n",
              "      border-radius: 50%;\n",
              "      cursor: pointer;\n",
              "      display: none;\n",
              "      fill: #1967D2;\n",
              "      height: 32px;\n",
              "      padding: 0 0 0 0;\n",
              "      width: 32px;\n",
              "    }\n",
              "\n",
              "    .colab-df-convert:hover {\n",
              "      background-color: #E2EBFA;\n",
              "      box-shadow: 0px 1px 2px rgba(60, 64, 67, 0.3), 0px 1px 3px 1px rgba(60, 64, 67, 0.15);\n",
              "      fill: #174EA6;\n",
              "    }\n",
              "\n",
              "    [theme=dark] .colab-df-convert {\n",
              "      background-color: #3B4455;\n",
              "      fill: #D2E3FC;\n",
              "    }\n",
              "\n",
              "    [theme=dark] .colab-df-convert:hover {\n",
              "      background-color: #434B5C;\n",
              "      box-shadow: 0px 1px 3px 1px rgba(0, 0, 0, 0.15);\n",
              "      filter: drop-shadow(0px 1px 2px rgba(0, 0, 0, 0.3));\n",
              "      fill: #FFFFFF;\n",
              "    }\n",
              "  </style>\n",
              "\n",
              "      <script>\n",
              "        const buttonEl =\n",
              "          document.querySelector('#df-bdd875ca-1276-45f7-a288-0991764602e6 button.colab-df-convert');\n",
              "        buttonEl.style.display =\n",
              "          google.colab.kernel.accessAllowed ? 'block' : 'none';\n",
              "\n",
              "        async function convertToInteractive(key) {\n",
              "          const element = document.querySelector('#df-bdd875ca-1276-45f7-a288-0991764602e6');\n",
              "          const dataTable =\n",
              "            await google.colab.kernel.invokeFunction('convertToInteractive',\n",
              "                                                     [key], {});\n",
              "          if (!dataTable) return;\n",
              "\n",
              "          const docLinkHtml = 'Like what you see? Visit the ' +\n",
              "            '<a target=\"_blank\" href=https://colab.research.google.com/notebooks/data_table.ipynb>data table notebook</a>'\n",
              "            + ' to learn more about interactive tables.';\n",
              "          element.innerHTML = '';\n",
              "          dataTable['output_type'] = 'display_data';\n",
              "          await google.colab.output.renderOutput(dataTable, element);\n",
              "          const docLink = document.createElement('div');\n",
              "          docLink.innerHTML = docLinkHtml;\n",
              "          element.appendChild(docLink);\n",
              "        }\n",
              "      </script>\n",
              "    </div>\n",
              "  </div>\n"
            ],
            "text/plain": [
              "   Unnamed: 0      Country  Year  Status  Life expectancy  Adult Mortality  \\\n",
              "0           0  Afghanistan  2015       0             65.0            263.0   \n",
              "1           1  Afghanistan  2014       0             59.9            271.0   \n",
              "2           2  Afghanistan  2013       0             59.9            268.0   \n",
              "3           3  Afghanistan  2012       0             59.5            272.0   \n",
              "4           4  Afghanistan  2011       0             59.2            275.0   \n",
              "\n",
              "   infant deaths  Alcohol  percentage expenditure  Hepatitis B  ...  \\\n",
              "0             62     0.01               71.279624         65.0  ...   \n",
              "1             64     0.01               73.523582         62.0  ...   \n",
              "2             66     0.01               73.219243         64.0  ...   \n",
              "3             69     0.01               78.184215         67.0  ...   \n",
              "4             71     0.01                7.097109         68.0  ...   \n",
              "\n",
              "   under-five deaths  Polio  Total expenditure  Diphtheria  HIV/AIDS  \\\n",
              "0                 83    6.0               8.16        65.0       0.1   \n",
              "1                 86   58.0               8.18        62.0       0.1   \n",
              "2                 89   62.0               8.13        64.0       0.1   \n",
              "3                 93   67.0               8.52        67.0       0.1   \n",
              "4                 97   68.0               7.87        68.0       0.1   \n",
              "\n",
              "          GDP  thinness 1-19 years  thinness 5-9 years  \\\n",
              "0  584.259210                 15.6               15.75   \n",
              "1  612.696514                 15.6               15.75   \n",
              "2  631.744976                 15.6               15.75   \n",
              "3  669.959000                 15.6               15.75   \n",
              "4   63.537231                 15.6               15.75   \n",
              "\n",
              "   Income composition of resources  Schooling  \n",
              "0                            0.479       10.1  \n",
              "1                            0.476       10.0  \n",
              "2                            0.470        9.9  \n",
              "3                            0.463        9.8  \n",
              "4                            0.454        9.5  \n",
              "\n",
              "[5 rows x 22 columns]"
            ]
          },
          "execution_count": 68,
          "metadata": {},
          "output_type": "execute_result"
        }
      ],
      "source": [
        "import pandas as pd\n",
        "import numpy as np\n",
        "import matplotlib.pyplot as plt\n",
        "\n",
        "\n",
        "path_link = \"/content/drive/MyDrive/AI511/TA Session 1/LifeExpectancyData.csv\"\n",
        "dataframe = pd.read_csv(path_link)\n",
        "dataframe.head()"
      ]
    },
    {
      "cell_type": "code",
      "execution_count": 69,
      "metadata": {
        "colab": {
          "base_uri": "https://localhost:8080/"
        },
        "id": "eBx2uevJX0uz",
        "outputId": "3ea3907f-4068-4b88-a63d-707415fca8cd"
      },
      "outputs": [
        {
          "data": {
            "text/plain": [
              "RangeIndex(start=0, stop=2888, step=1)"
            ]
          },
          "execution_count": 69,
          "metadata": {},
          "output_type": "execute_result"
        }
      ],
      "source": [
        "dataframe.index"
      ]
    },
    {
      "cell_type": "code",
      "execution_count": 70,
      "metadata": {
        "colab": {
          "base_uri": "https://localhost:8080/"
        },
        "id": "-8cjuw9bX0u1",
        "outputId": "f9107ff1-d247-461d-b058-4f942a61dd5b"
      },
      "outputs": [
        {
          "data": {
            "text/plain": [
              "Index(['Unnamed: 0', 'Country', 'Year', 'Status', 'Life expectancy',\n",
              "       'Adult Mortality', 'infant deaths', 'Alcohol', 'percentage expenditure',\n",
              "       'Hepatitis B', 'Measles', 'BMI', 'under-five deaths', 'Polio',\n",
              "       'Total expenditure', 'Diphtheria', 'HIV/AIDS', 'GDP',\n",
              "       'thinness 1-19 years', 'thinness 5-9 years',\n",
              "       'Income composition of resources', 'Schooling'],\n",
              "      dtype='object')"
            ]
          },
          "execution_count": 70,
          "metadata": {},
          "output_type": "execute_result"
        }
      ],
      "source": [
        "dataframe.columns"
      ]
    },
    {
      "cell_type": "markdown",
      "metadata": {
        "id": "jv55Z8SdX0u3"
      },
      "source": [
        "Some columns have really unusual spaced naming . so let's rename them"
      ]
    },
    {
      "cell_type": "code",
      "execution_count": 71,
      "metadata": {
        "id": "Oy6b5C3uX0u4"
      },
      "outputs": [],
      "source": [
        "dataframe.rename({'Life expectancy ':'Life expectancy',' BMI ':'BMI',' HIV/AIDS':'HIV/AIDS',' thinness  1-19 years':'thinness 1-19 years',' thinness 5-9 years':'thinness 5-9 years','Measles ':'Measles','under-five deaths ':'under-five deaths','Diphtheria ':'Diphtheria'},axis=1,inplace=True)"
      ]
    },
    {
      "cell_type": "code",
      "execution_count": 72,
      "metadata": {
        "colab": {
          "base_uri": "https://localhost:8080/",
          "height": 978
        },
        "id": "uRAhcol6X0u5",
        "outputId": "bfa7ae5a-83c5-48aa-9961-601307459515"
      },
      "outputs": [
        {
          "name": "stdout",
          "output_type": "stream",
          "text": [
            "<class 'pandas.core.frame.DataFrame'>\n",
            "RangeIndex: 2888 entries, 0 to 2887\n",
            "Data columns (total 22 columns):\n",
            " #   Column                           Non-Null Count  Dtype  \n",
            "---  ------                           --------------  -----  \n",
            " 0   Unnamed: 0                       2888 non-null   int64  \n",
            " 1   Country                          2888 non-null   object \n",
            " 2   Year                             2888 non-null   int64  \n",
            " 3   Status                           2888 non-null   int64  \n",
            " 4   Life expectancy                  2888 non-null   float64\n",
            " 5   Adult Mortality                  2888 non-null   float64\n",
            " 6   infant deaths                    2888 non-null   int64  \n",
            " 7   Alcohol                          2888 non-null   float64\n",
            " 8   percentage expenditure           2888 non-null   float64\n",
            " 9   Hepatitis B                      2888 non-null   float64\n",
            " 10  Measles                          2888 non-null   int64  \n",
            " 11  BMI                              2888 non-null   float64\n",
            " 12  under-five deaths                2888 non-null   int64  \n",
            " 13  Polio                            2888 non-null   float64\n",
            " 14  Total expenditure                2888 non-null   float64\n",
            " 15  Diphtheria                       2888 non-null   float64\n",
            " 16  HIV/AIDS                         2888 non-null   float64\n",
            " 17  GDP                              2888 non-null   float64\n",
            " 18  thinness 1-19 years              2888 non-null   float64\n",
            " 19  thinness 5-9 years               2888 non-null   float64\n",
            " 20  Income composition of resources  2888 non-null   float64\n",
            " 21  Schooling                        2888 non-null   float64\n",
            "dtypes: float64(15), int64(6), object(1)\n",
            "memory usage: 496.5+ KB\n"
          ]
        },
        {
          "data": {
            "text/html": [
              "\n",
              "\n",
              "  <div id=\"df-0f639faf-7d7f-4cf8-92d9-d6480855c7b3\">\n",
              "    <div class=\"colab-df-container\">\n",
              "      <div>\n",
              "<style scoped>\n",
              "    .dataframe tbody tr th:only-of-type {\n",
              "        vertical-align: middle;\n",
              "    }\n",
              "\n",
              "    .dataframe tbody tr th {\n",
              "        vertical-align: top;\n",
              "    }\n",
              "\n",
              "    .dataframe thead th {\n",
              "        text-align: right;\n",
              "    }\n",
              "</style>\n",
              "<table border=\"1\" class=\"dataframe\">\n",
              "  <thead>\n",
              "    <tr style=\"text-align: right;\">\n",
              "      <th></th>\n",
              "      <th>Unnamed: 0</th>\n",
              "      <th>Year</th>\n",
              "      <th>Status</th>\n",
              "      <th>Life expectancy</th>\n",
              "      <th>Adult Mortality</th>\n",
              "      <th>infant deaths</th>\n",
              "      <th>Alcohol</th>\n",
              "      <th>percentage expenditure</th>\n",
              "      <th>Hepatitis B</th>\n",
              "      <th>Measles</th>\n",
              "      <th>...</th>\n",
              "      <th>under-five deaths</th>\n",
              "      <th>Polio</th>\n",
              "      <th>Total expenditure</th>\n",
              "      <th>Diphtheria</th>\n",
              "      <th>HIV/AIDS</th>\n",
              "      <th>GDP</th>\n",
              "      <th>thinness 1-19 years</th>\n",
              "      <th>thinness 5-9 years</th>\n",
              "      <th>Income composition of resources</th>\n",
              "      <th>Schooling</th>\n",
              "    </tr>\n",
              "  </thead>\n",
              "  <tbody>\n",
              "    <tr>\n",
              "      <th>count</th>\n",
              "      <td>2888.000000</td>\n",
              "      <td>2888.000000</td>\n",
              "      <td>2888.000000</td>\n",
              "      <td>2888.000000</td>\n",
              "      <td>2888.000000</td>\n",
              "      <td>2888.000000</td>\n",
              "      <td>2888.000000</td>\n",
              "      <td>2888.000000</td>\n",
              "      <td>2888.000000</td>\n",
              "      <td>2888.000000</td>\n",
              "      <td>...</td>\n",
              "      <td>2888.000000</td>\n",
              "      <td>2888.000000</td>\n",
              "      <td>2888.000000</td>\n",
              "      <td>2888.000000</td>\n",
              "      <td>2888.000000</td>\n",
              "      <td>2888.000000</td>\n",
              "      <td>2888.000000</td>\n",
              "      <td>2888.000000</td>\n",
              "      <td>2888.000000</td>\n",
              "      <td>2888.000000</td>\n",
              "    </tr>\n",
              "    <tr>\n",
              "      <th>mean</th>\n",
              "      <td>1455.376039</td>\n",
              "      <td>2007.515235</td>\n",
              "      <td>0.177285</td>\n",
              "      <td>69.349377</td>\n",
              "      <td>163.357341</td>\n",
              "      <td>30.314751</td>\n",
              "      <td>4.557559</td>\n",
              "      <td>749.475611</td>\n",
              "      <td>79.396496</td>\n",
              "      <td>2442.514543</td>\n",
              "      <td>...</td>\n",
              "      <td>41.985803</td>\n",
              "      <td>82.672091</td>\n",
              "      <td>5.925059</td>\n",
              "      <td>82.437673</td>\n",
              "      <td>1.749792</td>\n",
              "      <td>7440.053148</td>\n",
              "      <td>4.721745</td>\n",
              "      <td>4.737639</td>\n",
              "      <td>0.634450</td>\n",
              "      <td>12.148653</td>\n",
              "    </tr>\n",
              "    <tr>\n",
              "      <th>std</th>\n",
              "      <td>847.801556</td>\n",
              "      <td>4.606938</td>\n",
              "      <td>0.381976</td>\n",
              "      <td>9.495441</td>\n",
              "      <td>124.018934</td>\n",
              "      <td>118.891670</td>\n",
              "      <td>4.073372</td>\n",
              "      <td>2003.090073</td>\n",
              "      <td>24.366913</td>\n",
              "      <td>11561.322467</td>\n",
              "      <td>...</td>\n",
              "      <td>161.743345</td>\n",
              "      <td>23.333655</td>\n",
              "      <td>2.437270</td>\n",
              "      <td>23.648907</td>\n",
              "      <td>5.116551</td>\n",
              "      <td>13469.612322</td>\n",
              "      <td>3.973551</td>\n",
              "      <td>4.009365</td>\n",
              "      <td>0.202597</td>\n",
              "      <td>3.147761</td>\n",
              "    </tr>\n",
              "    <tr>\n",
              "      <th>min</th>\n",
              "      <td>0.000000</td>\n",
              "      <td>2000.000000</td>\n",
              "      <td>0.000000</td>\n",
              "      <td>36.300000</td>\n",
              "      <td>1.000000</td>\n",
              "      <td>0.000000</td>\n",
              "      <td>0.010000</td>\n",
              "      <td>0.000000</td>\n",
              "      <td>1.000000</td>\n",
              "      <td>0.000000</td>\n",
              "      <td>...</td>\n",
              "      <td>0.000000</td>\n",
              "      <td>3.000000</td>\n",
              "      <td>0.370000</td>\n",
              "      <td>2.000000</td>\n",
              "      <td>0.100000</td>\n",
              "      <td>1.681350</td>\n",
              "      <td>0.100000</td>\n",
              "      <td>0.100000</td>\n",
              "      <td>0.000000</td>\n",
              "      <td>0.000000</td>\n",
              "    </tr>\n",
              "    <tr>\n",
              "      <th>25%</th>\n",
              "      <td>722.750000</td>\n",
              "      <td>2004.000000</td>\n",
              "      <td>0.000000</td>\n",
              "      <td>63.475000</td>\n",
              "      <td>73.000000</td>\n",
              "      <td>0.000000</td>\n",
              "      <td>0.680000</td>\n",
              "      <td>5.049462</td>\n",
              "      <td>74.000000</td>\n",
              "      <td>0.000000</td>\n",
              "      <td>...</td>\n",
              "      <td>0.000000</td>\n",
              "      <td>78.000000</td>\n",
              "      <td>4.300000</td>\n",
              "      <td>78.000000</td>\n",
              "      <td>0.100000</td>\n",
              "      <td>560.979104</td>\n",
              "      <td>1.600000</td>\n",
              "      <td>1.500000</td>\n",
              "      <td>0.511750</td>\n",
              "      <td>10.400000</td>\n",
              "    </tr>\n",
              "    <tr>\n",
              "      <th>50%</th>\n",
              "      <td>1445.500000</td>\n",
              "      <td>2008.000000</td>\n",
              "      <td>0.000000</td>\n",
              "      <td>72.200000</td>\n",
              "      <td>143.000000</td>\n",
              "      <td>3.000000</td>\n",
              "      <td>3.685000</td>\n",
              "      <td>67.687008</td>\n",
              "      <td>88.000000</td>\n",
              "      <td>17.000000</td>\n",
              "      <td>...</td>\n",
              "      <td>4.000000</td>\n",
              "      <td>93.000000</td>\n",
              "      <td>5.720000</td>\n",
              "      <td>93.000000</td>\n",
              "      <td>0.100000</td>\n",
              "      <td>2934.841557</td>\n",
              "      <td>3.350000</td>\n",
              "      <td>3.400000</td>\n",
              "      <td>0.675000</td>\n",
              "      <td>12.300000</td>\n",
              "    </tr>\n",
              "    <tr>\n",
              "      <th>75%</th>\n",
              "      <td>2179.250000</td>\n",
              "      <td>2012.000000</td>\n",
              "      <td>0.000000</td>\n",
              "      <td>75.800000</td>\n",
              "      <td>225.000000</td>\n",
              "      <td>21.000000</td>\n",
              "      <td>7.680000</td>\n",
              "      <td>454.422430</td>\n",
              "      <td>96.000000</td>\n",
              "      <td>352.250000</td>\n",
              "      <td>...</td>\n",
              "      <td>26.000000</td>\n",
              "      <td>97.000000</td>\n",
              "      <td>7.430000</td>\n",
              "      <td>97.000000</td>\n",
              "      <td>0.800000</td>\n",
              "      <td>5598.752534</td>\n",
              "      <td>7.200000</td>\n",
              "      <td>7.200000</td>\n",
              "      <td>0.782000</td>\n",
              "      <td>14.300000</td>\n",
              "    </tr>\n",
              "    <tr>\n",
              "      <th>max</th>\n",
              "      <td>2937.000000</td>\n",
              "      <td>2015.000000</td>\n",
              "      <td>1.000000</td>\n",
              "      <td>89.000000</td>\n",
              "      <td>723.000000</td>\n",
              "      <td>1800.000000</td>\n",
              "      <td>17.870000</td>\n",
              "      <td>19479.911610</td>\n",
              "      <td>99.000000</td>\n",
              "      <td>212183.000000</td>\n",
              "      <td>...</td>\n",
              "      <td>2500.000000</td>\n",
              "      <td>99.000000</td>\n",
              "      <td>17.600000</td>\n",
              "      <td>99.000000</td>\n",
              "      <td>50.600000</td>\n",
              "      <td>119172.741800</td>\n",
              "      <td>15.600000</td>\n",
              "      <td>15.750000</td>\n",
              "      <td>0.948000</td>\n",
              "      <td>20.700000</td>\n",
              "    </tr>\n",
              "  </tbody>\n",
              "</table>\n",
              "<p>8 rows × 21 columns</p>\n",
              "</div>\n",
              "      <button class=\"colab-df-convert\" onclick=\"convertToInteractive('df-0f639faf-7d7f-4cf8-92d9-d6480855c7b3')\"\n",
              "              title=\"Convert this dataframe to an interactive table.\"\n",
              "              style=\"display:none;\">\n",
              "\n",
              "  <svg xmlns=\"http://www.w3.org/2000/svg\" height=\"24px\"viewBox=\"0 0 24 24\"\n",
              "       width=\"24px\">\n",
              "    <path d=\"M0 0h24v24H0V0z\" fill=\"none\"/>\n",
              "    <path d=\"M18.56 5.44l.94 2.06.94-2.06 2.06-.94-2.06-.94-.94-2.06-.94 2.06-2.06.94zm-11 1L8.5 8.5l.94-2.06 2.06-.94-2.06-.94L8.5 2.5l-.94 2.06-2.06.94zm10 10l.94 2.06.94-2.06 2.06-.94-2.06-.94-.94-2.06-.94 2.06-2.06.94z\"/><path d=\"M17.41 7.96l-1.37-1.37c-.4-.4-.92-.59-1.43-.59-.52 0-1.04.2-1.43.59L10.3 9.45l-7.72 7.72c-.78.78-.78 2.05 0 2.83L4 21.41c.39.39.9.59 1.41.59.51 0 1.02-.2 1.41-.59l7.78-7.78 2.81-2.81c.8-.78.8-2.07 0-2.86zM5.41 20L4 18.59l7.72-7.72 1.47 1.35L5.41 20z\"/>\n",
              "  </svg>\n",
              "      </button>\n",
              "\n",
              "\n",
              "\n",
              "    <div id=\"df-e73b4429-20cb-41b2-9281-7162787f7ec9\">\n",
              "      <button class=\"colab-df-quickchart\" onclick=\"quickchart('df-e73b4429-20cb-41b2-9281-7162787f7ec9')\"\n",
              "              title=\"Suggest charts.\"\n",
              "              style=\"display:none;\">\n",
              "\n",
              "<svg xmlns=\"http://www.w3.org/2000/svg\" height=\"24px\"viewBox=\"0 0 24 24\"\n",
              "     width=\"24px\">\n",
              "    <g>\n",
              "        <path d=\"M19 3H5c-1.1 0-2 .9-2 2v14c0 1.1.9 2 2 2h14c1.1 0 2-.9 2-2V5c0-1.1-.9-2-2-2zM9 17H7v-7h2v7zm4 0h-2V7h2v10zm4 0h-2v-4h2v4z\"/>\n",
              "    </g>\n",
              "</svg>\n",
              "      </button>\n",
              "    </div>\n",
              "\n",
              "<style>\n",
              "  .colab-df-quickchart {\n",
              "    background-color: #E8F0FE;\n",
              "    border: none;\n",
              "    border-radius: 50%;\n",
              "    cursor: pointer;\n",
              "    display: none;\n",
              "    fill: #1967D2;\n",
              "    height: 32px;\n",
              "    padding: 0 0 0 0;\n",
              "    width: 32px;\n",
              "  }\n",
              "\n",
              "  .colab-df-quickchart:hover {\n",
              "    background-color: #E2EBFA;\n",
              "    box-shadow: 0px 1px 2px rgba(60, 64, 67, 0.3), 0px 1px 3px 1px rgba(60, 64, 67, 0.15);\n",
              "    fill: #174EA6;\n",
              "  }\n",
              "\n",
              "  [theme=dark] .colab-df-quickchart {\n",
              "    background-color: #3B4455;\n",
              "    fill: #D2E3FC;\n",
              "  }\n",
              "\n",
              "  [theme=dark] .colab-df-quickchart:hover {\n",
              "    background-color: #434B5C;\n",
              "    box-shadow: 0px 1px 3px 1px rgba(0, 0, 0, 0.15);\n",
              "    filter: drop-shadow(0px 1px 2px rgba(0, 0, 0, 0.3));\n",
              "    fill: #FFFFFF;\n",
              "  }\n",
              "</style>\n",
              "\n",
              "    <script>\n",
              "      async function quickchart(key) {\n",
              "        const containerElement = document.querySelector('#' + key);\n",
              "        const charts = await google.colab.kernel.invokeFunction(\n",
              "            'suggestCharts', [key], {});\n",
              "      }\n",
              "    </script>\n",
              "\n",
              "      <script>\n",
              "\n",
              "function displayQuickchartButton(domScope) {\n",
              "  let quickchartButtonEl =\n",
              "    domScope.querySelector('#df-e73b4429-20cb-41b2-9281-7162787f7ec9 button.colab-df-quickchart');\n",
              "  quickchartButtonEl.style.display =\n",
              "    google.colab.kernel.accessAllowed ? 'block' : 'none';\n",
              "}\n",
              "\n",
              "        displayQuickchartButton(document);\n",
              "      </script>\n",
              "      <style>\n",
              "    .colab-df-container {\n",
              "      display:flex;\n",
              "      flex-wrap:wrap;\n",
              "      gap: 12px;\n",
              "    }\n",
              "\n",
              "    .colab-df-convert {\n",
              "      background-color: #E8F0FE;\n",
              "      border: none;\n",
              "      border-radius: 50%;\n",
              "      cursor: pointer;\n",
              "      display: none;\n",
              "      fill: #1967D2;\n",
              "      height: 32px;\n",
              "      padding: 0 0 0 0;\n",
              "      width: 32px;\n",
              "    }\n",
              "\n",
              "    .colab-df-convert:hover {\n",
              "      background-color: #E2EBFA;\n",
              "      box-shadow: 0px 1px 2px rgba(60, 64, 67, 0.3), 0px 1px 3px 1px rgba(60, 64, 67, 0.15);\n",
              "      fill: #174EA6;\n",
              "    }\n",
              "\n",
              "    [theme=dark] .colab-df-convert {\n",
              "      background-color: #3B4455;\n",
              "      fill: #D2E3FC;\n",
              "    }\n",
              "\n",
              "    [theme=dark] .colab-df-convert:hover {\n",
              "      background-color: #434B5C;\n",
              "      box-shadow: 0px 1px 3px 1px rgba(0, 0, 0, 0.15);\n",
              "      filter: drop-shadow(0px 1px 2px rgba(0, 0, 0, 0.3));\n",
              "      fill: #FFFFFF;\n",
              "    }\n",
              "  </style>\n",
              "\n",
              "      <script>\n",
              "        const buttonEl =\n",
              "          document.querySelector('#df-0f639faf-7d7f-4cf8-92d9-d6480855c7b3 button.colab-df-convert');\n",
              "        buttonEl.style.display =\n",
              "          google.colab.kernel.accessAllowed ? 'block' : 'none';\n",
              "\n",
              "        async function convertToInteractive(key) {\n",
              "          const element = document.querySelector('#df-0f639faf-7d7f-4cf8-92d9-d6480855c7b3');\n",
              "          const dataTable =\n",
              "            await google.colab.kernel.invokeFunction('convertToInteractive',\n",
              "                                                     [key], {});\n",
              "          if (!dataTable) return;\n",
              "\n",
              "          const docLinkHtml = 'Like what you see? Visit the ' +\n",
              "            '<a target=\"_blank\" href=https://colab.research.google.com/notebooks/data_table.ipynb>data table notebook</a>'\n",
              "            + ' to learn more about interactive tables.';\n",
              "          element.innerHTML = '';\n",
              "          dataTable['output_type'] = 'display_data';\n",
              "          await google.colab.output.renderOutput(dataTable, element);\n",
              "          const docLink = document.createElement('div');\n",
              "          docLink.innerHTML = docLinkHtml;\n",
              "          element.appendChild(docLink);\n",
              "        }\n",
              "      </script>\n",
              "    </div>\n",
              "  </div>\n"
            ],
            "text/plain": [
              "        Unnamed: 0         Year       Status  Life expectancy  \\\n",
              "count  2888.000000  2888.000000  2888.000000      2888.000000   \n",
              "mean   1455.376039  2007.515235     0.177285        69.349377   \n",
              "std     847.801556     4.606938     0.381976         9.495441   \n",
              "min       0.000000  2000.000000     0.000000        36.300000   \n",
              "25%     722.750000  2004.000000     0.000000        63.475000   \n",
              "50%    1445.500000  2008.000000     0.000000        72.200000   \n",
              "75%    2179.250000  2012.000000     0.000000        75.800000   \n",
              "max    2937.000000  2015.000000     1.000000        89.000000   \n",
              "\n",
              "       Adult Mortality  infant deaths      Alcohol  percentage expenditure  \\\n",
              "count      2888.000000    2888.000000  2888.000000             2888.000000   \n",
              "mean        163.357341      30.314751     4.557559              749.475611   \n",
              "std         124.018934     118.891670     4.073372             2003.090073   \n",
              "min           1.000000       0.000000     0.010000                0.000000   \n",
              "25%          73.000000       0.000000     0.680000                5.049462   \n",
              "50%         143.000000       3.000000     3.685000               67.687008   \n",
              "75%         225.000000      21.000000     7.680000              454.422430   \n",
              "max         723.000000    1800.000000    17.870000            19479.911610   \n",
              "\n",
              "       Hepatitis B        Measles  ...  under-five deaths        Polio  \\\n",
              "count  2888.000000    2888.000000  ...        2888.000000  2888.000000   \n",
              "mean     79.396496    2442.514543  ...          41.985803    82.672091   \n",
              "std      24.366913   11561.322467  ...         161.743345    23.333655   \n",
              "min       1.000000       0.000000  ...           0.000000     3.000000   \n",
              "25%      74.000000       0.000000  ...           0.000000    78.000000   \n",
              "50%      88.000000      17.000000  ...           4.000000    93.000000   \n",
              "75%      96.000000     352.250000  ...          26.000000    97.000000   \n",
              "max      99.000000  212183.000000  ...        2500.000000    99.000000   \n",
              "\n",
              "       Total expenditure   Diphtheria     HIV/AIDS            GDP  \\\n",
              "count        2888.000000  2888.000000  2888.000000    2888.000000   \n",
              "mean            5.925059    82.437673     1.749792    7440.053148   \n",
              "std             2.437270    23.648907     5.116551   13469.612322   \n",
              "min             0.370000     2.000000     0.100000       1.681350   \n",
              "25%             4.300000    78.000000     0.100000     560.979104   \n",
              "50%             5.720000    93.000000     0.100000    2934.841557   \n",
              "75%             7.430000    97.000000     0.800000    5598.752534   \n",
              "max            17.600000    99.000000    50.600000  119172.741800   \n",
              "\n",
              "       thinness 1-19 years  thinness 5-9 years  \\\n",
              "count          2888.000000         2888.000000   \n",
              "mean              4.721745            4.737639   \n",
              "std               3.973551            4.009365   \n",
              "min               0.100000            0.100000   \n",
              "25%               1.600000            1.500000   \n",
              "50%               3.350000            3.400000   \n",
              "75%               7.200000            7.200000   \n",
              "max              15.600000           15.750000   \n",
              "\n",
              "       Income composition of resources    Schooling  \n",
              "count                      2888.000000  2888.000000  \n",
              "mean                          0.634450    12.148653  \n",
              "std                           0.202597     3.147761  \n",
              "min                           0.000000     0.000000  \n",
              "25%                           0.511750    10.400000  \n",
              "50%                           0.675000    12.300000  \n",
              "75%                           0.782000    14.300000  \n",
              "max                           0.948000    20.700000  \n",
              "\n",
              "[8 rows x 21 columns]"
            ]
          },
          "execution_count": 72,
          "metadata": {},
          "output_type": "execute_result"
        }
      ],
      "source": [
        "dataframe.info()\n",
        "dataframe.describe()"
      ]
    },
    {
      "cell_type": "code",
      "execution_count": 73,
      "metadata": {
        "id": "vPAV8ZRelzyS"
      },
      "outputs": [],
      "source": [
        "\n",
        "dataframe = dataframe.loc[:, ['Schooling', 'Income composition of resources', 'BMI', 'Status', 'Diphtheria', 'Life expectancy']]"
      ]
    },
    {
      "cell_type": "code",
      "execution_count": 74,
      "metadata": {
        "colab": {
          "base_uri": "https://localhost:8080/",
          "height": 206
        },
        "id": "OZmc8d-0nX2Z",
        "outputId": "7b3d1c94-2408-4b2e-90a6-85d2b9dea03e"
      },
      "outputs": [
        {
          "data": {
            "text/html": [
              "\n",
              "\n",
              "  <div id=\"df-e08d834d-4225-44ff-a462-35928726e1c9\">\n",
              "    <div class=\"colab-df-container\">\n",
              "      <div>\n",
              "<style scoped>\n",
              "    .dataframe tbody tr th:only-of-type {\n",
              "        vertical-align: middle;\n",
              "    }\n",
              "\n",
              "    .dataframe tbody tr th {\n",
              "        vertical-align: top;\n",
              "    }\n",
              "\n",
              "    .dataframe thead th {\n",
              "        text-align: right;\n",
              "    }\n",
              "</style>\n",
              "<table border=\"1\" class=\"dataframe\">\n",
              "  <thead>\n",
              "    <tr style=\"text-align: right;\">\n",
              "      <th></th>\n",
              "      <th>Schooling</th>\n",
              "      <th>Income composition of resources</th>\n",
              "      <th>BMI</th>\n",
              "      <th>Status</th>\n",
              "      <th>Diphtheria</th>\n",
              "      <th>Life expectancy</th>\n",
              "    </tr>\n",
              "  </thead>\n",
              "  <tbody>\n",
              "    <tr>\n",
              "      <th>0</th>\n",
              "      <td>10.1</td>\n",
              "      <td>0.479</td>\n",
              "      <td>19.1</td>\n",
              "      <td>0</td>\n",
              "      <td>65.0</td>\n",
              "      <td>65.0</td>\n",
              "    </tr>\n",
              "    <tr>\n",
              "      <th>1</th>\n",
              "      <td>10.0</td>\n",
              "      <td>0.476</td>\n",
              "      <td>18.6</td>\n",
              "      <td>0</td>\n",
              "      <td>62.0</td>\n",
              "      <td>59.9</td>\n",
              "    </tr>\n",
              "    <tr>\n",
              "      <th>2</th>\n",
              "      <td>9.9</td>\n",
              "      <td>0.470</td>\n",
              "      <td>18.1</td>\n",
              "      <td>0</td>\n",
              "      <td>64.0</td>\n",
              "      <td>59.9</td>\n",
              "    </tr>\n",
              "    <tr>\n",
              "      <th>3</th>\n",
              "      <td>9.8</td>\n",
              "      <td>0.463</td>\n",
              "      <td>17.6</td>\n",
              "      <td>0</td>\n",
              "      <td>67.0</td>\n",
              "      <td>59.5</td>\n",
              "    </tr>\n",
              "    <tr>\n",
              "      <th>4</th>\n",
              "      <td>9.5</td>\n",
              "      <td>0.454</td>\n",
              "      <td>17.2</td>\n",
              "      <td>0</td>\n",
              "      <td>68.0</td>\n",
              "      <td>59.2</td>\n",
              "    </tr>\n",
              "  </tbody>\n",
              "</table>\n",
              "</div>\n",
              "      <button class=\"colab-df-convert\" onclick=\"convertToInteractive('df-e08d834d-4225-44ff-a462-35928726e1c9')\"\n",
              "              title=\"Convert this dataframe to an interactive table.\"\n",
              "              style=\"display:none;\">\n",
              "\n",
              "  <svg xmlns=\"http://www.w3.org/2000/svg\" height=\"24px\"viewBox=\"0 0 24 24\"\n",
              "       width=\"24px\">\n",
              "    <path d=\"M0 0h24v24H0V0z\" fill=\"none\"/>\n",
              "    <path d=\"M18.56 5.44l.94 2.06.94-2.06 2.06-.94-2.06-.94-.94-2.06-.94 2.06-2.06.94zm-11 1L8.5 8.5l.94-2.06 2.06-.94-2.06-.94L8.5 2.5l-.94 2.06-2.06.94zm10 10l.94 2.06.94-2.06 2.06-.94-2.06-.94-.94-2.06-.94 2.06-2.06.94z\"/><path d=\"M17.41 7.96l-1.37-1.37c-.4-.4-.92-.59-1.43-.59-.52 0-1.04.2-1.43.59L10.3 9.45l-7.72 7.72c-.78.78-.78 2.05 0 2.83L4 21.41c.39.39.9.59 1.41.59.51 0 1.02-.2 1.41-.59l7.78-7.78 2.81-2.81c.8-.78.8-2.07 0-2.86zM5.41 20L4 18.59l7.72-7.72 1.47 1.35L5.41 20z\"/>\n",
              "  </svg>\n",
              "      </button>\n",
              "\n",
              "\n",
              "\n",
              "    <div id=\"df-cf8a4ee4-888d-45a9-b8bc-899c63a6af08\">\n",
              "      <button class=\"colab-df-quickchart\" onclick=\"quickchart('df-cf8a4ee4-888d-45a9-b8bc-899c63a6af08')\"\n",
              "              title=\"Suggest charts.\"\n",
              "              style=\"display:none;\">\n",
              "\n",
              "<svg xmlns=\"http://www.w3.org/2000/svg\" height=\"24px\"viewBox=\"0 0 24 24\"\n",
              "     width=\"24px\">\n",
              "    <g>\n",
              "        <path d=\"M19 3H5c-1.1 0-2 .9-2 2v14c0 1.1.9 2 2 2h14c1.1 0 2-.9 2-2V5c0-1.1-.9-2-2-2zM9 17H7v-7h2v7zm4 0h-2V7h2v10zm4 0h-2v-4h2v4z\"/>\n",
              "    </g>\n",
              "</svg>\n",
              "      </button>\n",
              "    </div>\n",
              "\n",
              "<style>\n",
              "  .colab-df-quickchart {\n",
              "    background-color: #E8F0FE;\n",
              "    border: none;\n",
              "    border-radius: 50%;\n",
              "    cursor: pointer;\n",
              "    display: none;\n",
              "    fill: #1967D2;\n",
              "    height: 32px;\n",
              "    padding: 0 0 0 0;\n",
              "    width: 32px;\n",
              "  }\n",
              "\n",
              "  .colab-df-quickchart:hover {\n",
              "    background-color: #E2EBFA;\n",
              "    box-shadow: 0px 1px 2px rgba(60, 64, 67, 0.3), 0px 1px 3px 1px rgba(60, 64, 67, 0.15);\n",
              "    fill: #174EA6;\n",
              "  }\n",
              "\n",
              "  [theme=dark] .colab-df-quickchart {\n",
              "    background-color: #3B4455;\n",
              "    fill: #D2E3FC;\n",
              "  }\n",
              "\n",
              "  [theme=dark] .colab-df-quickchart:hover {\n",
              "    background-color: #434B5C;\n",
              "    box-shadow: 0px 1px 3px 1px rgba(0, 0, 0, 0.15);\n",
              "    filter: drop-shadow(0px 1px 2px rgba(0, 0, 0, 0.3));\n",
              "    fill: #FFFFFF;\n",
              "  }\n",
              "</style>\n",
              "\n",
              "    <script>\n",
              "      async function quickchart(key) {\n",
              "        const containerElement = document.querySelector('#' + key);\n",
              "        const charts = await google.colab.kernel.invokeFunction(\n",
              "            'suggestCharts', [key], {});\n",
              "      }\n",
              "    </script>\n",
              "\n",
              "      <script>\n",
              "\n",
              "function displayQuickchartButton(domScope) {\n",
              "  let quickchartButtonEl =\n",
              "    domScope.querySelector('#df-cf8a4ee4-888d-45a9-b8bc-899c63a6af08 button.colab-df-quickchart');\n",
              "  quickchartButtonEl.style.display =\n",
              "    google.colab.kernel.accessAllowed ? 'block' : 'none';\n",
              "}\n",
              "\n",
              "        displayQuickchartButton(document);\n",
              "      </script>\n",
              "      <style>\n",
              "    .colab-df-container {\n",
              "      display:flex;\n",
              "      flex-wrap:wrap;\n",
              "      gap: 12px;\n",
              "    }\n",
              "\n",
              "    .colab-df-convert {\n",
              "      background-color: #E8F0FE;\n",
              "      border: none;\n",
              "      border-radius: 50%;\n",
              "      cursor: pointer;\n",
              "      display: none;\n",
              "      fill: #1967D2;\n",
              "      height: 32px;\n",
              "      padding: 0 0 0 0;\n",
              "      width: 32px;\n",
              "    }\n",
              "\n",
              "    .colab-df-convert:hover {\n",
              "      background-color: #E2EBFA;\n",
              "      box-shadow: 0px 1px 2px rgba(60, 64, 67, 0.3), 0px 1px 3px 1px rgba(60, 64, 67, 0.15);\n",
              "      fill: #174EA6;\n",
              "    }\n",
              "\n",
              "    [theme=dark] .colab-df-convert {\n",
              "      background-color: #3B4455;\n",
              "      fill: #D2E3FC;\n",
              "    }\n",
              "\n",
              "    [theme=dark] .colab-df-convert:hover {\n",
              "      background-color: #434B5C;\n",
              "      box-shadow: 0px 1px 3px 1px rgba(0, 0, 0, 0.15);\n",
              "      filter: drop-shadow(0px 1px 2px rgba(0, 0, 0, 0.3));\n",
              "      fill: #FFFFFF;\n",
              "    }\n",
              "  </style>\n",
              "\n",
              "      <script>\n",
              "        const buttonEl =\n",
              "          document.querySelector('#df-e08d834d-4225-44ff-a462-35928726e1c9 button.colab-df-convert');\n",
              "        buttonEl.style.display =\n",
              "          google.colab.kernel.accessAllowed ? 'block' : 'none';\n",
              "\n",
              "        async function convertToInteractive(key) {\n",
              "          const element = document.querySelector('#df-e08d834d-4225-44ff-a462-35928726e1c9');\n",
              "          const dataTable =\n",
              "            await google.colab.kernel.invokeFunction('convertToInteractive',\n",
              "                                                     [key], {});\n",
              "          if (!dataTable) return;\n",
              "\n",
              "          const docLinkHtml = 'Like what you see? Visit the ' +\n",
              "            '<a target=\"_blank\" href=https://colab.research.google.com/notebooks/data_table.ipynb>data table notebook</a>'\n",
              "            + ' to learn more about interactive tables.';\n",
              "          element.innerHTML = '';\n",
              "          dataTable['output_type'] = 'display_data';\n",
              "          await google.colab.output.renderOutput(dataTable, element);\n",
              "          const docLink = document.createElement('div');\n",
              "          docLink.innerHTML = docLinkHtml;\n",
              "          element.appendChild(docLink);\n",
              "        }\n",
              "      </script>\n",
              "    </div>\n",
              "  </div>\n"
            ],
            "text/plain": [
              "   Schooling  Income composition of resources   BMI  Status  Diphtheria  \\\n",
              "0       10.1                            0.479  19.1       0        65.0   \n",
              "1       10.0                            0.476  18.6       0        62.0   \n",
              "2        9.9                            0.470  18.1       0        64.0   \n",
              "3        9.8                            0.463  17.6       0        67.0   \n",
              "4        9.5                            0.454  17.2       0        68.0   \n",
              "\n",
              "   Life expectancy  \n",
              "0             65.0  \n",
              "1             59.9  \n",
              "2             59.9  \n",
              "3             59.5  \n",
              "4             59.2  "
            ]
          },
          "execution_count": 74,
          "metadata": {},
          "output_type": "execute_result"
        }
      ],
      "source": [
        "dataframe.head(5)"
      ]
    },
    {
      "cell_type": "markdown",
      "metadata": {
        "id": "Bf6tvbPGX0vM"
      },
      "source": [
        "# Feature Scaling( using Z transformation method )"
      ]
    },
    {
      "cell_type": "code",
      "execution_count": 75,
      "metadata": {
        "id": "IjmgP8oFX0vM"
      },
      "outputs": [],
      "source": [
        "class Standardizer:\n",
        "    def __init__(self, mean, stdev):\n",
        "        self.mean = mean\n",
        "        self.stdev = stdev\n",
        "    def scale(self, x):\n",
        "        return (x - self.mean)/self.stdev"
      ]
    },
    {
      "cell_type": "code",
      "execution_count": 76,
      "metadata": {
        "id": "OLrkOY_KX0vM"
      },
      "outputs": [],
      "source": [
        "for feature in dataframe.columns:\n",
        "    if feature not in ('Country', 'Status', 'Life expectancy'):\n",
        "        dataframe[feature] = dataframe[feature].apply(Standardizer(dataframe[feature].mean(), dataframe[feature].std()).scale)"
      ]
    },
    {
      "cell_type": "markdown",
      "metadata": {
        "id": "jseaGcTNX0vM"
      },
      "source": [
        "# Test Train Split"
      ]
    },
    {
      "cell_type": "markdown",
      "metadata": {
        "id": "-lF0fMrZX0vN"
      },
      "source": [
        "Before proceeding lets first shuffle the dataframe to get train, test sets to not be biased."
      ]
    },
    {
      "cell_type": "code",
      "execution_count": 77,
      "metadata": {
        "id": "0SavvDheX0vN"
      },
      "outputs": [],
      "source": [
        "dataframe.sample(frac = 1);"
      ]
    },
    {
      "cell_type": "code",
      "execution_count": 78,
      "metadata": {
        "id": "3bc1M7RcX0vN"
      },
      "outputs": [],
      "source": [
        "def train_test(dataframe, split_value):\n",
        "    n = int(split_value*len(dataframe))\n",
        "\n",
        "    train_data = dataframe.iloc[:n, :]\n",
        "    test_data =  dataframe.iloc[n:, :]\n",
        "\n",
        "    return train_data,test_data\n",
        "\n",
        "train_data, test_data = train_test(dataframe, 0.8)"
      ]
    },
    {
      "cell_type": "markdown",
      "metadata": {
        "id": "IBFzhpVzci8p"
      },
      "source": [
        "# Metrics\n"
      ]
    },
    {
      "cell_type": "markdown",
      "metadata": {
        "id": "5mZC_-2kX0vN"
      },
      "source": [
        "\n",
        "define metrics class so it becomes easy to call standard mertics later after building models\n",
        "\n",
        "Mean Absolute Error (MAE): The distance between any data point and the best fit line is called as prediction error. The absolute mean of it is called as Mean Absolute Error (MAE).\n",
        "\n",
        "Value range: 0 to ∞ Best value = 0.0 or we can also say that lower the value, better it is.\n",
        "\n",
        "![](https://drive.google.com/uc?export=view&id=1k_kFGNX4VpBC6DypG3cWGIiWAkRk4l3A)\n",
        "\n",
        "Mean Squared Error (MSE):\n",
        "The summation of square of all the distances between any data point and the best fit line divided by the total number of data points (mean) gives us a value called as Mean Squared Error.\n",
        "\n",
        "![](https://drive.google.com/uc?export=view&id=1AAAyFuVDrdQTpaLru5WUzPxQZHmxSaVs)\n",
        "\n",
        "Root Mean Squared Error(RMSE):\n",
        "It is Square root of Mean Squared Error\n",
        "\n",
        "R2 Score - Coefficient of Determination:\n",
        "R2 Score is defined as regression sum of squares divided by the total sum of squares.\n",
        "\n",
        "Best value = 1.0 or we can also say that more the value close to 1, better it is.\n",
        "\n",
        "Let's see the formula and then we will find all the parameters needed to calculate the value of R-square:\n",
        "\n",
        "![](https://drive.google.com/uc?export=view&id=1Vq0Lt9CQSS8gziFJkAe-PNCZgLmSUSjE)\n"
      ]
    },
    {
      "cell_type": "code",
      "execution_count": 79,
      "metadata": {
        "id": "ERv_KsAxX0vN"
      },
      "outputs": [],
      "source": [
        "class Metrics:\n",
        "    def __init__(self):\n",
        "        self.mse = 0\n",
        "        self.mae = 0\n",
        "\n",
        "    def MSE(self, pred, actual):\n",
        "        error = 0\n",
        "        for i in range(len(pred)):\n",
        "            error += (pred[i]-actual[i])**2\n",
        "        self.mse =  error/len(pred)\n",
        "        return self.mse\n",
        "\n",
        "    def MAE(self, pred, actual):\n",
        "        error = 0\n",
        "        for i in range(len(pred)):\n",
        "            error += abs(pred[i]- actual[i])\n",
        "        self.mae = error/len(pred)\n",
        "        return self.mae"
      ]
    },
    {
      "cell_type": "markdown",
      "metadata": {
        "id": "k8Q886blX0vO"
      },
      "source": [
        "# Linear Regression"
      ]
    },
    {
      "cell_type": "markdown",
      "metadata": {
        "id": "m17OEJijaAOD"
      },
      "source": [
        "# Closed form\n"
      ]
    },
    {
      "cell_type": "markdown",
      "metadata": {
        "id": "SIImiGg6X0vO"
      },
      "source": [
        "\n",
        "\n",
        "![](https://drive.google.com/uc?export=view&id=1rmBiU_aFtyyKAvduUhcnGitYIPu8Yofa)\n",
        "![](https://drive.google.com/uc?export=view&id=1r8cEm5_vRCtB8jBVb9Q5eLGspDMNnH3y),\n",
        "![](https://drive.google.com/uc?export=view&id=1rb0zEWSolCk6LuHiK1sYLKOA7Y1ULYQo)\n"
      ]
    },
    {
      "cell_type": "markdown",
      "metadata": {
        "id": "sQBX-2xjX0vO"
      },
      "source": [
        "1. Univariate linear regression using closed form solution to get optimal parameters"
      ]
    },
    {
      "cell_type": "markdown",
      "metadata": {
        "id": "aHUEZOYFX0vO"
      },
      "source": [
        "\n",
        "We consider schooling feature to be our input feature for univariate linear regression."
      ]
    },
    {
      "cell_type": "code",
      "execution_count": 80,
      "metadata": {
        "colab": {
          "base_uri": "https://localhost:8080/",
          "height": 206
        },
        "id": "v7uawJYCoRjn",
        "outputId": "9db46d0b-abea-4282-ecae-e58695027740"
      },
      "outputs": [
        {
          "data": {
            "text/html": [
              "\n",
              "\n",
              "  <div id=\"df-33facc7f-7c83-4cee-bdc2-da294f3704e1\">\n",
              "    <div class=\"colab-df-container\">\n",
              "      <div>\n",
              "<style scoped>\n",
              "    .dataframe tbody tr th:only-of-type {\n",
              "        vertical-align: middle;\n",
              "    }\n",
              "\n",
              "    .dataframe tbody tr th {\n",
              "        vertical-align: top;\n",
              "    }\n",
              "\n",
              "    .dataframe thead th {\n",
              "        text-align: right;\n",
              "    }\n",
              "</style>\n",
              "<table border=\"1\" class=\"dataframe\">\n",
              "  <thead>\n",
              "    <tr style=\"text-align: right;\">\n",
              "      <th></th>\n",
              "      <th>Schooling</th>\n",
              "      <th>Income composition of resources</th>\n",
              "      <th>BMI</th>\n",
              "      <th>Status</th>\n",
              "      <th>Diphtheria</th>\n",
              "      <th>Life expectancy</th>\n",
              "    </tr>\n",
              "  </thead>\n",
              "  <tbody>\n",
              "    <tr>\n",
              "      <th>0</th>\n",
              "      <td>-0.650829</td>\n",
              "      <td>-0.767287</td>\n",
              "      <td>-0.957844</td>\n",
              "      <td>0</td>\n",
              "      <td>-0.737356</td>\n",
              "      <td>65.0</td>\n",
              "    </tr>\n",
              "    <tr>\n",
              "      <th>1</th>\n",
              "      <td>-0.682597</td>\n",
              "      <td>-0.782095</td>\n",
              "      <td>-0.982891</td>\n",
              "      <td>0</td>\n",
              "      <td>-0.864212</td>\n",
              "      <td>59.9</td>\n",
              "    </tr>\n",
              "    <tr>\n",
              "      <th>2</th>\n",
              "      <td>-0.714366</td>\n",
              "      <td>-0.811711</td>\n",
              "      <td>-1.007938</td>\n",
              "      <td>0</td>\n",
              "      <td>-0.779642</td>\n",
              "      <td>59.9</td>\n",
              "    </tr>\n",
              "    <tr>\n",
              "      <th>3</th>\n",
              "      <td>-0.746135</td>\n",
              "      <td>-0.846262</td>\n",
              "      <td>-1.032984</td>\n",
              "      <td>0</td>\n",
              "      <td>-0.652786</td>\n",
              "      <td>59.5</td>\n",
              "    </tr>\n",
              "    <tr>\n",
              "      <th>4</th>\n",
              "      <td>-0.841440</td>\n",
              "      <td>-0.890685</td>\n",
              "      <td>-1.053022</td>\n",
              "      <td>0</td>\n",
              "      <td>-0.610501</td>\n",
              "      <td>59.2</td>\n",
              "    </tr>\n",
              "  </tbody>\n",
              "</table>\n",
              "</div>\n",
              "      <button class=\"colab-df-convert\" onclick=\"convertToInteractive('df-33facc7f-7c83-4cee-bdc2-da294f3704e1')\"\n",
              "              title=\"Convert this dataframe to an interactive table.\"\n",
              "              style=\"display:none;\">\n",
              "\n",
              "  <svg xmlns=\"http://www.w3.org/2000/svg\" height=\"24px\"viewBox=\"0 0 24 24\"\n",
              "       width=\"24px\">\n",
              "    <path d=\"M0 0h24v24H0V0z\" fill=\"none\"/>\n",
              "    <path d=\"M18.56 5.44l.94 2.06.94-2.06 2.06-.94-2.06-.94-.94-2.06-.94 2.06-2.06.94zm-11 1L8.5 8.5l.94-2.06 2.06-.94-2.06-.94L8.5 2.5l-.94 2.06-2.06.94zm10 10l.94 2.06.94-2.06 2.06-.94-2.06-.94-.94-2.06-.94 2.06-2.06.94z\"/><path d=\"M17.41 7.96l-1.37-1.37c-.4-.4-.92-.59-1.43-.59-.52 0-1.04.2-1.43.59L10.3 9.45l-7.72 7.72c-.78.78-.78 2.05 0 2.83L4 21.41c.39.39.9.59 1.41.59.51 0 1.02-.2 1.41-.59l7.78-7.78 2.81-2.81c.8-.78.8-2.07 0-2.86zM5.41 20L4 18.59l7.72-7.72 1.47 1.35L5.41 20z\"/>\n",
              "  </svg>\n",
              "      </button>\n",
              "\n",
              "\n",
              "\n",
              "    <div id=\"df-d3cb44d1-af57-403d-b221-6a352d451d15\">\n",
              "      <button class=\"colab-df-quickchart\" onclick=\"quickchart('df-d3cb44d1-af57-403d-b221-6a352d451d15')\"\n",
              "              title=\"Suggest charts.\"\n",
              "              style=\"display:none;\">\n",
              "\n",
              "<svg xmlns=\"http://www.w3.org/2000/svg\" height=\"24px\"viewBox=\"0 0 24 24\"\n",
              "     width=\"24px\">\n",
              "    <g>\n",
              "        <path d=\"M19 3H5c-1.1 0-2 .9-2 2v14c0 1.1.9 2 2 2h14c1.1 0 2-.9 2-2V5c0-1.1-.9-2-2-2zM9 17H7v-7h2v7zm4 0h-2V7h2v10zm4 0h-2v-4h2v4z\"/>\n",
              "    </g>\n",
              "</svg>\n",
              "      </button>\n",
              "    </div>\n",
              "\n",
              "<style>\n",
              "  .colab-df-quickchart {\n",
              "    background-color: #E8F0FE;\n",
              "    border: none;\n",
              "    border-radius: 50%;\n",
              "    cursor: pointer;\n",
              "    display: none;\n",
              "    fill: #1967D2;\n",
              "    height: 32px;\n",
              "    padding: 0 0 0 0;\n",
              "    width: 32px;\n",
              "  }\n",
              "\n",
              "  .colab-df-quickchart:hover {\n",
              "    background-color: #E2EBFA;\n",
              "    box-shadow: 0px 1px 2px rgba(60, 64, 67, 0.3), 0px 1px 3px 1px rgba(60, 64, 67, 0.15);\n",
              "    fill: #174EA6;\n",
              "  }\n",
              "\n",
              "  [theme=dark] .colab-df-quickchart {\n",
              "    background-color: #3B4455;\n",
              "    fill: #D2E3FC;\n",
              "  }\n",
              "\n",
              "  [theme=dark] .colab-df-quickchart:hover {\n",
              "    background-color: #434B5C;\n",
              "    box-shadow: 0px 1px 3px 1px rgba(0, 0, 0, 0.15);\n",
              "    filter: drop-shadow(0px 1px 2px rgba(0, 0, 0, 0.3));\n",
              "    fill: #FFFFFF;\n",
              "  }\n",
              "</style>\n",
              "\n",
              "    <script>\n",
              "      async function quickchart(key) {\n",
              "        const containerElement = document.querySelector('#' + key);\n",
              "        const charts = await google.colab.kernel.invokeFunction(\n",
              "            'suggestCharts', [key], {});\n",
              "      }\n",
              "    </script>\n",
              "\n",
              "      <script>\n",
              "\n",
              "function displayQuickchartButton(domScope) {\n",
              "  let quickchartButtonEl =\n",
              "    domScope.querySelector('#df-d3cb44d1-af57-403d-b221-6a352d451d15 button.colab-df-quickchart');\n",
              "  quickchartButtonEl.style.display =\n",
              "    google.colab.kernel.accessAllowed ? 'block' : 'none';\n",
              "}\n",
              "\n",
              "        displayQuickchartButton(document);\n",
              "      </script>\n",
              "      <style>\n",
              "    .colab-df-container {\n",
              "      display:flex;\n",
              "      flex-wrap:wrap;\n",
              "      gap: 12px;\n",
              "    }\n",
              "\n",
              "    .colab-df-convert {\n",
              "      background-color: #E8F0FE;\n",
              "      border: none;\n",
              "      border-radius: 50%;\n",
              "      cursor: pointer;\n",
              "      display: none;\n",
              "      fill: #1967D2;\n",
              "      height: 32px;\n",
              "      padding: 0 0 0 0;\n",
              "      width: 32px;\n",
              "    }\n",
              "\n",
              "    .colab-df-convert:hover {\n",
              "      background-color: #E2EBFA;\n",
              "      box-shadow: 0px 1px 2px rgba(60, 64, 67, 0.3), 0px 1px 3px 1px rgba(60, 64, 67, 0.15);\n",
              "      fill: #174EA6;\n",
              "    }\n",
              "\n",
              "    [theme=dark] .colab-df-convert {\n",
              "      background-color: #3B4455;\n",
              "      fill: #D2E3FC;\n",
              "    }\n",
              "\n",
              "    [theme=dark] .colab-df-convert:hover {\n",
              "      background-color: #434B5C;\n",
              "      box-shadow: 0px 1px 3px 1px rgba(0, 0, 0, 0.15);\n",
              "      filter: drop-shadow(0px 1px 2px rgba(0, 0, 0, 0.3));\n",
              "      fill: #FFFFFF;\n",
              "    }\n",
              "  </style>\n",
              "\n",
              "      <script>\n",
              "        const buttonEl =\n",
              "          document.querySelector('#df-33facc7f-7c83-4cee-bdc2-da294f3704e1 button.colab-df-convert');\n",
              "        buttonEl.style.display =\n",
              "          google.colab.kernel.accessAllowed ? 'block' : 'none';\n",
              "\n",
              "        async function convertToInteractive(key) {\n",
              "          const element = document.querySelector('#df-33facc7f-7c83-4cee-bdc2-da294f3704e1');\n",
              "          const dataTable =\n",
              "            await google.colab.kernel.invokeFunction('convertToInteractive',\n",
              "                                                     [key], {});\n",
              "          if (!dataTable) return;\n",
              "\n",
              "          const docLinkHtml = 'Like what you see? Visit the ' +\n",
              "            '<a target=\"_blank\" href=https://colab.research.google.com/notebooks/data_table.ipynb>data table notebook</a>'\n",
              "            + ' to learn more about interactive tables.';\n",
              "          element.innerHTML = '';\n",
              "          dataTable['output_type'] = 'display_data';\n",
              "          await google.colab.output.renderOutput(dataTable, element);\n",
              "          const docLink = document.createElement('div');\n",
              "          docLink.innerHTML = docLinkHtml;\n",
              "          element.appendChild(docLink);\n",
              "        }\n",
              "      </script>\n",
              "    </div>\n",
              "  </div>\n"
            ],
            "text/plain": [
              "   Schooling  Income composition of resources       BMI  Status  Diphtheria  \\\n",
              "0  -0.650829                        -0.767287 -0.957844       0   -0.737356   \n",
              "1  -0.682597                        -0.782095 -0.982891       0   -0.864212   \n",
              "2  -0.714366                        -0.811711 -1.007938       0   -0.779642   \n",
              "3  -0.746135                        -0.846262 -1.032984       0   -0.652786   \n",
              "4  -0.841440                        -0.890685 -1.053022       0   -0.610501   \n",
              "\n",
              "   Life expectancy  \n",
              "0             65.0  \n",
              "1             59.9  \n",
              "2             59.9  \n",
              "3             59.5  \n",
              "4             59.2  "
            ]
          },
          "execution_count": 80,
          "metadata": {},
          "output_type": "execute_result"
        }
      ],
      "source": [
        "train_data.head(5)"
      ]
    },
    {
      "cell_type": "code",
      "execution_count": 81,
      "metadata": {
        "id": "sQm0LTlTX0vO"
      },
      "outputs": [],
      "source": [
        "X_train_univariate = train_data['Schooling'].to_numpy()\n",
        "Y_train = train_data['Life expectancy'].to_numpy()"
      ]
    },
    {
      "cell_type": "code",
      "execution_count": 82,
      "metadata": {
        "colab": {
          "base_uri": "https://localhost:8080/"
        },
        "id": "-d5OUtw4X0vO",
        "outputId": "907b7201-7e43-4d0c-f193-81da19700393"
      },
      "outputs": [
        {
          "data": {
            "text/plain": [
              "array([[ 1.        , -0.65082874],\n",
              "       [ 1.        , -0.68259735],\n",
              "       [ 1.        , -0.71436597],\n",
              "       ...,\n",
              "       [ 1.        ,  0.55637864],\n",
              "       [ 1.        ,  0.14338664],\n",
              "       [ 1.        ,  0.17515526]])"
            ]
          },
          "execution_count": 82,
          "metadata": {},
          "output_type": "execute_result"
        }
      ],
      "source": [
        "X_train_univariate = np.vstack((np.ones(len(X_train_univariate)), X_train_univariate)).T\n",
        "X_train_univariate"
      ]
    },
    {
      "cell_type": "markdown",
      "metadata": {
        "id": "4TSKypaOX0vQ"
      },
      "source": [
        "Our closed form solution for theta is  [  (Xtranspose . X)inverse * (Xtranspose * Y) ]"
      ]
    },
    {
      "cell_type": "code",
      "execution_count": 83,
      "metadata": {
        "colab": {
          "base_uri": "https://localhost:8080/"
        },
        "id": "MeCKEbyIX0vQ",
        "outputId": "4aeb130c-5b81-4937-8d92-eb8e455e763b"
      },
      "outputs": [
        {
          "data": {
            "text/plain": [
              "array([69.60911595,  6.85548291])"
            ]
          },
          "execution_count": 83,
          "metadata": {},
          "output_type": "execute_result"
        }
      ],
      "source": [
        "first = np.linalg.inv(np.dot(X_train_univariate.T, X_train_univariate))\n",
        "second = np.dot(X_train_univariate.T, Y_train)\n",
        "theta = np.dot(first, second)\n",
        "theta"
      ]
    },
    {
      "cell_type": "code",
      "execution_count": 84,
      "metadata": {
        "id": "zI5AzrafX0vQ"
      },
      "outputs": [],
      "source": [
        "def prediction(row,parameters):\n",
        "    predicted = 0\n",
        "    for i in range(len(row)):\n",
        "        predicted += row[i]*parameters[i]\n",
        "    return predicted"
      ]
    },
    {
      "cell_type": "code",
      "execution_count": 85,
      "metadata": {
        "colab": {
          "base_uri": "https://localhost:8080/"
        },
        "id": "K4Mkk1ArX0vR",
        "outputId": "cc995882-8b2b-4064-dc93-0fd3d38c15d2"
      },
      "outputs": [
        {
          "name": "stdout",
          "output_type": "stream",
          "text": [
            "******* Univariate linear regression using closed form solution***********\n",
            "The Parameters of our model are:  69.60911595291441 6.855482912557343\n",
            "The Mean square error of model is:  53.28557809281781\n",
            "The Mean absolute error of mode is:  5.160922952548217\n"
          ]
        }
      ],
      "source": [
        "metrics = Metrics()\n",
        "\n",
        "X_test_univariate = test_data['Schooling'].to_numpy()\n",
        "Y_test = test_data['Life expectancy'].to_numpy()\n",
        "\n",
        "predictions = []\n",
        "for i in range(len(Y_test)):\n",
        "    predictions.append(prediction([1.0, X_test_univariate[i]], theta))\n",
        "\n",
        "Mse = metrics.MSE(predictions, Y_test)\n",
        "Mae = metrics.MAE(predictions, Y_test)\n",
        "\n",
        "print(\"******* Univariate linear regression using closed form solution***********\")\n",
        "print(\"The Parameters of our model are: \", theta[0], theta[1])\n",
        "print(\"The Mean square error of model is: \" , Mse)\n",
        "print(\"The Mean absolute error of mode is: \", Mae)"
      ]
    },
    {
      "cell_type": "markdown",
      "metadata": {
        "id": "DL8mbNwPX0vR"
      },
      "source": [
        "2. Multivariate linear regression\n"
      ]
    },
    {
      "cell_type": "code",
      "execution_count": 86,
      "metadata": {
        "id": "fBzzxRQdX0vR"
      },
      "outputs": [],
      "source": [
        "X_train_multi_all = train_data.loc[:, train_data.columns != 'Life expectancy'].to_numpy()\n",
        "X_test_multi_all = test_data.loc[:, test_data.columns != 'Life expectancy'].to_numpy()"
      ]
    },
    {
      "cell_type": "code",
      "execution_count": 87,
      "metadata": {
        "colab": {
          "base_uri": "https://localhost:8080/"
        },
        "id": "ZQpTy4TukJeh",
        "outputId": "10d88e13-994e-47f0-ac30-9b21f8e1ded5"
      },
      "outputs": [
        {
          "name": "stdout",
          "output_type": "stream",
          "text": [
            "[[-0.65082874 -0.76728742 -0.95784408  0.         -0.73735641]\n",
            " [-0.68259735 -0.78209515 -0.98289088  0.         -0.86421217]\n",
            " [-0.71436597 -0.81171062 -1.00793768  0.         -0.77964167]\n",
            " ...\n",
            " [ 0.55637864  1.00964076 -1.73930422  1.          0.53120117]\n",
            " [ 0.14338664  0.92079436 -1.7543323   1.          0.57348642]\n",
            " [ 0.17515526  0.91585844 -0.41683321  1.          0.53120117]]\n"
          ]
        }
      ],
      "source": [
        "print(X_train_multi_all)"
      ]
    },
    {
      "cell_type": "code",
      "execution_count": 88,
      "metadata": {
        "id": "JGz1asfMX0vR"
      },
      "outputs": [],
      "source": [
        "X_train_multi_all = np.hstack((np.ones((len(X_train_multi_all), 1)), X_train_multi_all))\n",
        "X_test_multi_all = np.hstack((np.ones((len(X_test_multi_all), 1)), X_test_multi_all))\n"
      ]
    },
    {
      "cell_type": "code",
      "execution_count": 89,
      "metadata": {
        "colab": {
          "base_uri": "https://localhost:8080/"
        },
        "id": "dTi2SAa6X0vS",
        "outputId": "f1376e8c-c919-4ca6-bba3-66a4441da461"
      },
      "outputs": [
        {
          "data": {
            "text/plain": [
              "array([69.21658267,  3.12484723,  2.49792582,  1.38192508,  1.70572163,\n",
              "        1.71194258])"
            ]
          },
          "execution_count": 89,
          "metadata": {},
          "output_type": "execute_result"
        }
      ],
      "source": [
        "first = np.linalg.inv(np.dot(X_train_multi_all.T, X_train_multi_all))\n",
        "second = np.dot(X_train_multi_all.T, Y_train)\n",
        "theta = np.dot(first, second)\n",
        "theta"
      ]
    },
    {
      "cell_type": "code",
      "execution_count": 90,
      "metadata": {
        "colab": {
          "base_uri": "https://localhost:8080/"
        },
        "id": "rGzngMCJX0vS",
        "outputId": "a705e9ff-6d8e-4920-e3db-487da9455a9a"
      },
      "outputs": [
        {
          "name": "stdout",
          "output_type": "stream",
          "text": [
            "******* Multivariate linear regression using closed form solution when all input features selected***********\n",
            "The Parameters of our model are:  [69.21658267  3.12484723  2.49792582  1.38192508  1.70572163  1.71194258]\n",
            "The Mean square error of model is:  41.90684061616481\n",
            "The Mean absolute error of mode is:  4.675646342548643\n"
          ]
        }
      ],
      "source": [
        "metrics = Metrics()\n",
        "\n",
        "Y_test = test_data['Life expectancy'].to_numpy()\n",
        "\n",
        "predictions = []\n",
        "for i in range(len(Y_test)):\n",
        "    predictions.append(prediction(X_test_multi_all[i], theta))\n",
        "\n",
        "Mse = metrics.MSE(predictions, Y_test)\n",
        "Mae = metrics.MAE(predictions, Y_test)\n",
        "\n",
        "print(\"******* Multivariate linear regression using closed form solution when all input features selected***********\")\n",
        "print(\"The Parameters of our model are: \", theta)\n",
        "print(\"The Mean square error of model is: \" , Mse)\n",
        "print(\"The Mean absolute error of mode is: \", Mae)"
      ]
    },
    {
      "cell_type": "markdown",
      "metadata": {
        "id": "56oOZ-0DfF7E"
      },
      "source": [
        "# Gradient Descent\n"
      ]
    },
    {
      "cell_type": "markdown",
      "metadata": {
        "id": "UzOLyoFkX0vU"
      },
      "source": [
        "\n",
        "![](https://drive.google.com/uc?export=view&id=1xXtE21EQ0pxWLLWAV5YZE0hrRqQk3uSz)\n",
        "\n",
        "**Widrow-Hoff Learning rule**\n",
        "The rule is called the LMS update rule (LMS stands for “least mean squares”),\n",
        "and is also known as the Widrow-Hoff learning rule\n",
        "\n",
        "\n",
        "\n",
        "**Batch Gradient Descent**\n",
        "\n",
        "![](https://drive.google.com/uc?export=view&id=1_GKIEbapRA869nfAxDpDZDNnlTn0Mg7D)\n",
        "\n",
        "By grouping the updates of the coordinates into an update of the vector\n",
        "θ, we can rewrite update rule of above in a slightly more succinct way\n",
        "\n",
        "![](https://drive.google.com/uc?export=view&id=1rCdKucSkzrafDEPm0zci2VHZvzBSlyHJ)\n",
        "\n",
        "**Stochastic Gradient Descent**\n",
        "\n",
        "![](https://drive.google.com/uc?export=view&id=19qpvUZzQjs64jeJBAM3y45D40497bPp8)\n",
        "\n",
        "We will do both univariate and multi-variate versions using gradient descent to get optimal parameters"
      ]
    },
    {
      "cell_type": "markdown",
      "metadata": {
        "id": "D4-BonJxX0vU"
      },
      "source": [
        "# 1. Univariate linear regression using gradient descent to get optimal parameters"
      ]
    },
    {
      "cell_type": "markdown",
      "metadata": {
        "id": "Kkv7_Cg3X0vU"
      },
      "source": [
        "\n",
        "We consider schooling feature to be our input feature for univariate linear regression."
      ]
    },
    {
      "cell_type": "code",
      "execution_count": 91,
      "metadata": {
        "id": "iF77bsx9X0vV"
      },
      "outputs": [],
      "source": [
        "def cost_function(x,theta, y):\n",
        "    cost = 0\n",
        "    m = 1\n",
        "    m = len(x)\n",
        "    for i in range(len(x)):\n",
        "        pred = prediction(x[i],theta) #h(x)\n",
        "        cost += (y[i]-pred)**2\n",
        "    return cost/2*(m if m>1 else 1)"
      ]
    },
    {
      "cell_type": "code",
      "execution_count": 92,
      "metadata": {
        "id": "U6BOKzskX0vV"
      },
      "outputs": [],
      "source": [
        "def cross_entropy_loss(x, theta, feature, y):\n",
        "    value = 0\n",
        "    m = len(x)\n",
        "    for i in range(m):\n",
        "        value += (y[i] - prediction(x[i], theta))*(x[i][feature])\n",
        "    return value/m"
      ]
    },
    {
      "cell_type": "code",
      "execution_count": 93,
      "metadata": {
        "id": "SpyLH3pBX0vV"
      },
      "outputs": [],
      "source": [
        "def stochastic_gradient_descent(x, epochs, alpha, y):\n",
        "\n",
        "    theta = [1]*len(x[0])\n",
        "    cost_history = []\n",
        "    m = len(x)\n",
        "\n",
        "    for i in range(epochs):\n",
        "        for i in range(len(x)):\n",
        "            pred = prediction(x[i],theta)\n",
        "            for j in range(len(theta)):\n",
        "                theta[j] = theta[j]-alpha*(pred-y[i])*x[i][j]\n",
        "\n",
        "        cost_history.append(cost_function(x,theta, y))\n",
        "\n",
        "    return cost_history,theta"
      ]
    },
    {
      "cell_type": "code",
      "execution_count": 94,
      "metadata": {
        "id": "APVWuG_4X0vV"
      },
      "outputs": [],
      "source": [
        "def batch_gradient_descent(x, epocs, alpha, y):\n",
        "\n",
        "    theta = [1]*(len(x[0]))\n",
        "    cost_history = []\n",
        "    m = len(x)\n",
        "    for i in range(epocs):\n",
        "        theta_new = [0]*(len(x[0]))\n",
        "        for j in range(len(theta)):\n",
        "            theta_new[j] = theta[j] + alpha*(cross_entropy_loss(x, theta, j, y))\n",
        "\n",
        "        theta[:] = theta_new[:]\n",
        "\n",
        "        cost_history.append(cost_function(x, theta, y))\n",
        "\n",
        "    return cost_history, theta\n",
        "\n"
      ]
    },
    {
      "cell_type": "code",
      "execution_count": 95,
      "metadata": {
        "id": "xf9nT7XaX0vW"
      },
      "outputs": [],
      "source": [
        "def univariate_linear_regression_helper(X, Y, alpha, X_test, Y_test, gradient_method = \"batch\"):\n",
        "\n",
        "    epochs = 600\n",
        "    costs, theta = [], []\n",
        "    if gradient_method == \"batch\":\n",
        "        costs, theta = batch_gradient_descent(X,epochs,alpha, Y)\n",
        "    else:\n",
        "        costs, theta = stochastic_gradient_descent(X, epochs, alpha, Y)\n",
        "\n",
        "    predictions = []\n",
        "\n",
        "    metrics = Metrics()\n",
        "\n",
        "    for i in range(len(Y_test)):\n",
        "        predictions.append(prediction([1.0, X_test[i]], theta))\n",
        "\n",
        "    metrics = Metrics()\n",
        "    Mse = metrics.MSE(predictions, Y_test)\n",
        "    Mae = metrics.MAE(predictions, Y_test)\n",
        "\n",
        "    if gradient_method == 'batch':\n",
        "        print(\"Metrics the model achieved against test data using batch gradient descent\")\n",
        "    else:\n",
        "        print(\"Metrics the model achieved against test data using stochastic gradient descent\")\n",
        "\n",
        "    print(\"******* Univariate linear regression using gradient descent***********\")\n",
        "    print(\"The Parameters of our model are: \", theta)\n",
        "    print(\"The Mean square error of model is: \" , Mse)\n",
        "    print(\"The Mean absolute error of mode is: \", Mae)\n",
        "\n",
        "    iterations = [i for i in range(1,epochs+1)]\n",
        "    plt.plot(iterations,costs)\n",
        "    plt.show();\n",
        "\n"
      ]
    },
    {
      "cell_type": "code",
      "execution_count": 96,
      "metadata": {
        "colab": {
          "base_uri": "https://localhost:8080/",
          "height": 537
        },
        "id": "gSEujp4YX0vW",
        "outputId": "e3cb1dfc-59f2-4d4d-ca73-a5b64e18eb64"
      },
      "outputs": [
        {
          "name": "stdout",
          "output_type": "stream",
          "text": [
            "Metrics the model achieved against test data using batch gradient descent\n",
            "******* Univariate linear regression using gradient descent***********\n",
            "The Parameters of our model are:  [69.43997140138606, 6.826142785214384]\n",
            "The Mean square error of model is:  52.93449414211816\n",
            "The Mean absolute error of mode is:  5.18667820441896\n"
          ]
        },
        {
          "data": {
            "image/png": "[encoded data removed]",
            "text/plain": [
              "<Figure size 640x480 with 1 Axes>"
            ]
          },
          "metadata": {},
          "output_type": "display_data"
        }
      ],
      "source": [
        "univariate_linear_regression_helper(X_train_univariate, Y_train, 0.01, X_test_univariate, Y_test, \"batch\")"
      ]
    },
    {
      "cell_type": "code",
      "execution_count": 97,
      "metadata": {
        "colab": {
          "base_uri": "https://localhost:8080/",
          "height": 537
        },
        "id": "glJ1cwN6X0vX",
        "outputId": "fa1f2dc9-ce32-41bb-ba79-c6d53cc35744"
      },
      "outputs": [
        {
          "name": "stdout",
          "output_type": "stream",
          "text": [
            "Metrics the model achieved against test data using stochastic gradient descent\n",
            "******* Univariate linear regression using gradient descent***********\n",
            "The Parameters of our model are:  [69.63421567724927, 6.885379692654528]\n",
            "The Mean square error of model is:  53.29326996870821\n",
            "The Mean absolute error of mode is:  5.1554139248340185\n"
          ]
        },
        {
          "data": {
            "image/png": "[encoded data removed]",
            "text/plain": [
              "<Figure size 640x480 with 1 Axes>"
            ]
          },
          "metadata": {},
          "output_type": "display_data"
        }
      ],
      "source": [
        "univariate_linear_regression_helper(X_train_univariate, Y_train, 0.0001, X_test_univariate, Y_test, \"stochastic\" )"
      ]
    },
    {
      "cell_type": "markdown",
      "metadata": {
        "id": "NjHKXgVsX0vX"
      },
      "source": [
        "# 2.Multivariate linear regression using gradient descent to get optimal parameters"
      ]
    },
    {
      "cell_type": "code",
      "execution_count": 98,
      "metadata": {
        "id": "XKczMjyXX0vY"
      },
      "outputs": [],
      "source": [
        "def multivariate_linear_regression_helper(X, Y, alpha,  X_test, Y_test, gradient_method = \"batch\"):\n",
        "\n",
        "    epochs = 1000\n",
        "    costs, theta = [], []\n",
        "    if gradient_method == \"batch\":\n",
        "        costs, theta = batch_gradient_descent(X,epochs,alpha, Y)\n",
        "    else:\n",
        "        costs, theta = stochastic_gradient_descent(X, epochs, alpha, Y)\n",
        "\n",
        "    predictions = []\n",
        "\n",
        "    for i in range(len(Y_test)):\n",
        "        predictions.append(prediction(X_test[i], theta))\n",
        "\n",
        "    metrics = Metrics()\n",
        "    Mse = metrics.MSE(predictions, Y_test)\n",
        "    Mae = metrics.MAE(predictions, Y_test)\n",
        "\n",
        "    if gradient_method == 'batch':\n",
        "        print(\"Metrics the model achieved against test data using batch gradient ascent\")\n",
        "    else:\n",
        "        print(\"Metrics the model achieved against test data using stochastic gradient ascent\")\n",
        "\n",
        "    print(\"******* Multivariate linear regression using gradient descent***********\")\n",
        "    print(\"The Parameters of our model are: \", theta)\n",
        "    print(\"The Mean square error of model is: \" , Mse)\n",
        "    print(\"The Mean absolute error of mode is: \", Mae)\n",
        "\n",
        "    iterations = [i for i in range(1,epochs+1)]\n",
        "    # plt.plot(iterations,costs)\n",
        "    # plt.show();\n"
      ]
    },
    {
      "cell_type": "code",
      "execution_count": 99,
      "metadata": {
        "colab": {
          "base_uri": "https://localhost:8080/"
        },
        "id": "P5QIt95NX0vZ",
        "outputId": "0841c52f-476d-4d2c-a07f-34b8f01af816"
      },
      "outputs": [
        {
          "name": "stdout",
          "output_type": "stream",
          "text": [
            "Metrics the model achieved against test data using batch gradient ascent\n",
            "******* Multivariate linear regression using gradient descent***********\n",
            "The Parameters of our model are:  [69.21639352148641, 3.1246543223672667, 2.4978809894186385, 1.381951375035137, 1.7066858758305081, 1.7119761420969193]\n",
            "The Mean square error of model is:  41.906365538464854\n",
            "The Mean absolute error of mode is:  4.675630461394384\n"
          ]
        }
      ],
      "source": [
        "\n",
        "#This is taking around 10 minutes to execute, as all features are taken as input features and epochs = 1000\n",
        "#Tried with less epochs and higher alpha but then it is not converging to the optimal. So these are near optimal\n",
        "#settings but taking time.\n",
        "\n",
        "multivariate_linear_regression_helper(X_train_multi_all, Y_train, 0.1, X_test_multi_all, Y_test, \"batch\")"
      ]
    },
    {
      "cell_type": "code",
      "execution_count": 107,
      "metadata": {
        "colab": {
          "base_uri": "https://localhost:8080/"
        },
        "id": "P43iNWSrpp5t",
        "outputId": "6629bad6-c940-4658-a154-752bddf00f19"
      },
      "outputs": [
        {
          "name": "stdout",
          "output_type": "stream",
          "text": [
            "Metrics the model achieved against test data using stochastic gradient ascent\n",
            "******* Multivariate linear regression using gradient descent***********\n",
            "The Parameters of our model are:  [69.69945992096264, 12.166204793404928, 6.749173987972568, -0.24771122520077968, 2.0117147956630803, 0.33882455267541994]\n",
            "The Mean square error of model is:  123.14252688336828\n",
            "The Mean absolute error of mode is:  8.91395663332302\n"
          ]
        }
      ],
      "source": [
        "multivariate_linear_regression_helper(X_train_multi_all, Y_train, 0.1, X_test_multi_all, Y_test, \"stochastic\")"
      ]
    },
    {
      "cell_type": "markdown",
      "metadata": {
        "id": "fSHW9BlpX0vb"
      },
      "source": [
        "Insights:\n",
        "    \n",
        "If we see the Closed form solution of univariate linear regression model matches with\n",
        "gradient descent of univariate linear regression model\n",
        "\n",
        "We can also observe that  stochastic gradient descent giving us near optimal answer but not as much as that of\n",
        "batch gradient descent that matches with closed form solution very well."
      ]
    },
    {
      "cell_type": "markdown",
      "metadata": {
        "id": "cuExaLt49unA"
      },
      "source": [
        "**What do you think we can do better?**\n",
        "\n",
        "**How do you know the best seperator/predictor/fit of the data is straight line?**\n",
        "\n",
        "**What if seperator/best file is non-linear?**"
      ]
    },
    {
      "cell_type": "markdown",
      "metadata": {
        "id": "42DMvexABLLR"
      },
      "source": [
        "# What Is Polynomial Regression?\n",
        "\n",
        "Polynomial regression is another form of regression in which the maximum power of the independent variable is more than 1. In this regression technique, the best fit line is not a straight line instead it is in the form of a curve.\n",
        "\n",
        "For Example, Quadratic regression, or regression with second order polynomial, is given by the following equation:\n",
        "\n",
        "![](https://drive.google.com/uc?export=view&id=1i5IqnuaM__XbJvZjQMdxMIuAD4RCTce1)"
      ]
    },
    {
      "cell_type": "markdown",
      "metadata": {
        "id": "3c7-5yhiB7-d"
      },
      "source": [
        "So do you think it’s always better to use higher order polynomials to fit the data set. Sadly, no. Basically, we have created a model that fits our training data well but fails to estimate the real relationship among variables beyond the training set. Therefore our model performs poorly on the test data. This problem is called as over-fitting. We also say that the model has high variance and low bias.\n",
        "\n",
        "![](https://drive.google.com/uc?export=view&id=11-sfnLjxqzMNixPUXZiwTgn3kjM__Ezo)"
      ]
    },
    {
      "cell_type": "markdown",
      "metadata": {
        "id": "0X1AXTOWFHyt"
      },
      "source": [
        "# Bias-Variance Tradeoff\n"
      ]
    },
    {
      "cell_type": "markdown",
      "metadata": {
        "id": "WrJ8i8i4EIHB"
      },
      "source": [
        "\n",
        "![](https://drive.google.com/uc?export=view&id=1xAzlSVpeMF1iBY8HA2qjMbbNYx54sMb0)\n",
        "\n",
        "![](https://drive.google.com/uc?export=view&id=1fcVguV0JWCimtQMwRMn84Nd_zaPWH0x8)"
      ]
    },
    {
      "cell_type": "markdown",
      "metadata": {
        "id": "fd0w7jy-CZfp"
      },
      "source": [
        "As we add more and more parameters to our model, its complexity increases, which results in increasing variance and decreasing bias, i.e., overfitting. So we need to find out one optimum point in our model where the decrease in bias is equal to increase in variance. In practice, there is no analytical way to find this point. So how to deal with high variance or high bias?\n",
        "\n",
        "To overcome underfitting or high bias, we can basically add new parameters to our model so that the model complexity increases, and thus reducing high bias.\n",
        "\n",
        "Now, how can we overcome Overfitting for a regression model?\n",
        "\n",
        "Basically there are several methods to overcome overfitting, two of them are\n",
        "1. Reduce the model complexity\n",
        "2. Regularization\n",
        "\n",
        "Here we would be discussing about Regularization in detail and how to use it to make your model more generalized."
      ]
    },
    {
      "cell_type": "markdown",
      "metadata": {
        "id": "6vmtLQVKpUZR"
      },
      "source": [
        "# Polynomial Regression"
      ]
    },
    {
      "cell_type": "code",
      "execution_count": 100,
      "metadata": {
        "colab": {
          "base_uri": "https://localhost:8080/",
          "height": 676
        },
        "id": "8qQtW_oWCPkD",
        "outputId": "6920253a-8d7e-442f-dcdb-a4fd230fec99"
      },
      "outputs": [
        {
          "data": {
            "image/png": "[encoded data removed]",
            "text/plain": [
              "<Figure size 1200x800 with 1 Axes>"
            ]
          },
          "metadata": {},
          "output_type": "display_data"
        }
      ],
      "source": [
        "import matplotlib.pyplot as plt\n",
        "\n",
        "#Defining independent variable as angles from 60deg to 300deg converted to radians\n",
        "x = np.array([i*np.pi/180 for i in range(10,360,3)])\n",
        "#Setting seed for reproducability\n",
        "np.random.seed(10)\n",
        "#Defining the target/dependent variable as sine of the independent variable\n",
        "y = np.sin(x) + np.random.normal(0,0.15,len(x))\n",
        "#Creating the dataframe using independent and dependent variable\n",
        "data = pd.DataFrame(np.column_stack([x,y]),columns=['x','y'])\n",
        "#Printing first 5 rows of the data\n",
        "data.head()\n",
        "#Plotting the dependent and independent variables\n",
        "plt.figure(figsize=(12,8))\n",
        "plt.plot(data['x'],data['y'],'.');"
      ]
    },
    {
      "cell_type": "code",
      "execution_count": 101,
      "metadata": {
        "colab": {
          "base_uri": "https://localhost:8080/",
          "height": 206
        },
        "id": "s_lt_cpSHILJ",
        "outputId": "21061f5f-5aa2-4879-d489-ae389bcf04b6"
      },
      "outputs": [
        {
          "data": {
            "text/html": [
              "\n",
              "\n",
              "  <div id=\"df-bc60eab1-145c-4277-83c9-29614a982abb\">\n",
              "    <div class=\"colab-df-container\">\n",
              "      <div>\n",
              "<style scoped>\n",
              "    .dataframe tbody tr th:only-of-type {\n",
              "        vertical-align: middle;\n",
              "    }\n",
              "\n",
              "    .dataframe tbody tr th {\n",
              "        vertical-align: top;\n",
              "    }\n",
              "\n",
              "    .dataframe thead th {\n",
              "        text-align: right;\n",
              "    }\n",
              "</style>\n",
              "<table border=\"1\" class=\"dataframe\">\n",
              "  <thead>\n",
              "    <tr style=\"text-align: right;\">\n",
              "      <th></th>\n",
              "      <th>x</th>\n",
              "      <th>y</th>\n",
              "      <th>x_2</th>\n",
              "      <th>x_3</th>\n",
              "      <th>x_4</th>\n",
              "      <th>x_5</th>\n",
              "      <th>x_6</th>\n",
              "      <th>x_7</th>\n",
              "      <th>x_8</th>\n",
              "      <th>x_9</th>\n",
              "      <th>x_10</th>\n",
              "      <th>x_11</th>\n",
              "      <th>x_12</th>\n",
              "      <th>x_13</th>\n",
              "      <th>x_14</th>\n",
              "      <th>x_15</th>\n",
              "    </tr>\n",
              "  </thead>\n",
              "  <tbody>\n",
              "    <tr>\n",
              "      <th>0</th>\n",
              "      <td>0.174533</td>\n",
              "      <td>0.373386</td>\n",
              "      <td>0.030462</td>\n",
              "      <td>0.005317</td>\n",
              "      <td>0.000928</td>\n",
              "      <td>0.000162</td>\n",
              "      <td>0.000028</td>\n",
              "      <td>0.000005</td>\n",
              "      <td>8.610313e-07</td>\n",
              "      <td>1.502783e-07</td>\n",
              "      <td>2.622851e-08</td>\n",
              "      <td>4.577739e-09</td>\n",
              "      <td>7.989662e-10</td>\n",
              "      <td>1.394459e-10</td>\n",
              "      <td>2.433790e-11</td>\n",
              "      <td>4.247765e-12</td>\n",
              "    </tr>\n",
              "    <tr>\n",
              "      <th>1</th>\n",
              "      <td>0.226893</td>\n",
              "      <td>0.332243</td>\n",
              "      <td>0.051480</td>\n",
              "      <td>0.011681</td>\n",
              "      <td>0.002650</td>\n",
              "      <td>0.000601</td>\n",
              "      <td>0.000136</td>\n",
              "      <td>0.000031</td>\n",
              "      <td>7.023697e-06</td>\n",
              "      <td>1.593626e-06</td>\n",
              "      <td>3.615823e-07</td>\n",
              "      <td>8.204043e-08</td>\n",
              "      <td>1.861438e-08</td>\n",
              "      <td>4.223469e-09</td>\n",
              "      <td>9.582748e-10</td>\n",
              "      <td>2.174257e-10</td>\n",
              "    </tr>\n",
              "    <tr>\n",
              "      <th>2</th>\n",
              "      <td>0.279253</td>\n",
              "      <td>0.043827</td>\n",
              "      <td>0.077982</td>\n",
              "      <td>0.021777</td>\n",
              "      <td>0.006081</td>\n",
              "      <td>0.001698</td>\n",
              "      <td>0.000474</td>\n",
              "      <td>0.000132</td>\n",
              "      <td>3.698101e-05</td>\n",
              "      <td>1.032705e-05</td>\n",
              "      <td>2.883856e-06</td>\n",
              "      <td>8.053244e-07</td>\n",
              "      <td>2.248890e-07</td>\n",
              "      <td>6.280085e-08</td>\n",
              "      <td>1.753731e-08</td>\n",
              "      <td>4.897340e-09</td>\n",
              "    </tr>\n",
              "    <tr>\n",
              "      <th>3</th>\n",
              "      <td>0.331613</td>\n",
              "      <td>0.324311</td>\n",
              "      <td>0.109967</td>\n",
              "      <td>0.036466</td>\n",
              "      <td>0.012093</td>\n",
              "      <td>0.004010</td>\n",
              "      <td>0.001330</td>\n",
              "      <td>0.000441</td>\n",
              "      <td>1.462338e-04</td>\n",
              "      <td>4.849296e-05</td>\n",
              "      <td>1.608088e-05</td>\n",
              "      <td>5.332620e-06</td>\n",
              "      <td>1.768364e-06</td>\n",
              "      <td>5.864117e-07</td>\n",
              "      <td>1.944615e-07</td>\n",
              "      <td>6.448586e-08</td>\n",
              "    </tr>\n",
              "    <tr>\n",
              "      <th>4</th>\n",
              "      <td>0.383972</td>\n",
              "      <td>0.467807</td>\n",
              "      <td>0.147435</td>\n",
              "      <td>0.056611</td>\n",
              "      <td>0.021737</td>\n",
              "      <td>0.008346</td>\n",
              "      <td>0.003205</td>\n",
              "      <td>0.001231</td>\n",
              "      <td>4.724984e-04</td>\n",
              "      <td>1.814264e-04</td>\n",
              "      <td>6.966273e-05</td>\n",
              "      <td>2.674857e-05</td>\n",
              "      <td>1.027071e-05</td>\n",
              "      <td>3.943671e-06</td>\n",
              "      <td>1.514261e-06</td>\n",
              "      <td>5.814344e-07</td>\n",
              "    </tr>\n",
              "  </tbody>\n",
              "</table>\n",
              "</div>\n",
              "      <button class=\"colab-df-convert\" onclick=\"convertToInteractive('df-bc60eab1-145c-4277-83c9-29614a982abb')\"\n",
              "              title=\"Convert this dataframe to an interactive table.\"\n",
              "              style=\"display:none;\">\n",
              "\n",
              "  <svg xmlns=\"http://www.w3.org/2000/svg\" height=\"24px\"viewBox=\"0 0 24 24\"\n",
              "       width=\"24px\">\n",
              "    <path d=\"M0 0h24v24H0V0z\" fill=\"none\"/>\n",
              "    <path d=\"M18.56 5.44l.94 2.06.94-2.06 2.06-.94-2.06-.94-.94-2.06-.94 2.06-2.06.94zm-11 1L8.5 8.5l.94-2.06 2.06-.94-2.06-.94L8.5 2.5l-.94 2.06-2.06.94zm10 10l.94 2.06.94-2.06 2.06-.94-2.06-.94-.94-2.06-.94 2.06-2.06.94z\"/><path d=\"M17.41 7.96l-1.37-1.37c-.4-.4-.92-.59-1.43-.59-.52 0-1.04.2-1.43.59L10.3 9.45l-7.72 7.72c-.78.78-.78 2.05 0 2.83L4 21.41c.39.39.9.59 1.41.59.51 0 1.02-.2 1.41-.59l7.78-7.78 2.81-2.81c.8-.78.8-2.07 0-2.86zM5.41 20L4 18.59l7.72-7.72 1.47 1.35L5.41 20z\"/>\n",
              "  </svg>\n",
              "      </button>\n",
              "\n",
              "\n",
              "\n",
              "    <div id=\"df-4494767a-1e48-4a0f-94a8-027c166102ca\">\n",
              "      <button class=\"colab-df-quickchart\" onclick=\"quickchart('df-4494767a-1e48-4a0f-94a8-027c166102ca')\"\n",
              "              title=\"Suggest charts.\"\n",
              "              style=\"display:none;\">\n",
              "\n",
              "<svg xmlns=\"http://www.w3.org/2000/svg\" height=\"24px\"viewBox=\"0 0 24 24\"\n",
              "     width=\"24px\">\n",
              "    <g>\n",
              "        <path d=\"M19 3H5c-1.1 0-2 .9-2 2v14c0 1.1.9 2 2 2h14c1.1 0 2-.9 2-2V5c0-1.1-.9-2-2-2zM9 17H7v-7h2v7zm4 0h-2V7h2v10zm4 0h-2v-4h2v4z\"/>\n",
              "    </g>\n",
              "</svg>\n",
              "      </button>\n",
              "    </div>\n",
              "\n",
              "<style>\n",
              "  .colab-df-quickchart {\n",
              "    background-color: #E8F0FE;\n",
              "    border: none;\n",
              "    border-radius: 50%;\n",
              "    cursor: pointer;\n",
              "    display: none;\n",
              "    fill: #1967D2;\n",
              "    height: 32px;\n",
              "    padding: 0 0 0 0;\n",
              "    width: 32px;\n",
              "  }\n",
              "\n",
              "  .colab-df-quickchart:hover {\n",
              "    background-color: #E2EBFA;\n",
              "    box-shadow: 0px 1px 2px rgba(60, 64, 67, 0.3), 0px 1px 3px 1px rgba(60, 64, 67, 0.15);\n",
              "    fill: #174EA6;\n",
              "  }\n",
              "\n",
              "  [theme=dark] .colab-df-quickchart {\n",
              "    background-color: #3B4455;\n",
              "    fill: #D2E3FC;\n",
              "  }\n",
              "\n",
              "  [theme=dark] .colab-df-quickchart:hover {\n",
              "    background-color: #434B5C;\n",
              "    box-shadow: 0px 1px 3px 1px rgba(0, 0, 0, 0.15);\n",
              "    filter: drop-shadow(0px 1px 2px rgba(0, 0, 0, 0.3));\n",
              "    fill: #FFFFFF;\n",
              "  }\n",
              "</style>\n",
              "\n",
              "    <script>\n",
              "      async function quickchart(key) {\n",
              "        const containerElement = document.querySelector('#' + key);\n",
              "        const charts = await google.colab.kernel.invokeFunction(\n",
              "            'suggestCharts', [key], {});\n",
              "      }\n",
              "    </script>\n",
              "\n",
              "      <script>\n",
              "\n",
              "function displayQuickchartButton(domScope) {\n",
              "  let quickchartButtonEl =\n",
              "    domScope.querySelector('#df-4494767a-1e48-4a0f-94a8-027c166102ca button.colab-df-quickchart');\n",
              "  quickchartButtonEl.style.display =\n",
              "    google.colab.kernel.accessAllowed ? 'block' : 'none';\n",
              "}\n",
              "\n",
              "        displayQuickchartButton(document);\n",
              "      </script>\n",
              "      <style>\n",
              "    .colab-df-container {\n",
              "      display:flex;\n",
              "      flex-wrap:wrap;\n",
              "      gap: 12px;\n",
              "    }\n",
              "\n",
              "    .colab-df-convert {\n",
              "      background-color: #E8F0FE;\n",
              "      border: none;\n",
              "      border-radius: 50%;\n",
              "      cursor: pointer;\n",
              "      display: none;\n",
              "      fill: #1967D2;\n",
              "      height: 32px;\n",
              "      padding: 0 0 0 0;\n",
              "      width: 32px;\n",
              "    }\n",
              "\n",
              "    .colab-df-convert:hover {\n",
              "      background-color: #E2EBFA;\n",
              "      box-shadow: 0px 1px 2px rgba(60, 64, 67, 0.3), 0px 1px 3px 1px rgba(60, 64, 67, 0.15);\n",
              "      fill: #174EA6;\n",
              "    }\n",
              "\n",
              "    [theme=dark] .colab-df-convert {\n",
              "      background-color: #3B4455;\n",
              "      fill: #D2E3FC;\n",
              "    }\n",
              "\n",
              "    [theme=dark] .colab-df-convert:hover {\n",
              "      background-color: #434B5C;\n",
              "      box-shadow: 0px 1px 3px 1px rgba(0, 0, 0, 0.15);\n",
              "      filter: drop-shadow(0px 1px 2px rgba(0, 0, 0, 0.3));\n",
              "      fill: #FFFFFF;\n",
              "    }\n",
              "  </style>\n",
              "\n",
              "      <script>\n",
              "        const buttonEl =\n",
              "          document.querySelector('#df-bc60eab1-145c-4277-83c9-29614a982abb button.colab-df-convert');\n",
              "        buttonEl.style.display =\n",
              "          google.colab.kernel.accessAllowed ? 'block' : 'none';\n",
              "\n",
              "        async function convertToInteractive(key) {\n",
              "          const element = document.querySelector('#df-bc60eab1-145c-4277-83c9-29614a982abb');\n",
              "          const dataTable =\n",
              "            await google.colab.kernel.invokeFunction('convertToInteractive',\n",
              "                                                     [key], {});\n",
              "          if (!dataTable) return;\n",
              "\n",
              "          const docLinkHtml = 'Like what you see? Visit the ' +\n",
              "            '<a target=\"_blank\" href=https://colab.research.google.com/notebooks/data_table.ipynb>data table notebook</a>'\n",
              "            + ' to learn more about interactive tables.';\n",
              "          element.innerHTML = '';\n",
              "          dataTable['output_type'] = 'display_data';\n",
              "          await google.colab.output.renderOutput(dataTable, element);\n",
              "          const docLink = document.createElement('div');\n",
              "          docLink.innerHTML = docLinkHtml;\n",
              "          element.appendChild(docLink);\n",
              "        }\n",
              "      </script>\n",
              "    </div>\n",
              "  </div>\n"
            ],
            "text/plain": [
              "          x         y       x_2       x_3       x_4       x_5       x_6  \\\n",
              "0  0.174533  0.373386  0.030462  0.005317  0.000928  0.000162  0.000028   \n",
              "1  0.226893  0.332243  0.051480  0.011681  0.002650  0.000601  0.000136   \n",
              "2  0.279253  0.043827  0.077982  0.021777  0.006081  0.001698  0.000474   \n",
              "3  0.331613  0.324311  0.109967  0.036466  0.012093  0.004010  0.001330   \n",
              "4  0.383972  0.467807  0.147435  0.056611  0.021737  0.008346  0.003205   \n",
              "\n",
              "        x_7           x_8           x_9          x_10          x_11  \\\n",
              "0  0.000005  8.610313e-07  1.502783e-07  2.622851e-08  4.577739e-09   \n",
              "1  0.000031  7.023697e-06  1.593626e-06  3.615823e-07  8.204043e-08   \n",
              "2  0.000132  3.698101e-05  1.032705e-05  2.883856e-06  8.053244e-07   \n",
              "3  0.000441  1.462338e-04  4.849296e-05  1.608088e-05  5.332620e-06   \n",
              "4  0.001231  4.724984e-04  1.814264e-04  6.966273e-05  2.674857e-05   \n",
              "\n",
              "           x_12          x_13          x_14          x_15  \n",
              "0  7.989662e-10  1.394459e-10  2.433790e-11  4.247765e-12  \n",
              "1  1.861438e-08  4.223469e-09  9.582748e-10  2.174257e-10  \n",
              "2  2.248890e-07  6.280085e-08  1.753731e-08  4.897340e-09  \n",
              "3  1.768364e-06  5.864117e-07  1.944615e-07  6.448586e-08  \n",
              "4  1.027071e-05  3.943671e-06  1.514261e-06  5.814344e-07  "
            ]
          },
          "execution_count": 101,
          "metadata": {},
          "output_type": "execute_result"
        }
      ],
      "source": [
        "# polynomial regression with powers of x from 2 to 15\n",
        "for i in range(2,16):  #power of 1 is already there, hence starting with 2\n",
        "    colname = 'x_%d'%i      #new var will be x_power\n",
        "    data[colname] = data['x']**i\n",
        "data.head()"
      ]
    },
    {
      "cell_type": "markdown",
      "metadata": {
        "id": "gv2nkw-lHPXd"
      },
      "source": [
        "Creating test and train sets"
      ]
    },
    {
      "cell_type": "code",
      "execution_count": 102,
      "metadata": {
        "colab": {
          "base_uri": "https://localhost:8080/"
        },
        "id": "TJglnD4MHUfX",
        "outputId": "c47ed7f4-4989-4592-c21d-45c31498e771"
      },
      "outputs": [
        {
          "data": {
            "text/plain": [
              "(73, 16)"
            ]
          },
          "execution_count": 102,
          "metadata": {},
          "output_type": "execute_result"
        }
      ],
      "source": [
        "data['randNumCol'] = np.random.randint(1, 6, data.shape[0])\n",
        "train=data[data['randNumCol']<=3]\n",
        "test=data[data['randNumCol']>3]\n",
        "train = train.drop('randNumCol', axis=1)\n",
        "test = test.drop('randNumCol', axis=1)\n",
        "train.shape\n"
      ]
    },
    {
      "cell_type": "markdown",
      "metadata": {
        "id": "g4TioQUHIOeV"
      },
      "source": [
        "1. Linear Regression with 1 feature"
      ]
    },
    {
      "cell_type": "code",
      "execution_count": 103,
      "metadata": {
        "colab": {
          "base_uri": "https://localhost:8080/",
          "height": 467
        },
        "id": "XQj6UdgmHSbJ",
        "outputId": "83c832b0-03f7-42ce-d3d5-7bcfa7151f64"
      },
      "outputs": [
        {
          "name": "stdout",
          "output_type": "stream",
          "text": [
            "Training Error 0.21314430958173897\n",
            "Testing Error 0.18974033118165393\n"
          ]
        },
        {
          "data": {
            "image/png": "[encoded data removed]",
            "text/plain": [
              "<Figure size 640x480 with 1 Axes>"
            ]
          },
          "metadata": {},
          "output_type": "display_data"
        }
      ],
      "source": [
        "#Import Linear Regression model from scikit-learn.\n",
        "from sklearn.linear_model import LinearRegression\n",
        "\n",
        "#Separating the independent and dependent variables\n",
        "X_train = train.drop('y', axis=1).values\n",
        "y_train = train['y'].values\n",
        "X_test = test.drop('y', axis=1).values\n",
        "y_test = test['y'].values\n",
        "\n",
        "train.drop('y', axis=1).head()\n",
        "\n",
        "#Linear Regression with one features\n",
        "independent_variable_train = X_train[:,0:1]\n",
        "\n",
        "linreg = LinearRegression()\n",
        "linreg.fit(independent_variable_train,y_train)\n",
        "y_train_pred = linreg.predict(independent_variable_train)\n",
        "\n",
        "rss_train = sum((y_train_pred-y_train)**2) / X_train.shape[0]\n",
        "\n",
        "independent_variable_test = X_test[:,0:1]\n",
        "y_test_pred = linreg.predict(independent_variable_test)\n",
        "rss_test = sum((y_test_pred-y_test)**2)/ X_test.shape[0]\n",
        "\n",
        "print(\"Training Error\", rss_train)\n",
        "print(\"Testing Error\",rss_test)\n",
        "\n",
        "plt.plot(X_train[:,0:1],y_train,'.')\n",
        "plt.plot(X_train[:,0:1],y_train_pred);\n"
      ]
    },
    {
      "cell_type": "markdown",
      "metadata": {
        "id": "6kwupJmvJuzQ"
      },
      "source": [
        "Linear regression with three features\n",
        "\n"
      ]
    },
    {
      "cell_type": "code",
      "execution_count": 104,
      "metadata": {
        "colab": {
          "base_uri": "https://localhost:8080/",
          "height": 467
        },
        "id": "RtgF6phtJvum",
        "outputId": "f45a6368-0d70-4d3e-db82-c887711a8381"
      },
      "outputs": [
        {
          "name": "stdout",
          "output_type": "stream",
          "text": [
            "Training Error 0.021472481770965682\n",
            "Testing Error 0.030451878881971598\n"
          ]
        },
        {
          "data": {
            "image/png": "[encoded data removed]",
            "text/plain": [
              "<Figure size 640x480 with 1 Axes>"
            ]
          },
          "metadata": {},
          "output_type": "display_data"
        }
      ],
      "source": [
        "train.drop('y', axis=1).columns\n",
        "\n",
        "independent_variable_train = X_train[:,0:3]\n",
        "\n",
        "linreg = LinearRegression()\n",
        "linreg.fit(independent_variable_train,y_train)\n",
        "y_train_pred = linreg.predict(independent_variable_train)\n",
        "\n",
        "rss_train = sum((y_train_pred-y_train)**2) / X_train.shape[0]\n",
        "\n",
        "independent_variable_test = X_test[:,0:3]\n",
        "y_test_pred = linreg.predict(independent_variable_test)\n",
        "rss_test = sum((y_test_pred-y_test)**2)/ X_test.shape[0]\n",
        "\n",
        "print(\"Training Error\", rss_train)\n",
        "print(\"Testing Error\",rss_test)\n",
        "\n",
        "plt.plot(X_train[:,0:1],y_train,'.')\n",
        "plt.plot(X_train[:,0:1],y_train_pred);"
      ]
    },
    {
      "cell_type": "code",
      "execution_count": 105,
      "metadata": {
        "colab": {
          "base_uri": "https://localhost:8080/",
          "height": 807
        },
        "id": "Up3DtB2BKiVv",
        "outputId": "b3019689-6ead-4508-bfe9-71b689c011a7"
      },
      "outputs": [
        {
          "data": {
            "image/png": "[encoded data removed]",
            "text/plain": [
              "<Figure size 1200x800 with 6 Axes>"
            ]
          },
          "metadata": {},
          "output_type": "display_data"
        }
      ],
      "source": [
        "def linear_regression(train_x, train_y, test_x, test_y, features, models_to_plot):\n",
        "\n",
        "    #Fit the model\n",
        "    linreg = LinearRegression()\n",
        "    linreg.fit(train_x,train_y)\n",
        "    train_y_pred = linreg.predict(train_x)\n",
        "    test_y_pred = linreg.predict(test_x)\n",
        "\n",
        "    #Check if a plot is to be made for the entered features\n",
        "    if features in models_to_plot:\n",
        "        plt.subplot(models_to_plot[features])\n",
        "        plt.tight_layout()\n",
        "        plt.plot(train_x[:,0:1],train_y_pred)\n",
        "\n",
        "        plt.plot(train_x[:,0:1],train_y,'.')\n",
        "\n",
        "        plt.title('Number of Predictors: %d'%features)\n",
        "\n",
        "    #Return the result in pre-defined format\n",
        "    rss_train = sum((train_y_pred-train_y)**2)/train_x.shape[0]\n",
        "    ret = [rss_train]\n",
        "\n",
        "    rss_test = sum((test_y_pred-test_y)**2)/test_x.shape[0]\n",
        "    ret.extend([rss_test])\n",
        "\n",
        "    ret.extend([linreg.intercept_])\n",
        "    ret.extend(linreg.coef_)\n",
        "\n",
        "    return ret\n",
        "  #Initialize a dataframe to store the results:\n",
        "col = ['mrss_train','mrss_test','intercept'] + ['coef_Var_%d'%i for i in range(1,16)]\n",
        "ind = ['Number_of_variable_%d'%i for i in range(1,16)]\n",
        "coef_matrix_simple = pd.DataFrame(index=ind, columns=col)\n",
        "\n",
        "#Define the number of features for which a plot is required:\n",
        "models_to_plot = {1:231,3:232,6:233,9:234,12:235,15:236}\n",
        "\n",
        "#Iterate through all powers and store the results in a matrix form\n",
        "plt.figure(figsize=(12,8))\n",
        "for i in range(1,16):\n",
        "    train_x = X_train[:,0:i]\n",
        "    train_y = y_train\n",
        "    test_x = X_test[:,0:i]\n",
        "    test_y = y_test\n",
        "\n",
        "    coef_matrix_simple.iloc[i-1,0:i+3] = linear_regression(train_x,train_y, test_x, test_y, features=i, models_to_plot=models_to_plot)"
      ]
    },
    {
      "cell_type": "code",
      "execution_count": 106,
      "metadata": {
        "colab": {
          "base_uri": "https://localhost:8080/",
          "height": 634
        },
        "id": "JcU0d6FfMfCC",
        "outputId": "d84234db-bb3d-4bcf-f859-199afddc2ce0"
      },
      "outputs": [
        {
          "data": {
            "image/png": "[encoded data removed]",
            "text/plain": [
              "<Figure size 1200x600 with 1 Axes>"
            ]
          },
          "metadata": {},
          "output_type": "display_data"
        }
      ],
      "source": [
        "plt.figure(figsize=(12,6))\n",
        "plt.plot(coef_matrix_simple['mrss_train'])\n",
        "plt.plot(coef_matrix_simple['mrss_test'])\n",
        "plt.xlabel('Features')\n",
        "plt.ylabel('MSE')\n",
        "plt.legend(['train', 'test'])\n",
        "plt.xticks(rotation = 35)\n",
        "plt.show();\n"
      ]
    },
    {
      "cell_type": "markdown",
      "metadata": {
        "id": "IYxmzzZRbwSV"
      },
      "source": [
        "# Penalized Estimation\n"
      ]
    },
    {
      "cell_type": "markdown",
      "metadata": {
        "id": "jZkgKr38M0P0"
      },
      "source": [
        "\n",
        "You've seen that when the number of predictors increases, your model complexity increases, with a higher chance of overfitting as a result. We've previously seen fairly ad-hoc variable selection methods (such as forward/backward selection), to simply select a few variables from a longer list of variables as predictors.\n",
        "\n",
        "Now, instead of completely \"deleting\" certain predictors from a model (which is equal to setting coefficients equal to zero), wouldn't it be interesting to just reduce the values of the coefficients to make them less sensitive to noise in the data? *Penalized estimation* operates in a way where parameter shrinkage effects are used to make some or all of the coefficients smaller in magnitude (closer to zero). Some of the penalties have the property of performing both variable selection (setting some coefficients exactly equal to zero) and shrinking the other coefficients.\n",
        "\n",
        "1. They reduce model complexity\n",
        "2. They may prevent overfitting\n",
        "3. Some of them may perform variable selection at the same time (when coefficients are set to 0)\n",
        "4. They can be used to counter multicollinearity\n",
        "\n",
        "\n",
        "Penalized estimation is a commonly used *regularization* technique. Regularization is a general term used when one tries to battle overfitting.\n",
        "\n",
        "Two commonly-used models that use penalized estimation are *ridge regression* and *lasso regression*. While linear regression has been in use since the 1800s, ridge regression was proposed in 1970 and lasso regression in 1996."
      ]
    },
    {
      "cell_type": "markdown",
      "metadata": {
        "id": "L4yf04lbatpD"
      },
      "source": [
        "# What is Generalization?\n",
        "\n",
        "The term ‘generalization’ refers to a model’s ability to adapt and react appropriately to previously unseen, fresh data chosen from the same distribution as the model’s initial input. In other words, generalization assesses a model’s ability to process new data and generate accurate predictions after being trained on a training set.\n",
        "\n"
      ]
    }
  ],
  "metadata": {
    "colab": {
      "provenance": []
    },
    "kernelspec": {
      "display_name": "Python 3",
      "language": "python",
      "name": "python3"
    },
    "language_info": {
      "codemirror_mode": {
        "name": "ipython",
        "version": 3
      },
      "file_extension": ".py",
      "mimetype": "text/x-python",
      "name": "python",
      "nbconvert_exporter": "python",
      "pygments_lexer": "ipython3",
      "version": "3.8.10"
    }
  },
  "nbformat": 4,
  "nbformat_minor": 0
}
