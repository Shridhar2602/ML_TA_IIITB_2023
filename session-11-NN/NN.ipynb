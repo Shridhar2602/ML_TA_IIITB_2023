{
 "cells": [
  {
   "cell_type": "code",
   "execution_count": 393,
   "metadata": {},
   "outputs": [],
   "source": [
    "import torch\n",
    "import torch.nn as nn \n",
    "import torch.optim as optim \n",
    "import torchmetrics\n",
    "import sklearn.preprocessing as preprocessing\n",
    "import sklearn.model_selection as model_selection \n",
    "import torch.utils.data as data \n",
    "import numpy as np \n",
    "import matplotlib.pyplot as plt"
   ]
  },
  {
   "cell_type": "markdown",
   "metadata": {},
   "source": [
    "### Get Device for Training\n",
    "\n",
    "We want to be able to train our model on a hardware accelerator like the GPU,\n",
    "if it is available. Let's check to see if\n",
    "[torch.cuda](https://pytorch.org/docs/stable/notes/cuda.html) is available, else we\n",
    "continue to use the CPU."
   ]
  },
  {
   "cell_type": "code",
   "execution_count": 394,
   "metadata": {},
   "outputs": [
    {
     "name": "stdout",
     "output_type": "stream",
     "text": [
      "Using cuda device\n"
     ]
    }
   ],
   "source": [
    "device = \"cuda\" if torch.cuda.is_available() else \"cpu\"\n",
    "print(f\"Using {device} device\")"
   ]
  },
  {
   "cell_type": "markdown",
   "metadata": {},
   "source": [
    "### Setting up training data"
   ]
  },
  {
   "cell_type": "code",
   "execution_count": 395,
   "metadata": {},
   "outputs": [
    {
     "name": "stdout",
     "output_type": "stream",
     "text": [
      "(1797, 64)\n"
     ]
    },
    {
     "data": {
      "text/plain": [
       "<Figure size 432x288 with 0 Axes>"
      ]
     },
     "metadata": {},
     "output_type": "display_data"
    },
    {
     "data": {
      "image/png": "[encoded data removed]",
      "text/plain": [
       "<Figure size 288x288 with 1 Axes>"
      ]
     },
     "metadata": {
      "needs_background": "light"
     },
     "output_type": "display_data"
    }
   ],
   "source": [
    "from sklearn.datasets import load_digits\n",
    "digits = load_digits()\n",
    "print(digits.data.shape)\n",
    "\n",
    "plt.gray()\n",
    "plt.matshow(digits.images[3])\n",
    "plt.show()"
   ]
  },
  {
   "cell_type": "code",
   "execution_count": 396,
   "metadata": {},
   "outputs": [
    {
     "name": "stdout",
     "output_type": "stream",
     "text": [
      "(1797, 64) (1797,)\n"
     ]
    }
   ],
   "source": [
    "print(digits.data.shape, digits.target.shape)"
   ]
  },
  {
   "cell_type": "code",
   "execution_count": 397,
   "metadata": {},
   "outputs": [],
   "source": [
    "X_train, X_test, y_train, y_test = model_selection.train_test_split(digits.data, digits.target, test_size=0.2)"
   ]
  },
  {
   "cell_type": "markdown",
   "metadata": {},
   "source": [
    "In PyTorch, we use tensors to encode the inputs and outputs of a model, as well as the model’s parameters.\n",
    "\n",
    "Tensors are similar to NumPy’s ndarrays, except that tensors can run on GPUs or other hardware accelerators."
   ]
  },
  {
   "cell_type": "code",
   "execution_count": 398,
   "metadata": {},
   "outputs": [],
   "source": [
    "X_train = torch.from_numpy(X_train).to(torch.float32).to(device)\n",
    "y_train = torch.from_numpy(y_train).to().to(device)\n",
    "y_test = torch.from_numpy(y_test).to().to(device)\n",
    "X_test = torch.from_numpy(X_test).to(torch.float32).to(device)"
   ]
  },
  {
   "cell_type": "markdown",
   "metadata": {},
   "source": [
    "### Dataloader\n",
    "\n",
    "While training a model, we typically want to pass samples in “minibatches”.\n",
    "\n",
    "The `Dataset` retrieves our dataset’s features and labels one sample at a time. While training a model, we typically want to pass samples in “minibatches”, reshuffle the data at every epoch to reduce model overfitting, and use Python’s multiprocessing to speed up data retrieval.DataLoader is an iterable that abstracts this complexity for us in an easy API."
   ]
  },
  {
   "cell_type": "code",
   "execution_count": 399,
   "metadata": {},
   "outputs": [],
   "source": [
    "from torch.utils import data\n",
    "\n",
    "class Data(data.Dataset):\n",
    "\t\n",
    "\tdef __init__(self, X, Y) -> None:\n",
    "\t\tsuper().__init__()\n",
    "\n",
    "\t\tself.X = X\n",
    "\t\tself.Y = Y\n",
    "\t\t\n",
    "\tdef __len__(self):\n",
    "\t\treturn len(self.X)\n",
    "\n",
    "\tdef __getitem__(self, index):\n",
    "\t\t_x = self.X[index]\n",
    "\t\t_y = self.Y[index]\n",
    "\n",
    "\t\treturn _x, _y\n",
    "\t\n",
    "training_data = Data(X_train, y_train)"
   ]
  },
  {
   "cell_type": "markdown",
   "metadata": {},
   "source": [
    "### Defining the model Architecture"
   ]
  },
  {
   "cell_type": "code",
   "execution_count": 400,
   "metadata": {},
   "outputs": [
    {
     "data": {
      "text/plain": [
       "Sequential(\n",
       "  (0): Linear(in_features=64, out_features=32, bias=True)\n",
       "  (1): ReLU()\n",
       "  (2): Linear(in_features=32, out_features=32, bias=True)\n",
       "  (3): ReLU()\n",
       "  (4): Linear(in_features=32, out_features=10, bias=True)\n",
       ")"
      ]
     },
     "execution_count": 400,
     "metadata": {},
     "output_type": "execute_result"
    }
   ],
   "source": [
    "torch.manual_seed(0)\n",
    "\n",
    "model = nn.Sequential(\n",
    "    nn.Linear(64, 32),\n",
    "    nn.ReLU(),\n",
    "    nn.Linear(32, 32),\n",
    "    nn.ReLU(),\n",
    "    nn.Linear(32, 10)\n",
    ").to(device)\n",
    "\n",
    "model"
   ]
  },
  {
   "cell_type": "code",
   "execution_count": 401,
   "metadata": {},
   "outputs": [],
   "source": [
    "loss_function = nn.CrossEntropyLoss().to(device)\n",
    "optimizer = torch.optim.Adam(model.parameters(), lr=0.00015)\n",
    "# optimizer = torch.optim.SGD(model.parameters(), lr=0.002)"
   ]
  },
  {
   "cell_type": "markdown",
   "metadata": {},
   "source": [
    "### Training"
   ]
  },
  {
   "cell_type": "code",
   "execution_count": 402,
   "metadata": {},
   "outputs": [
    {
     "name": "stdout",
     "output_type": "stream",
     "text": [
      "Epoch =  \t Training Accuracy \t Testing Accuracy\n",
      "Epoch = 0 \t 0.13361169397830963 \t 0.12222222238779068\n",
      "Epoch = 1 \t 0.19763396680355072 \t 0.1944444477558136\n"
     ]
    },
    {
     "name": "stdout",
     "output_type": "stream",
     "text": [
      "Epoch = 2 \t 0.2853166460990906 \t 0.25555557012557983\n",
      "Epoch = 3 \t 0.3959638178348541 \t 0.3611111044883728\n",
      "Epoch = 4 \t 0.49269309639930725 \t 0.4861111044883728\n",
      "Epoch = 5 \t 0.581071674823761 \t 0.6222222447395325\n",
      "Epoch = 6 \t 0.6694502234458923 \t 0.7083333134651184\n",
      "Epoch = 7 \t 0.7146833539009094 \t 0.7527777552604675\n",
      "Epoch = 8 \t 0.774530291557312 \t 0.8027777671813965\n",
      "Epoch = 9 \t 0.8037578463554382 \t 0.8277778029441833\n",
      "Epoch = 10 \t 0.8295059204101562 \t 0.8527777791023254\n",
      "Epoch = 11 \t 0.8482950329780579 \t 0.8638888597488403\n"
     ]
    }
   ],
   "source": [
    "accuracy = []\n",
    "accuracy_test = []\n",
    "metric = torchmetrics.Accuracy(task='multiclass', num_classes=10).to(device)\n",
    "\n",
    "print(\"Epoch = {} \\t {} \\t {}\".format(\"\", \"Training Accuracy\", \"Testing Accuracy\"))\n",
    "\n",
    "for epoch in range(12):\n",
    "\n",
    "\tdataloader = data.DataLoader(training_data, batch_size = 64, shuffle=True)\n",
    "\t\n",
    "\tfor d in dataloader:\n",
    "\t\t\n",
    "\t\t# calculate current loss\n",
    "\t\tloss = loss_function(model(d[0]), d[1])\n",
    "\t\t\n",
    "\t\t# backpropogation\n",
    "\t\tmodel.zero_grad()\n",
    "\t\tloss.backward()\n",
    "\n",
    "\t\t# descent\n",
    "\t\toptimizer.step()\n",
    "\n",
    "\tlabels = torch.argmax(model(X_train), dim=1)\n",
    "\tlabels_test = torch.argmax(model(X_test), dim=1)\n",
    "\n",
    "\taccuracy.append(metric(labels, y_train).cpu().numpy().item())\n",
    "\taccuracy_test.append(metric(labels_test, y_test).cpu().numpy().item())\n",
    "\n",
    "\tprint(\"Epoch = {} \\t {} \\t {}\".format(epoch, accuracy[-1], accuracy_test[-1]))\n",
    "\n",
    "\tlabels.detach()\n",
    "\tlabels_test.detach()"
   ]
  },
  {
   "cell_type": "code",
   "execution_count": 403,
   "metadata": {},
   "outputs": [
    {
     "data": {
      "image/png": "[encoded data removed]",
      "text/plain": [
       "<Figure size 720x432 with 1 Axes>"
      ]
     },
     "metadata": {
      "needs_background": "light"
     },
     "output_type": "display_data"
    }
   ],
   "source": [
    "# Plot the accuracy curves\n",
    "plt.figure(figsize=(10, 6))\n",
    "plt.plot(range(1, len(accuracy) + 1), accuracy, label='Training Accuracy')\n",
    "plt.plot(range(1, len(accuracy_test) + 1), accuracy_test, label='Testing Accuracy')\n",
    "plt.xlabel('Epoch')\n",
    "plt.ylabel('Accuracy')\n",
    "plt.title('Training and Testing Accuracy Curves')\n",
    "plt.legend()\n",
    "plt.show()"
   ]
  },
  {
   "cell_type": "code",
   "execution_count": 404,
   "metadata": {},
   "outputs": [
    {
     "data": {
      "text/plain": [
       "tensor(6, device='cuda:0')"
      ]
     },
     "execution_count": 404,
     "metadata": {},
     "output_type": "execute_result"
    }
   ],
   "source": [
    "torch.argmax(model(X_test[0]))"
   ]
  }
 ],
 "metadata": {
  "kernelspec": {
   "display_name": "Python 3",
   "language": "python",
   "name": "python3"
  },
  "language_info": {
   "codemirror_mode": {
    "name": "ipython",
    "version": 3
   },
   "file_extension": ".py",
   "mimetype": "text/x-python",
   "name": "python",
   "nbconvert_exporter": "python",
   "pygments_lexer": "ipython3",
   "version": "3.8.10"
  }
 },
 "nbformat": 4,
 "nbformat_minor": 2
}
