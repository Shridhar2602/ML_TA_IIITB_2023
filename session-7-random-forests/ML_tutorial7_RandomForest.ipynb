{
  "nbformat": 4,
  "nbformat_minor": 0,
  "metadata": {
    "colab": {
      "provenance": []
    },
    "kernelspec": {
      "name": "python3",
      "display_name": "Python 3"
    },
    "language_info": {
      "name": "python"
    }
  },
  "cells": [
    {
      "cell_type": "markdown",
      "source": [
        "#Random Forest"
      ],
      "metadata": {
        "id": "5U4Eu8o0Y9pQ"
      }
    },
    {
      "cell_type": "markdown",
      "source": [
        "The name gives it away !!\n",
        "\n",
        "It's a forest. Forest has many trees.\n",
        "\n",
        "So naturally this model utilizes many Decision Trees.\n",
        "\n",
        "But other than the intelligent use of language, what is special(or should I say random) about these \"Random Forests\" and why do we use them?"
      ],
      "metadata": {
        "id": "h4u54UOTZABl"
      }
    },
    {
      "cell_type": "markdown",
      "source": [
        "We know from last class that Decision Trees are prone to overfitting.\n",
        "\n",
        "Decision Tree, although being simple and intutive, are not very effective in general. It focuses on the current node-split and not the effect on the whole tree as such. This behaviour is prone to overfitting.\n",
        "\n",
        "So now one solution to this could be to create different trees to bring in some amount of generalizability. But now we can't be having same parameters for each tree and give them same dataset. Because in that case we will end up with exactly same tree.\n",
        "\n",
        "This is where the \"Random\" in the name comes."
      ],
      "metadata": {
        "id": "d1CKN7-UaQ2E"
      }
    },
    {
      "cell_type": "code",
      "source": [],
      "metadata": {
        "id": "Z8niwCjXcK1O"
      },
      "execution_count": null,
      "outputs": []
    },
    {
      "cell_type": "markdown",
      "source": [
        "So now these different trees provide us with different views/perspective on the dataset. This collective learning will lead us to generalization.\n",
        "\n",
        "Ok so now the first goal is clear, get different trees. How??\n",
        "\n",
        "For each tree we give different dataset and different features\n",
        "\n"
      ],
      "metadata": {
        "id": "_EUK3wBdcLQz"
      }
    },
    {
      "cell_type": "markdown",
      "source": [
        "##Randomizing the features\n",
        "\n",
        "We know that even decision trees don't always use all the features. So it might miss out on some feature(s) that could be key to understand the dataset better.\n",
        "\n",
        "in Random Forest, for each of the tree, at each split, it will randomize the set of features that it would consider. This way all the features have a chance."
      ],
      "metadata": {
        "id": "oSl99b8xNFof"
      }
    },
    {
      "cell_type": "markdown",
      "source": [
        "##Bagging\n",
        "\n",
        "Random Forest uses bagging concept.\n",
        "\n",
        "Now what is this?\n",
        "\n",
        "###Bootstrap + Aggregating\n",
        "\n",
        "Bootstrap:\n",
        "Randomizing the input data\n",
        "\n",
        "For each decision tree, our input data will be different and randomized. So it means we create multiple random datasets by resampling from the original dataset. So, for a tree, our dataset will be formed by sampling randomly from the original dataset with replacement. (What??)\n",
        "\n",
        "The new dataset will have same number of rows as the original, so we can have repeating rows.\n",
        "\n",
        "Bootstraping + Feature randomization ensures that we get different trees.\n",
        "\n",
        "These two are the core of Random Forest. This helps in overcoming the issue of overfitting in decision trees.\n",
        "\n",
        "Aggregating:\n",
        "\n",
        "We have many trees now. Lets say we have completed the training part. Now what? We have results from each of the tree. How to get the final result with these??\n",
        "\n",
        "For regression: Average\n",
        "\n",
        "For classification: Voting\n",
        "\n"
      ],
      "metadata": {
        "id": "hKHgz0zKQlnu"
      }
    },
    {
      "cell_type": "code",
      "source": [
        "import pandas as pd\n",
        "\n",
        "df = pd.read_csv(\"/content/dataset.csv\")\n",
        "df.reset_index(drop=True, inplace=True)\n",
        "df = df.dropna()\n",
        "columns = (df.drop([\"sex\"],axis=1)).columns\n",
        "X = df.drop([\"sex\"],axis=1).to_numpy()\n",
        "y = df[\"sex\"].to_numpy()\n"
      ],
      "metadata": {
        "id": "Hv9jpmmSzdcg"
      },
      "execution_count": null,
      "outputs": []
    },
    {
      "cell_type": "code",
      "source": [
        "from sklearn.model_selection import train_test_split\n",
        "X_train, X_test, y_train, y_test = train_test_split(X, y, test_size=0.2, random_state=7)\n",
        "from sklearn.ensemble import RandomForestClassifier\n",
        "model = RandomForestClassifier(n_estimators=50, random_state=7)\n",
        "model.fit(X_train, y_train)"
      ],
      "metadata": {
        "colab": {
          "base_uri": "https://localhost:8080/",
          "height": 74
        },
        "id": "APA4sucR0l4c",
        "outputId": "4f0646f7-9bc0-4909-f249-6e5b5b0ab7c2"
      },
      "execution_count": null,
      "outputs": [
        {
          "output_type": "execute_result",
          "data": {
            "text/plain": [
              "RandomForestClassifier(n_estimators=50, random_state=7)"
            ],
            "text/html": [
              "<style>#sk-container-id-1 {color: black;background-color: white;}#sk-container-id-1 pre{padding: 0;}#sk-container-id-1 div.sk-toggleable {background-color: white;}#sk-container-id-1 label.sk-toggleable__label {cursor: pointer;display: block;width: 100%;margin-bottom: 0;padding: 0.3em;box-sizing: border-box;text-align: center;}#sk-container-id-1 label.sk-toggleable__label-arrow:before {content: \"▸\";float: left;margin-right: 0.25em;color: #696969;}#sk-container-id-1 label.sk-toggleable__label-arrow:hover:before {color: black;}#sk-container-id-1 div.sk-estimator:hover label.sk-toggleable__label-arrow:before {color: black;}#sk-container-id-1 div.sk-toggleable__content {max-height: 0;max-width: 0;overflow: hidden;text-align: left;background-color: #f0f8ff;}#sk-container-id-1 div.sk-toggleable__content pre {margin: 0.2em;color: black;border-radius: 0.25em;background-color: #f0f8ff;}#sk-container-id-1 input.sk-toggleable__control:checked~div.sk-toggleable__content {max-height: 200px;max-width: 100%;overflow: auto;}#sk-container-id-1 input.sk-toggleable__control:checked~label.sk-toggleable__label-arrow:before {content: \"▾\";}#sk-container-id-1 div.sk-estimator input.sk-toggleable__control:checked~label.sk-toggleable__label {background-color: #d4ebff;}#sk-container-id-1 div.sk-label input.sk-toggleable__control:checked~label.sk-toggleable__label {background-color: #d4ebff;}#sk-container-id-1 input.sk-hidden--visually {border: 0;clip: rect(1px 1px 1px 1px);clip: rect(1px, 1px, 1px, 1px);height: 1px;margin: -1px;overflow: hidden;padding: 0;position: absolute;width: 1px;}#sk-container-id-1 div.sk-estimator {font-family: monospace;background-color: #f0f8ff;border: 1px dotted black;border-radius: 0.25em;box-sizing: border-box;margin-bottom: 0.5em;}#sk-container-id-1 div.sk-estimator:hover {background-color: #d4ebff;}#sk-container-id-1 div.sk-parallel-item::after {content: \"\";width: 100%;border-bottom: 1px solid gray;flex-grow: 1;}#sk-container-id-1 div.sk-label:hover label.sk-toggleable__label {background-color: #d4ebff;}#sk-container-id-1 div.sk-serial::before {content: \"\";position: absolute;border-left: 1px solid gray;box-sizing: border-box;top: 0;bottom: 0;left: 50%;z-index: 0;}#sk-container-id-1 div.sk-serial {display: flex;flex-direction: column;align-items: center;background-color: white;padding-right: 0.2em;padding-left: 0.2em;position: relative;}#sk-container-id-1 div.sk-item {position: relative;z-index: 1;}#sk-container-id-1 div.sk-parallel {display: flex;align-items: stretch;justify-content: center;background-color: white;position: relative;}#sk-container-id-1 div.sk-item::before, #sk-container-id-1 div.sk-parallel-item::before {content: \"\";position: absolute;border-left: 1px solid gray;box-sizing: border-box;top: 0;bottom: 0;left: 50%;z-index: -1;}#sk-container-id-1 div.sk-parallel-item {display: flex;flex-direction: column;z-index: 1;position: relative;background-color: white;}#sk-container-id-1 div.sk-parallel-item:first-child::after {align-self: flex-end;width: 50%;}#sk-container-id-1 div.sk-parallel-item:last-child::after {align-self: flex-start;width: 50%;}#sk-container-id-1 div.sk-parallel-item:only-child::after {width: 0;}#sk-container-id-1 div.sk-dashed-wrapped {border: 1px dashed gray;margin: 0 0.4em 0.5em 0.4em;box-sizing: border-box;padding-bottom: 0.4em;background-color: white;}#sk-container-id-1 div.sk-label label {font-family: monospace;font-weight: bold;display: inline-block;line-height: 1.2em;}#sk-container-id-1 div.sk-label-container {text-align: center;}#sk-container-id-1 div.sk-container {/* jupyter's `normalize.less` sets `[hidden] { display: none; }` but bootstrap.min.css set `[hidden] { display: none !important; }` so we also need the `!important` here to be able to override the default hidden behavior on the sphinx rendered scikit-learn.org. See: https://github.com/scikit-learn/scikit-learn/issues/21755 */display: inline-block !important;position: relative;}#sk-container-id-1 div.sk-text-repr-fallback {display: none;}</style><div id=\"sk-container-id-1\" class=\"sk-top-container\"><div class=\"sk-text-repr-fallback\"><pre>RandomForestClassifier(n_estimators=50, random_state=7)</pre><b>In a Jupyter environment, please rerun this cell to show the HTML representation or trust the notebook. <br />On GitHub, the HTML representation is unable to render, please try loading this page with nbviewer.org.</b></div><div class=\"sk-container\" hidden><div class=\"sk-item\"><div class=\"sk-estimator sk-toggleable\"><input class=\"sk-toggleable__control sk-hidden--visually\" id=\"sk-estimator-id-1\" type=\"checkbox\" checked><label for=\"sk-estimator-id-1\" class=\"sk-toggleable__label sk-toggleable__label-arrow\">RandomForestClassifier</label><div class=\"sk-toggleable__content\"><pre>RandomForestClassifier(n_estimators=50, random_state=7)</pre></div></div></div></div></div>"
            ]
          },
          "metadata": {},
          "execution_count": 2
        }
      ]
    },
    {
      "cell_type": "code",
      "source": [
        "y_pred = model.predict(X_test)\n",
        "\n",
        "from sklearn.metrics import accuracy_score, f1_score\n",
        "print(\"Accuracy:\",accuracy_score(y_test,y_pred))\n",
        "print(\"F1 score:\",f1_score(y_test,y_pred,pos_label='f'))"
      ],
      "metadata": {
        "colab": {
          "base_uri": "https://localhost:8080/"
        },
        "id": "cwLto3By1M1P",
        "outputId": "4901963f-40b3-4807-ef09-3ef55ab75bf5"
      },
      "execution_count": null,
      "outputs": [
        {
          "output_type": "stream",
          "name": "stdout",
          "text": [
            "Accuracy: 0.6666666666666666\n",
            "F1 score: 0.5333333333333333\n"
          ]
        }
      ]
    },
    {
      "cell_type": "markdown",
      "source": [
        "We can also get probabilities"
      ],
      "metadata": {
        "id": "RWoyUfAO3gQI"
      }
    },
    {
      "cell_type": "code",
      "source": [
        "y_pred_prob = model.predict_proba(X_test)\n",
        "print(model.classes_)\n",
        "print(y_pred_prob)"
      ],
      "metadata": {
        "colab": {
          "base_uri": "https://localhost:8080/"
        },
        "id": "Fmhjj7Z518Hx",
        "outputId": "d4d085c9-8f10-46e0-caf1-57dc75f37803"
      },
      "execution_count": null,
      "outputs": [
        {
          "output_type": "stream",
          "name": "stdout",
          "text": [
            "['f' 'm']\n",
            "[[0.28 0.72]\n",
            " [0.38 0.62]\n",
            " [0.46 0.54]\n",
            " [0.3  0.7 ]\n",
            " [0.56 0.44]\n",
            " [0.62 0.38]\n",
            " [0.42 0.58]\n",
            " [0.58 0.42]\n",
            " [0.44 0.56]\n",
            " [0.54 0.46]\n",
            " [0.4  0.6 ]\n",
            " [0.62 0.38]\n",
            " [0.12 0.88]\n",
            " [0.46 0.54]\n",
            " [0.22 0.78]\n",
            " [0.32 0.68]\n",
            " [0.56 0.44]\n",
            " [0.58 0.42]\n",
            " [0.48 0.52]\n",
            " [0.46 0.54]\n",
            " [0.1  0.9 ]]\n"
          ]
        }
      ]
    },
    {
      "cell_type": "markdown",
      "source": [
        "Random forest also gives us feature importance"
      ],
      "metadata": {
        "id": "ukZzem8U36mf"
      }
    },
    {
      "cell_type": "code",
      "source": [
        "ft_imp = model.feature_importances_\n",
        "for i in range(len(columns)):\n",
        "  print(columns[i], \":\", ft_imp[i])"
      ],
      "metadata": {
        "colab": {
          "base_uri": "https://localhost:8080/"
        },
        "id": "5WaOPPc535kg",
        "outputId": "2e46520a-6c44-454c-e0f7-d10ccf355a69"
      },
      "execution_count": null,
      "outputs": [
        {
          "output_type": "stream",
          "name": "stdout",
          "text": [
            "age : 0.04089882096919505\n",
            "hdlngth : 0.1540552461379076\n",
            "skullw : 0.09079949136070485\n",
            "totlngth : 0.10135543617843049\n",
            "taill : 0.09419633100235507\n",
            "footlgth : 0.12320007296488374\n",
            "earconch : 0.08766816271084943\n",
            "eye : 0.1262065600962883\n",
            "chest : 0.09279628862557043\n",
            "belly : 0.08882358995381497\n"
          ]
        }
      ]
    },
    {
      "cell_type": "markdown",
      "source": [
        "Does increasing number of trees give better results?"
      ],
      "metadata": {
        "id": "SStPjHb2-3cy"
      }
    },
    {
      "cell_type": "code",
      "source": [
        "scores = []\n",
        "# scores.append(accuracy_score(y_test,y_pred))\n",
        "num_trees = [50, 100, 150, 200, 250, 300, 350, 400]\n",
        "for n in num_trees:\n",
        "  model = RandomForestClassifier(n_estimators=n, random_state=7)\n",
        "  model.fit(X_train, y_train)\n",
        "  y_pred = model.predict(X_test)\n",
        "  scores.append(accuracy_score(y_test,y_pred))\n",
        "\n",
        "import matplotlib.pyplot as plt\n",
        "\n",
        "plt.plot(num_trees, scores)\n",
        "plt.show()"
      ],
      "metadata": {
        "colab": {
          "base_uri": "https://localhost:8080/",
          "height": 430
        },
        "id": "m_z7fIyY--Hf",
        "outputId": "a8847170-106e-48d4-8861-cc78edaf3c71"
      },
      "execution_count": null,
      "outputs": [
        {
          "output_type": "display_data",
          "data": {
            "text/plain": [
              "<Figure size 640x480 with 1 Axes>"
            ],
            "image/png": "[encoded data removed]"
          },
          "metadata": {}
        }
      ]
    },
    {
      "cell_type": "markdown",
      "source": [
        "Now lets learn a little about some of the many parameters of RandomForestClassifier"
      ],
      "metadata": {
        "id": "2iySYmq6CEUq"
      }
    },
    {
      "cell_type": "markdown",
      "source": [
        "[Random Forest Documentation](https://scikit-learn.org/stable/modules/generated/sklearn.ensemble.RandomForestClassifier.html)"
      ],
      "metadata": {
        "id": "0yPvUQOvFwrT"
      }
    },
    {
      "cell_type": "markdown",
      "source": [
        "OOB score"
      ],
      "metadata": {
        "id": "rP0-2rtyF98Y"
      }
    },
    {
      "cell_type": "markdown",
      "source": [
        "There is no necessity of test error for random forest. Why?\n",
        "\n",
        "As for any tree we are not goind to use the whole dataset, the part that was not used. So we can train the random forest model with the whole dataset.\n",
        "\n",
        "Random forest gives us the Out-of-Bag error. This error is calculated using the datapoints that were not used by that particular tree.\n",
        "\n",
        "In wikipedia's words: OOB error is the mean prediction error on each training sample $x_i$, using only the trees that did not have $x_i$ in their bootstrap sample."
      ],
      "metadata": {
        "id": "TFBH3eJtHT91"
      }
    },
    {
      "cell_type": "markdown",
      "source": [
        "sklearn also allows us to use OOB as a metric to measure the mode, instead of default accuracy score.\n",
        "\n",
        "Can you tell how to do that?\n",
        "\n",
        "We just went through the parameters of Random Forest, use them."
      ],
      "metadata": {
        "id": "a7kFJZeI2JEi"
      }
    },
    {
      "cell_type": "code",
      "source": [
        "scores = []\n",
        "# scores.append(accuracy_score(y_test,y_pred))\n",
        "num_trees = [50, 100, 150, 200, 250, 300, 350, 400]\n",
        "for n in num_trees:\n",
        "  model = RandomForestClassifier(n_estimators=n, random_state=7, oob_score=True)\n",
        "  model.fit(X, y)\n",
        "  # y_pred = model.predict(X_test)\n",
        "  scores.append(model.oob_score_)\n",
        "\n",
        "import matplotlib.pyplot as plt\n",
        "\n",
        "plt.plot(num_trees, scores)\n",
        "plt.show()"
      ],
      "metadata": {
        "colab": {
          "base_uri": "https://localhost:8080/",
          "height": 430
        },
        "id": "edpsYcHQFwOI",
        "outputId": "174a74a8-c082-4a5f-ab3f-11be3095919b"
      },
      "execution_count": null,
      "outputs": [
        {
          "output_type": "display_data",
          "data": {
            "text/plain": [
              "<Figure size 640x480 with 1 Axes>"
            ],
            "image/png": "[encoded data removed]"
          },
          "metadata": {}
        }
      ]
    }
  ]
}